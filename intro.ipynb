{
 "cells": [
  {
   "cell_type": "markdown",
   "metadata": {
    "slideshow": {
     "slide_type": "slide"
    }
   },
   "source": [
    "![Python](assets/python-logo-generic.svg)\n",
    "\n",
    "# Introduction\n",
    "김응섭"
   ]
  },
  {
   "cell_type": "markdown",
   "metadata": {
    "slideshow": {
     "slide_type": "slide"
    }
   },
   "source": [
    "## Outline\n",
    "* 교육내용 소개\n",
    "* Introduction to Python"
   ]
  },
  {
   "cell_type": "markdown",
   "metadata": {
    "slideshow": {
     "slide_type": "slide"
    }
   },
   "source": [
    "## 교육 소개\n",
    "\n",
    "* 교육 목적\n",
    "* 교육 방식\n",
    "* 교육 내용"
   ]
  },
  {
   "cell_type": "markdown",
   "metadata": {
    "slideshow": {
     "slide_type": "subslide"
    }
   },
   "source": [
    "## 교육 목적\n",
    "\n",
    "* Python을 유행시킴\n",
    "  * Workflow 자동화 툴로서\n",
    "  * 일상적으로 사용하는 언어로서\n",
    "  * Perl 및 Shell script를 대체\n",
    "* Open-source software 생태계의 발전된 기술 소개 및 사용 유도"
   ]
  },
  {
   "cell_type": "markdown",
   "metadata": {
    "slideshow": {
     "slide_type": "subslide"
    }
   },
   "source": [
    "## 교육 방식\n",
    "* 이론: 1시간/일 x 6일\n",
    "  * 7월 1주: 2, 3, 5 (4일 제외)\n",
    "  * 7월 2주: 9, 10, 11\n",
    "  * 연속 수강 필요\n",
    "* 실습: 1시간/일 x 5일\n",
    "  * 7월 5일 제외"
   ]
  },
  {
   "cell_type": "markdown",
   "metadata": {
    "slideshow": {
     "slide_type": "subslide"
    }
   },
   "source": [
    "## 교육 내용\n",
    "\n",
    "* Introduction\n",
    "* Data types\n",
    "* Controls\n",
    "* Function\n",
    "* Class\n",
    "* IO\n",
    "* Useful libraries"
   ]
  },
  {
   "cell_type": "markdown",
   "metadata": {
    "slideshow": {
     "slide_type": "slide"
    }
   },
   "source": [
    "## Outline\n",
    "* Introduction\n",
    "* Basic syntax"
   ]
  },
  {
   "cell_type": "markdown",
   "metadata": {
    "slideshow": {
     "slide_type": "slide"
    }
   },
   "source": [
    "## Introduction\n",
    "* 무엇인가?\n",
    "* 특징\n",
    "* 사용방법"
   ]
  },
  {
   "cell_type": "markdown",
   "metadata": {
    "slideshow": {
     "slide_type": "subslide"
    }
   },
   "source": [
    "![Python](assets/python-snake.jpg)\n",
    "* A widely used high-level programming language\n",
    "  * for general-purpose programming\n",
    "* first released in 1991\n",
    "  * created by Guido van Rossum\n",
    "* An interpreted language\n",
    "\n",
    "_(from Wikipedia)_"
   ]
  },
  {
   "cell_type": "markdown",
   "metadata": {
    "slideshow": {
     "slide_type": "subslide"
    }
   },
   "source": [
    "## Guido van Rossum\n",
    "* Author of the Python programming language\n",
    "![Guido](https://encrypted-tbn0.gstatic.com/images?q=tbn:ANd9GcTQWXLO-WcMhKFZt1JuhODdqO6Yrz10u8q1Ee-_uTMXjBC3TZILYA)"
   ]
  },
  {
   "cell_type": "markdown",
   "metadata": {
    "slideshow": {
     "slide_type": "subslide"
    }
   },
   "source": [
    "## Language popularity (2017)\n",
    "![rank](https://spectrum.ieee.org/image/MjkyNzIzNQ.jpeg)  \n",
    "\n",
    "_(from IEEE spectrum)_"
   ]
  },
  {
   "cell_type": "markdown",
   "metadata": {
    "slideshow": {
     "slide_type": "subslide"
    }
   },
   "source": [
    "## Language popularity (2017)\n",
    "![rank](assets/ranking-programming-languages-by-github-users.jpg)  \n",
    "\n",
    "_(GitHub # of PRs)_"
   ]
  },
  {
   "cell_type": "markdown",
   "metadata": {
    "slideshow": {
     "slide_type": "subslide"
    }
   },
   "source": [
    "## 특징 (언어 구분)\n",
    "* General purpose language\n",
    "* Modern dynamic language\n",
    "  * Dynamic type system\n",
    "  * Automatic memory management\n",
    "* Multi paradigm\n",
    "  * Procedural, Object Oriented, Functional"
   ]
  },
  {
   "cell_type": "markdown",
   "metadata": {
    "slideshow": {
     "slide_type": "subslide"
    }
   },
   "source": [
    "## 특징 (사용 구분)\n",
    "* 쉽고, 명확하고, 간결한 문법\n",
    "  * 배우기 쉽다\n",
    "  * 확장하기 쉽다\n",
    "  * 읽기 쉽다\n",
    "  * 단일 표현 방법 지향 (against Perl / Ruby)"
   ]
  },
  {
   "cell_type": "markdown",
   "metadata": {
    "slideshow": {
     "slide_type": "subslide"
    }
   },
   "source": [
    "## 특징 (사용 구분)\n",
    "\n",
    "* 모든 data가 Object\n",
    "* Indentation이 Syntax의 일부\n",
    "  * Code block을 구분\n",
    "* Easy to interface with C/Java/TCL\n",
    "* Has a large and comprehensive standard library\n",
    "* Lazy evaluation (Python 3)"
   ]
  },
  {
   "cell_type": "markdown",
   "metadata": {
    "slideshow": {
     "slide_type": "subslide"
    }
   },
   "source": [
    "## 이렇게 생겼어요"
   ]
  },
  {
   "cell_type": "code",
   "execution_count": 15,
   "metadata": {
    "slideshow": {
     "slide_type": "fragment"
    }
   },
   "outputs": [
    {
     "name": "stdout",
     "output_type": "stream",
     "text": [
      "Hello, World!\n"
     ]
    }
   ],
   "source": [
    "def greet(name):\n",
    "    print('Hello, {}!'.format(name))\n",
    "\n",
    "greet('World')"
   ]
  },
  {
   "cell_type": "markdown",
   "metadata": {
    "slideshow": {
     "slide_type": "subslide"
    }
   },
   "source": [
    "## Zen of Python"
   ]
  },
  {
   "cell_type": "code",
   "execution_count": 1,
   "metadata": {
    "slideshow": {
     "slide_type": "fragment"
    }
   },
   "outputs": [
    {
     "name": "stdout",
     "output_type": "stream",
     "text": [
      "The Zen of Python, by Tim Peters\n",
      "\n",
      "Beautiful is better than ugly.\n",
      "Explicit is better than implicit.\n",
      "Simple is better than complex.\n",
      "Complex is better than complicated.\n",
      "Flat is better than nested.\n",
      "Sparse is better than dense.\n",
      "Readability counts.\n",
      "Special cases aren't special enough to break the rules.\n",
      "Although practicality beats purity.\n",
      "Errors should never pass silently.\n",
      "Unless explicitly silenced.\n",
      "In the face of ambiguity, refuse the temptation to guess.\n",
      "There should be one-- and preferably only one --obvious way to do it.\n",
      "Although that way may not be obvious at first unless you're Dutch.\n",
      "Now is better than never.\n",
      "Although never is often better than *right* now.\n",
      "If the implementation is hard to explain, it's a bad idea.\n",
      "If the implementation is easy to explain, it may be a good idea.\n",
      "Namespaces are one honking great idea -- let's do more of those!\n"
     ]
    }
   ],
   "source": [
    "import this"
   ]
  },
  {
   "cell_type": "markdown",
   "metadata": {
    "slideshow": {
     "slide_type": "subslide"
    }
   },
   "source": [
    "## 파이썬 선(禪) (1/3)\n",
    "* 아름다움이 추함보다 좋다.\n",
    "* 명시가 암시보다 좋다.\n",
    "* 단순함이 복잡함보다 좋다.\n",
    "* 복잡함이 꼬인 것보다 좋다. 수평이 계층보다 좋다.\n",
    "* 여유로운 것이 밀집한 것보다 좋다.\n",
    "* 가독성은 중요하다."
   ]
  },
  {
   "cell_type": "markdown",
   "metadata": {
    "slideshow": {
     "slide_type": "subslide"
    }
   },
   "source": [
    "## 파이썬 선(禪) (2/3)\n",
    "* 특별한 경우라는 것은 규칙을 어겨야 할 정도로 특별한 것이 아니다.\n",
    "* 허나 실용성은 순수성에 우선한다.\n",
    "* 오류 앞에서 절대 침묵하지 말지어다.\n",
    "* 명시적으로 오류를 감추려는 의도가 아니라면.\n",
    "* 모호함을 앞에 두고, 이를 유추하겠다는 유혹을 버려라.\n",
    "* 어떤 일에든 명확한 - 바람직하며 유일한 - 방법이 존재한다."
   ]
  },
  {
   "cell_type": "markdown",
   "metadata": {
    "slideshow": {
     "slide_type": "subslide"
    }
   },
   "source": [
    "## 파이썬 선(禪) (3/3)\n",
    "* 비록 그대가 우둔하여 그 방법이 처음에는 명확해 보이지 않을지라도.\n",
    "* 지금 하는게 아예 안하는 것보다 낫다.\n",
    "* 아예 안하는 것이 지금 *당장*보다 나을 때도 있지만.\n",
    "* 구현 결과를 설명하기 어렵다면, 그 아이디어는 나쁘다.\n",
    "* 구현 결과를 설명하기 쉽다면, 그 아이디어는 좋은 아이디어일 수 있다.\n",
    "* 네임스페이스는 대박 좋은 아이디어다 -- 마구 남용해라!"
   ]
  },
  {
   "cell_type": "markdown",
   "metadata": {
    "slideshow": {
     "slide_type": "subslide"
    }
   },
   "source": [
    "## Python 2 vs 3\n",
    "### Life is short, Use Python 3\n",
    "![python3](assets/opengraph-icon-200x200.png)\n",
    "* Python 3 is not backward compatible to Python 2\n",
    "  * Python 3 -> 2로 가는 것은 라이브러리에서 지원\n",
    "  * Python 3 <- 2로 가는 것은 어려움"
   ]
  },
  {
   "cell_type": "markdown",
   "metadata": {
    "slideshow": {
     "slide_type": "subslide"
    }
   },
   "source": [
    "## Python 사용\n",
    "* 윈도우\n",
    "  * https://www.python.org/downloads/\n",
    "* vwp\n",
    "```\n",
    "$ source /user/dvutil/python3/env.csh  \n",
    "$ python user_program.py\n",
    "```\n",
    "* document\n",
    "  * https://docs.python.org/3/"
   ]
  },
  {
   "cell_type": "markdown",
   "metadata": {
    "slideshow": {
     "slide_type": "subslide"
    }
   },
   "source": [
    "## Python playground\n",
    "\n",
    "* https://repl.it/repls/GuiltyNavyAdaware\n",
    "* Online runtime 환경\n",
    "* 간단한 프로그램 작성에 용이\n",
    "* 보안에 주의!"
   ]
  },
  {
   "cell_type": "markdown",
   "metadata": {
    "slideshow": {
     "slide_type": "subslide"
    }
   },
   "source": [
    "## Python REPL\n",
    "* Read, Eval, Print Loop\n",
    "* Interactive shell\n",
    "```bash\n",
    "$ source /user/dvutil/python3/env.csh\n",
    "$ python\n",
    "Python 3.6.4 (default, Dec 19 2017, 15:26:29) \n",
    ">>> 3 + 4\n",
    "7\n",
    ">>> (Ctrl-D로 종료)\n",
    "$\n",
    "```"
   ]
  },
  {
   "cell_type": "markdown",
   "metadata": {
    "slideshow": {
     "slide_type": "subslide"
    }
   },
   "source": [
    "## IPython\n",
    "* Another Python REPL\n",
    "* Data 분석 분야에서 널리 쓰이는 확장된 REPL 환경\n",
    "* Jupyter notebook이라는 web interface와 연계됨\n",
    "* 이 슬라이드도 Jupyter notebook으로 작성됨\n",
    "![ipython](assets/ipython_small.png)"
   ]
  },
  {
   "cell_type": "markdown",
   "metadata": {
    "slideshow": {
     "slide_type": "subslide"
    }
   },
   "source": [
    "## 예제 코드 실행\n",
    "\n",
    "* 강의 자료\n",
    "  https://notebooks.azure.com/congeal/libraries/python-seminar\n",
    "* 강의 자료에 있는 예제 코드는 직접 실행 가능"
   ]
  },
  {
   "cell_type": "markdown",
   "metadata": {
    "slideshow": {
     "slide_type": "slide"
    }
   },
   "source": [
    "## Basic syntax\n",
    "* Syntax 특징\n",
    "* Assignment\n",
    "* Naming Rules"
   ]
  },
  {
   "cell_type": "markdown",
   "metadata": {
    "slideshow": {
     "slide_type": "subslide"
    }
   },
   "source": [
    "## Syntax 특징"
   ]
  },
  {
   "cell_type": "code",
   "execution_count": 17,
   "metadata": {
    "slideshow": {
     "slide_type": "fragment"
    }
   },
   "outputs": [
    {
     "name": "stdout",
     "output_type": "stream",
     "text": [
      "12\n",
      "HelloWorld\n"
     ]
    }
   ],
   "source": [
    "x = 34 - 23            # A comment.\n",
    "y = \"Hello\"            # Another one.\n",
    "z = 3.45\n",
    "if z == 3.45 or y == \"Hello\":\n",
    "  x = x + 1\n",
    "  y = y + \"World\"   # String concat.\n",
    "  print(x)\n",
    "print(y)"
   ]
  },
  {
   "cell_type": "markdown",
   "metadata": {
    "slideshow": {
     "slide_type": "subslide"
    }
   },
   "source": [
    "## Syntax 특징\n",
    "* Statement는 개행('\\n')으로 구분한다\n",
    "* '#'부터 줄의 끝까지 주석으로 간주한다\n",
    "* assignment를 통해 variable이 생성된다\n",
    "* Code block은 indentation으로 구분\n",
    "  * Indentation이 syntax의 일부\n",
    "  * 일관되지 않은 indentation은 Syntax error"
   ]
  },
  {
   "cell_type": "markdown",
   "metadata": {
    "slideshow": {
     "slide_type": "subslide"
    }
   },
   "source": [
    "## 용어 정리\n",
    "* Statement\n",
    "  * Line으로 구분되는 command\n",
    "    `Keyword ...`\n",
    "    * Python keyword로 정의되는 struct: `return 3`\n",
    "    * Assignment: `a = 3`\n",
    "    * Expression"
   ]
  },
  {
   "cell_type": "markdown",
   "metadata": {
    "slideshow": {
     "slide_type": "subslide"
    }
   },
   "source": [
    "## 용어 정리\n",
    "* Expression\n",
    "  `3 + 4*3 - func(2)`\n",
    "  * 값으로 평가되는 수식\n",
    "  * function call 포함"
   ]
  },
  {
   "cell_type": "markdown",
   "metadata": {
    "slideshow": {
     "slide_type": "subslide"
    }
   },
   "source": [
    "## 용어 정리\n",
    "* Literal\n",
    "  * Constant, Non-symbolic object\n",
    "  * integer: `3, 3.14`\n",
    "  * string: `\"hello\"`\n",
    "  * list: `[1, 2, 3]`"
   ]
  },
  {
   "cell_type": "markdown",
   "metadata": {
    "slideshow": {
     "slide_type": "subslide"
    }
   },
   "source": [
    "## Assignment\n",
    "* Assignment는 variable(LHS)이 object(RHS)를 가리키게 한다\n",
    "  * Variable은 object를 부르는 이름일 뿐, 저장 장소가 아니다\n",
    "* Variable 자체는 type을 갖지 않고 object가 type을 갖는다\n",
    "* LHS/RHS가 처음 등장하는 것이라면, assignment에 의해 생성된다"
   ]
  },
  {
   "cell_type": "markdown",
   "metadata": {
    "slideshow": {
     "slide_type": "subslide"
    }
   },
   "source": [
    "## Assignment"
   ]
  },
  {
   "cell_type": "code",
   "execution_count": 18,
   "metadata": {
    "slideshow": {
     "slide_type": "fragment"
    }
   },
   "outputs": [],
   "source": [
    "# a와 b가 동일한 obj를 가리킴\n",
    "a = 1   #1이라는 int object를 생성 후에 a가 이를 가리키게 한다\n",
    "b = a   #b는 a와 동일한 object인 1을 가리킨다\n",
    "assert id(a) == id(b)"
   ]
  },
  {
   "cell_type": "code",
   "execution_count": 1,
   "metadata": {
    "slideshow": {
     "slide_type": "skip"
    }
   },
   "outputs": [],
   "source": [
    "from graphviz import Source\n",
    "\n",
    "src_text = '''\n",
    "digraph {\n",
    "rankdir=LR;\n",
    "node [shape=box];\n",
    "a -> 1;\n",
    "b -> 1;\n",
    "a [shape=oval];\n",
    "b [shape=oval];\n",
    "}\n",
    "'''\n",
    "graph = Source(src_text)"
   ]
  },
  {
   "cell_type": "code",
   "execution_count": 2,
   "metadata": {
    "slideshow": {
     "slide_type": "fragment"
    }
   },
   "outputs": [
    {
     "data": {
      "image/svg+xml": [
       "<?xml version=\"1.0\" encoding=\"UTF-8\" standalone=\"no\"?>\n",
       "<!DOCTYPE svg PUBLIC \"-//W3C//DTD SVG 1.1//EN\"\n",
       " \"http://www.w3.org/Graphics/SVG/1.1/DTD/svg11.dtd\">\n",
       "<!-- Generated by graphviz version 2.38.0 (20140413.2041)\n",
       " -->\n",
       "<!-- Title: %3 Pages: 1 -->\n",
       "<svg width=\"152pt\" height=\"98pt\"\n",
       " viewBox=\"0.00 0.00 152.00 98.00\" xmlns=\"http://www.w3.org/2000/svg\" xmlns:xlink=\"http://www.w3.org/1999/xlink\">\n",
       "<g id=\"graph0\" class=\"graph\" transform=\"scale(1 1) rotate(0) translate(4 94)\">\n",
       "<title>%3</title>\n",
       "<polygon fill=\"white\" stroke=\"none\" points=\"-4,4 -4,-94 148,-94 148,4 -4,4\"/>\n",
       "<!-- a -->\n",
       "<g id=\"node1\" class=\"node\"><title>a</title>\n",
       "<ellipse fill=\"none\" stroke=\"black\" cx=\"27\" cy=\"-72\" rx=\"27\" ry=\"18\"/>\n",
       "<text text-anchor=\"middle\" x=\"27\" y=\"-68.3\" font-family=\"Times,serif\" font-size=\"14.00\">a</text>\n",
       "</g>\n",
       "<!-- 1 -->\n",
       "<g id=\"node2\" class=\"node\"><title>1</title>\n",
       "<polygon fill=\"none\" stroke=\"black\" points=\"144,-63 90,-63 90,-27 144,-27 144,-63\"/>\n",
       "<text text-anchor=\"middle\" x=\"117\" y=\"-41.3\" font-family=\"Times,serif\" font-size=\"14.00\">1</text>\n",
       "</g>\n",
       "<!-- a&#45;&gt;1 -->\n",
       "<g id=\"edge1\" class=\"edge\"><title>a&#45;&gt;1</title>\n",
       "<path fill=\"none\" stroke=\"black\" d=\"M52.0464,-64.6221C60.7333,-61.9568 70.7367,-58.8876 80.2131,-55.9801\"/>\n",
       "<polygon fill=\"black\" stroke=\"black\" points=\"81.287,-59.3117 89.8205,-53.0324 79.2337,-52.6196 81.287,-59.3117\"/>\n",
       "</g>\n",
       "<!-- b -->\n",
       "<g id=\"node3\" class=\"node\"><title>b</title>\n",
       "<ellipse fill=\"none\" stroke=\"black\" cx=\"27\" cy=\"-18\" rx=\"27\" ry=\"18\"/>\n",
       "<text text-anchor=\"middle\" x=\"27\" y=\"-14.3\" font-family=\"Times,serif\" font-size=\"14.00\">b</text>\n",
       "</g>\n",
       "<!-- b&#45;&gt;1 -->\n",
       "<g id=\"edge2\" class=\"edge\"><title>b&#45;&gt;1</title>\n",
       "<path fill=\"none\" stroke=\"black\" d=\"M52.0464,-25.3779C60.7333,-28.0432 70.7367,-31.1124 80.2131,-34.0199\"/>\n",
       "<polygon fill=\"black\" stroke=\"black\" points=\"79.2337,-37.3804 89.8205,-36.9676 81.287,-30.6883 79.2337,-37.3804\"/>\n",
       "</g>\n",
       "</g>\n",
       "</svg>\n"
      ],
      "text/plain": [
       "<graphviz.files.Source at 0x7f02f1e875f8>"
      ]
     },
     "execution_count": 2,
     "metadata": {},
     "output_type": "execute_result"
    }
   ],
   "source": [
    "graph"
   ]
  },
  {
   "cell_type": "markdown",
   "metadata": {
    "slideshow": {
     "slide_type": "subslide"
    }
   },
   "source": [
    "## Assignment\n",
    "* Object를 가리키는 reference가 하나도 없으면, object는 자동 소멸\n",
    "* 할당되지 않은 이름에 접근하면 오류가 발생된다\n",
    "* Assignment는 expression이 아니고 statement이다"
   ]
  },
  {
   "cell_type": "markdown",
   "metadata": {
    "slideshow": {
     "slide_type": "subslide"
    }
   },
   "source": [
    "## Assignment"
   ]
  },
  {
   "cell_type": "code",
   "execution_count": 21,
   "metadata": {
    "slideshow": {
     "slide_type": "fragment"
    }
   },
   "outputs": [
    {
     "ename": "NameError",
     "evalue": "name 'c' is not defined",
     "output_type": "error",
     "traceback": [
      "\u001b[0;31m---------------------------------------------------------------------------\u001b[0m",
      "\u001b[0;31mNameError\u001b[0m                                 Traceback (most recent call last)",
      "\u001b[0;32m<ipython-input-21-77a24a4766d0>\u001b[0m in \u001b[0;36m<module>\u001b[0;34m()\u001b[0m\n\u001b[0;32m----> 1\u001b[0;31m \u001b[0ma\u001b[0m \u001b[0;34m=\u001b[0m \u001b[0mc\u001b[0m   \u001b[0;31m#c는 할당된 적이 없으므로 접근할 수 없다\u001b[0m\u001b[0;34m\u001b[0m\u001b[0m\n\u001b[0m",
      "\u001b[0;31mNameError\u001b[0m: name 'c' is not defined"
     ]
    }
   ],
   "source": [
    "a = c   #c는 할당된 적이 없으므로 접근할 수 없다"
   ]
  },
  {
   "cell_type": "markdown",
   "metadata": {
    "slideshow": {
     "slide_type": "subslide"
    }
   },
   "source": [
    "## Assignment"
   ]
  },
  {
   "cell_type": "code",
   "execution_count": 22,
   "metadata": {
    "slideshow": {
     "slide_type": "fragment"
    }
   },
   "outputs": [
    {
     "name": "stdout",
     "output_type": "stream",
     "text": [
      "2\n"
     ]
    }
   ],
   "source": [
    "print(1+1)  #Expression은 값을 갖는다"
   ]
  },
  {
   "cell_type": "code",
   "execution_count": 23,
   "metadata": {
    "slideshow": {
     "slide_type": "fragment"
    }
   },
   "outputs": [
    {
     "ename": "TypeError",
     "evalue": "'a' is an invalid keyword argument for this function",
     "output_type": "error",
     "traceback": [
      "\u001b[0;31m---------------------------------------------------------------------------\u001b[0m",
      "\u001b[0;31mTypeError\u001b[0m                                 Traceback (most recent call last)",
      "\u001b[0;32m<ipython-input-23-c3745db1b299>\u001b[0m in \u001b[0;36m<module>\u001b[0;34m()\u001b[0m\n\u001b[0;32m----> 1\u001b[0;31m \u001b[0mprint\u001b[0m\u001b[0;34m(\u001b[0m\u001b[0ma\u001b[0m\u001b[0;34m=\u001b[0m\u001b[0;36m1\u001b[0m\u001b[0;34m+\u001b[0m\u001b[0;36m1\u001b[0m\u001b[0;34m)\u001b[0m  \u001b[0;31m#Assignment는 expression이 아니므로 값을 갖지 않는다\u001b[0m\u001b[0;34m\u001b[0m\u001b[0m\n\u001b[0m",
      "\u001b[0;31mTypeError\u001b[0m: 'a' is an invalid keyword argument for this function"
     ]
    }
   ],
   "source": [
    "print(a=1+1)  #Assignment는 expression이 아니므로 값을 갖지 않는다"
   ]
  },
  {
   "cell_type": "markdown",
   "metadata": {
    "slideshow": {
     "slide_type": "subslide"
    }
   },
   "source": [
    "## Multiple assignment"
   ]
  },
  {
   "cell_type": "code",
   "execution_count": 24,
   "metadata": {
    "slideshow": {
     "slide_type": "fragment"
    }
   },
   "outputs": [
    {
     "name": "stdout",
     "output_type": "stream",
     "text": [
      "2 3\n"
     ]
    }
   ],
   "source": [
    "x, y = 2, 3    #x = 2; y = 3\n",
    "print(x, y)"
   ]
  },
  {
   "cell_type": "code",
   "execution_count": 25,
   "metadata": {
    "slideshow": {
     "slide_type": "fragment"
    }
   },
   "outputs": [
    {
     "name": "stdout",
     "output_type": "stream",
     "text": [
      "3 2\n"
     ]
    }
   ],
   "source": [
    "x, y = y, x    #x = 3; y = 2 -> Swapping\n",
    "print(x, y)"
   ]
  },
  {
   "cell_type": "markdown",
   "metadata": {
    "slideshow": {
     "slide_type": "subslide"
    }
   },
   "source": [
    "## Augmented assignment\n",
    "* +=, -=, *=, /=, //=, %=, **=, <<=, >>=, &=, ^=, |=\n",
    "* LHS와 RHS와의 연산을 LHS에 assign"
   ]
  },
  {
   "cell_type": "code",
   "execution_count": 26,
   "metadata": {
    "slideshow": {
     "slide_type": "fragment"
    }
   },
   "outputs": [
    {
     "name": "stdout",
     "output_type": "stream",
     "text": [
      "4\n"
     ]
    }
   ],
   "source": [
    "a = 1\n",
    "b = 3\n",
    "a += b\n",
    "print(a)"
   ]
  },
  {
   "cell_type": "code",
   "execution_count": 27,
   "metadata": {
    "slideshow": {
     "slide_type": "fragment"
    }
   },
   "outputs": [
    {
     "name": "stdout",
     "output_type": "stream",
     "text": [
      "5\n"
     ]
    }
   ],
   "source": [
    "a += 1\n",
    "print(a)"
   ]
  },
  {
   "cell_type": "markdown",
   "metadata": {
    "slideshow": {
     "slide_type": "subslide"
    }
   },
   "source": [
    "## Naming Rules\n",
    "* Names are case sensitive and cannot start with a number. They can contain letters, numbers, and underscores.  \n",
    "  ```bob  Bob  _bob  _2_bob_  bob_2  BoB```\n",
    "* There are some reserved words: keyword, built-in functions"
   ]
  },
  {
   "cell_type": "markdown",
   "metadata": {
    "slideshow": {
     "slide_type": "subslide"
    }
   },
   "source": [
    "## Python reserved words\n",
    "```python\n",
    "and, assert, break, class, continue, def, del, elif,\n",
    "else, except, exec, finally, for, from, global, if,\n",
    "import, in, is, lambda, not, or, pass, print, raise,\n",
    "return, try, while\n",
    "```"
   ]
  },
  {
   "cell_type": "markdown",
   "metadata": {
    "slideshow": {
     "slide_type": "subslide"
    }
   },
   "source": [
    "## Built-in functions\n",
    "* 별도의 정의나 module import 없이 사용 가능한 함수\n",
    "* https://docs.python.org/3/library/functions.html\n",
    "* 교육 중 필요할 때 하나씩 설명할 예정"
   ]
  },
  {
   "cell_type": "markdown",
   "metadata": {
    "slideshow": {
     "slide_type": "subslide"
    }
   },
   "source": [
    "## Built-in function: print()\n",
    "* 전달된 object를 터미널에 출력"
   ]
  },
  {
   "cell_type": "code",
   "execution_count": 28,
   "metadata": {
    "slideshow": {
     "slide_type": "fragment"
    }
   },
   "outputs": [
    {
     "name": "stdout",
     "output_type": "stream",
     "text": [
      "Hello, world\n"
     ]
    }
   ],
   "source": [
    "print('Hello, world')"
   ]
  },
  {
   "cell_type": "markdown",
   "metadata": {
    "slideshow": {
     "slide_type": "fragment"
    }
   },
   "source": [
    "* 여러 object 출력\n",
    "  * object 사이는 빈 칸으로 구분 (변경 가능)\n",
    "  * string으로 변환 후 출력"
   ]
  },
  {
   "cell_type": "code",
   "execution_count": 29,
   "metadata": {
    "slideshow": {
     "slide_type": "fragment"
    }
   },
   "outputs": [
    {
     "name": "stdout",
     "output_type": "stream",
     "text": [
      "A 1 2\n"
     ]
    }
   ],
   "source": [
    "print('A', 1, 2)"
   ]
  },
  {
   "cell_type": "code",
   "execution_count": 30,
   "metadata": {
    "slideshow": {
     "slide_type": "fragment"
    }
   },
   "outputs": [
    {
     "name": "stdout",
     "output_type": "stream",
     "text": [
      "A, 1, 2\n"
     ]
    }
   ],
   "source": [
    "print('A', 1, 2, sep=', ')"
   ]
  },
  {
   "cell_type": "markdown",
   "metadata": {
    "slideshow": {
     "slide_type": "subslide"
    }
   },
   "source": [
    "## Built-in function: help()\n",
    "* 전달된 object에 대한 도움말 출력"
   ]
  },
  {
   "cell_type": "code",
   "execution_count": 31,
   "metadata": {
    "slideshow": {
     "slide_type": "fragment"
    }
   },
   "outputs": [
    {
     "name": "stdout",
     "output_type": "stream",
     "text": [
      "Help on built-in function print in module builtins:\n",
      "\n",
      "print(...)\n",
      "    print(value, ..., sep=' ', end='\\n', file=sys.stdout, flush=False)\n",
      "    \n",
      "    Prints the values to a stream, or to sys.stdout by default.\n",
      "    Optional keyword arguments:\n",
      "    file:  a file-like object (stream); defaults to the current sys.stdout.\n",
      "    sep:   string inserted between values, default a space.\n",
      "    end:   string appended after the last value, default a newline.\n",
      "    flush: whether to forcibly flush the stream.\n",
      "\n"
     ]
    }
   ],
   "source": [
    "help(print)"
   ]
  },
  {
   "cell_type": "markdown",
   "metadata": {
    "slideshow": {
     "slide_type": "subslide"
    }
   },
   "source": [
    "## Built-in function: input()\n",
    "* 터미널에서 사용자로부터 string을 입력 받음"
   ]
  },
  {
   "cell_type": "code",
   "execution_count": 32,
   "metadata": {
    "slideshow": {
     "slide_type": "fragment"
    }
   },
   "outputs": [
    {
     "name": "stdout",
     "output_type": "stream",
     "text": [
      "What's your name? Kim\n",
      "Kim\n"
     ]
    }
   ],
   "source": [
    "name = input(\"What's your name? \")\n",
    "print(name)"
   ]
  },
  {
   "cell_type": "markdown",
   "metadata": {
    "slideshow": {
     "slide_type": "slide"
    }
   },
   "source": [
    "## Wrap-up\n",
    "* Python is a popular modern dynamic language\n",
    "* Zen of Python: Python philosophy\n",
    "* Basic syntax highlighted\n",
    "* Some built-in functions introduced"
   ]
  },
  {
   "cell_type": "markdown",
   "metadata": {
    "slideshow": {
     "slide_type": "subslide"
    }
   },
   "source": [
    "## Reference\n",
    "* Python 소개\n",
    "  * Wikipedia\n",
    "    * https://en.wikipedia.org/wiki/Python_(programming_language)\n",
    "* 예제\n",
    "  * \"An introduction to Python\"\n",
    "    * http://tdc-www.harvard.edu/Python.pdf\n",
    "  * \"점프 투 파이썬\"\n",
    "    * https://wikidocs.net/book/1"
   ]
  }
 ],
 "metadata": {
  "celltoolbar": "Slideshow",
  "kernelspec": {
   "display_name": "Python 3.6",
   "language": "python",
   "name": "python36"
  },
  "language_info": {
   "codemirror_mode": {
    "name": "ipython",
    "version": 3
   },
   "file_extension": ".py",
   "mimetype": "text/x-python",
   "name": "python",
   "nbconvert_exporter": "python",
   "pygments_lexer": "ipython3",
   "version": "3.6.3"
  },
  "livereveal": {
   "transition": "zoom"
  }
 },
 "nbformat": 4,
 "nbformat_minor": 2
}
