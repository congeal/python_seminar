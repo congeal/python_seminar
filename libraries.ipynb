{
 "cells": [
  {
   "cell_type": "markdown",
   "metadata": {
    "slideshow": {
     "slide_type": "slide"
    }
   },
   "source": [
    "![Python](assets/python-logo-generic.svg)\n",
    "### Useful packages\n",
    "#### 김응섭"
   ]
  },
  {
   "cell_type": "markdown",
   "metadata": {
    "slideshow": {
     "slide_type": "slide"
    }
   },
   "source": [
    "## Outline\n",
    "* PIP\n",
    "* Pattern matching\n",
    "* Command line 처리\n",
    "* File 찾기\n",
    "* Subprocess"
   ]
  },
  {
   "cell_type": "markdown",
   "metadata": {
    "slideshow": {
     "slide_type": "slide"
    }
   },
   "source": [
    "## PyPI\n",
    "* PyPI is the default Package Index for the Python community\n",
    "* http://pypi.python.org\n",
    "* How to install a PyPI package:"
   ]
  },
  {
   "cell_type": "markdown",
   "metadata": {
    "slideshow": {
     "slide_type": "subslide"
    }
   },
   "source": [
    "## How to install a PyPI package:\n",
    "* 집에서\n",
    "\n",
    "```bash\n",
    "$ pip install <package_name>\n",
    "```\n",
    "\n",
    "* 회사 PC\n",
    "\n",
    "```bash\n",
    "$ pip —-proxy http://12.26.262.2:8080 —-trusted-host pypi.python.org\n",
    "```"
   ]
  },
  {
   "cell_type": "markdown",
   "metadata": {
    "slideshow": {
     "slide_type": "subslide"
    }
   },
   "source": [
    "## How about VWP?\n",
    "1. PyPI에서 원하는 패키지 이름을 검색\n",
    "1. 저한테 이메일로 패키지 이름을 알려주세요\n",
    "3. 설치는 그 주 주말에 이루어질 거에요"
   ]
  },
  {
   "cell_type": "markdown",
   "metadata": {
    "slideshow": {
     "slide_type": "slide"
    }
   },
   "source": [
    "## Pattern matching\n",
    "* Regular expression (re)\n",
    "* PyParsing"
   ]
  },
  {
   "cell_type": "markdown",
   "metadata": {
    "slideshow": {
     "slide_type": "subslide"
    }
   },
   "source": [
    "## regular expression\n",
    "* 문자열 매칭을 위한 패턴을 기술하는 방법\n",
    "* Python은 built-in module, re를 통해 지원"
   ]
  },
  {
   "cell_type": "markdown",
   "metadata": {
    "slideshow": {
     "slide_type": "subslide"
    }
   },
   "source": [
    "## Re example"
   ]
  },
  {
   "cell_type": "code",
   "execution_count": 1,
   "metadata": {
    "slideshow": {
     "slide_type": "fragment"
    }
   },
   "outputs": [
    {
     "name": "stdout",
     "output_type": "stream",
     "text": [
      "reporter: sec_apb0_reg_adp\n",
      "umsg_severity: ERROR\n",
      "umsg: UVM_READ, addr = 'h0000000000000408, data = 'h00000000\n"
     ]
    }
   ],
   "source": [
    "import re\n",
    "\n",
    "uvm_message = r\"UVM_(?P<umsg_severity>(ERROR|FATAL))\\s+\\((?P<reporter>.*)\\)\\s*(?P<umsg>.*)\"\n",
    "\n",
    "def test_uvm_message():\n",
    "    test_str = \"\"\"[805] UVM_ERROR (sec_apb0_reg_adp) UVM_READ, addr = 'h0000000000000408, data = 'h00000000\"\"\"\n",
    "    expect = {'umsg_severity': 'ERROR',\n",
    "              'reporter': 'sec_apb0_reg_adp',\n",
    "              'umsg': \"UVM_READ, addr = 'h0000000000000408, data = 'h00000000\"}\n",
    "    found = re.search(uvm_message, test_str)\n",
    "    for key, val in expect.items():\n",
    "        print(\"{}: {}\".format(key, val))\n",
    "        assert found.group(key) == expect[key]\n",
    "test_uvm_message()"
   ]
  },
  {
   "cell_type": "markdown",
   "metadata": {
    "slideshow": {
     "slide_type": "slide"
    }
   },
   "source": [
    "## Command line 처리\n",
    "* Command line\n",
    "* argv\n",
    "* optparse"
   ]
  },
  {
   "cell_type": "markdown",
   "metadata": {
    "slideshow": {
     "slide_type": "subslide"
    }
   },
   "source": [
    "## Command line \n",
    "\n",
    "\n",
    "\n",
    "\n",
    "* Script 사용자를 위한 인터페이스\n",
    "* Shell에서 script 실행시에 사용\n",
    "* example\n",
    "\n",
    "```bash\n",
    "$ my_script.py -o <optarg> -i <arg0> <arg1> ...\n",
    "```"
   ]
  },
  {
   "cell_type": "markdown",
   "metadata": {
    "slideshow": {
     "slide_type": "subslide"
    }
   },
   "source": [
    "## Posix guideline\n",
    "    * An option is a hyphen followed by a single alphanumeric character, like this: -o.\n",
    "    * An option may require an argument (which must appear immediately after the option); for * example, -o argument or -oargument.\n",
    "    * Options that do not require arguments can be grouped after a hyphen, so, for example, -lst * is equivalent to -t -l -s.\n",
    "    * Options can appear in any order; thus -lst is equivalent to -tls.\n",
    "    * Options can appear multiple times.\n",
    "    * Options precede other nonoption arguments: -lst nonoption.\n",
    "    * The -- argument terminates options.\n",
    "    * The - option is typically used to represent one of the standard input streams."
   ]
  },
  {
   "cell_type": "markdown",
   "metadata": {
    "slideshow": {
     "slide_type": "subslide"
    }
   },
   "source": [
    "## GNU guideline\n",
    "* POSIX guideline + long option\n",
    "* Long options consist of ‘--’ followed by a name made of alphanumeric characters and dashes.\n",
    "* To specify an argument for a long option, write ‘--name=value’.\n",
    "    * But, many utils use like `--name value`, instead"
   ]
  },
  {
   "cell_type": "markdown",
   "metadata": {
    "slideshow": {
     "slide_type": "subslide"
    }
   },
   "source": [
    "## EDA tool convention\n",
    "* Long option with '-' like -version\n",
    "    * can't group options: `-t -l -s` -> `-tls`\n",
    "* `+` argumen: user-specific options"
   ]
  },
  {
   "cell_type": "markdown",
   "metadata": {
    "slideshow": {
     "slide_type": "subslide"
    }
   },
   "source": [
    "## Command line args\n",
    "\n",
    "* sys.argv: args split by white spaces\n",
    "\n",
    "```python\n",
    "#!/usr/bin/env python\n",
    "import sys\n",
    "\n",
    "for e in sys.argv:\n",
    "    print(e)\n",
    "```"
   ]
  },
  {
   "cell_type": "markdown",
   "metadata": {
    "slideshow": {
     "slide_type": "fragment"
    }
   },
   "source": [
    "```bash\n",
    "$ ./cmd.py -o out_file -i --long-option=long-value --long opt arg0 arg1\n",
    "./cmd.py\n",
    "-o\n",
    "out_file\n",
    "-i\n",
    "--long-option=long-value\n",
    "--long\n",
    "opt\n",
    "arg0\n",
    "arg1\n",
    "```"
   ]
  },
  {
   "cell_type": "markdown",
   "metadata": {
    "slideshow": {
     "slide_type": "subslide"
    }
   },
   "source": [
    "## Command line parsers\n",
    "* getopt\n",
    "    * C-style parser for command line options\n",
    "* optparse\n",
    "    * Only GNU style command line options\n",
    "    * Deprecated since version 3.2\n",
    "* argparse\n",
    "    * Present standard\n",
    "    * GNU style, EDA style, Sub commands"
   ]
  },
  {
   "cell_type": "markdown",
   "metadata": {
    "slideshow": {
     "slide_type": "subslide"
    }
   },
   "source": [
    "## argparse example\n",
    "\n",
    "```python\n",
    "import argparse\n",
    "\n",
    "parser = argparse.ArgumentParser(description='Process some integers.')\n",
    "parser.add_argument('integers', metavar='N', type=int, nargs='+',\n",
    "                    help='an integer for the accumulator')\n",
    "parser.add_argument('--sum', dest='accumulate', action='store_const',\n",
    "                    const=sum, default=max,\n",
    "                    help='sum the integers (default: find the max)')\n",
    "\n",
    "args = parser.parse_args()\n",
    "print(args.accumulate(args.integers))\n",
    "```"
   ]
  },
  {
   "cell_type": "markdown",
   "metadata": {
    "slideshow": {
     "slide_type": "fragment"
    }
   },
   "source": [
    "```bash\n",
    "$ python prog.py -h\n",
    "usage: prog.py [-h] [--sum] N [N ...]\n",
    "\n",
    "Process some integers.\n",
    "\n",
    "positional arguments:\n",
    " N           an integer for the accumulator\n",
    "\n",
    "optional arguments:\n",
    " -h, --help  show this help message and exit\n",
    " --sum       sum the integers (default: find the max)\n",
    "```"
   ]
  },
  {
   "cell_type": "markdown",
   "metadata": {
    "slideshow": {
     "slide_type": "slide"
    }
   },
   "source": [
    "## File 찾기\n",
    "* os.path\n",
    "* pathlib"
   ]
  },
  {
   "cell_type": "markdown",
   "metadata": {
    "slideshow": {
     "slide_type": "subslide"
    }
   },
   "source": [
    "## os.path\n",
    "* Path를 나타내는 방식이 OS마다 다름\n",
    "    * Unix: `/usr/local/bin`\n",
    "    * Windows: `C:\\python64`\n",
    "* os.path\n",
    "    * OS-independent file operation 제공"
   ]
  },
  {
   "cell_type": "markdown",
   "metadata": {
    "slideshow": {
     "slide_type": "subslide"
    }
   },
   "source": [
    "## os.path operations\n",
    "* os.sep: path 구분 문자\n",
    "* os.getcwd(): 현재 디렉토리를 리턴\n",
    "* os.path.join()"
   ]
  },
  {
   "cell_type": "code",
   "execution_count": 2,
   "metadata": {
    "slideshow": {
     "slide_type": "fragment"
    }
   },
   "outputs": [
    {
     "name": "stdout",
     "output_type": "stream",
     "text": [
      "/\n",
      "/home/nbuser/library/x.html\n"
     ]
    }
   ],
   "source": [
    "import os\n",
    "print(os.sep)\n",
    "print(os.path.join(os.getcwd(), 'x.html'))"
   ]
  },
  {
   "cell_type": "markdown",
   "metadata": {
    "slideshow": {
     "slide_type": "subslide"
    }
   },
   "source": [
    "## os.path operations\n",
    "* os.path.abspath(f)\n",
    "* os.path.split(f): (dir, file)\n",
    "* os.path.splitext(f): (path, ext)\n",
    "* os.path.dirname(f): dir\n",
    "* os.path.basename(f): filename\n",
    "* os.path.relpath(f, start_path)"
   ]
  },
  {
   "cell_type": "markdown",
   "metadata": {
    "slideshow": {
     "slide_type": "subslide"
    }
   },
   "source": [
    "## os.path operations"
   ]
  },
  {
   "cell_type": "code",
   "execution_count": 3,
   "metadata": {
    "slideshow": {
     "slide_type": "fragment"
    }
   },
   "outputs": [
    {
     "name": "stdout",
     "output_type": "stream",
     "text": [
      "('/home/nbuser/library', 'x.html')\n",
      "('/home/nbuser/library/x', '.html')\n",
      "/home/nbuser/library\n",
      "x.html\n",
      "x.html\n"
     ]
    }
   ],
   "source": [
    "import os\n",
    "f = os.path.join(os.getcwd(), 'x.html')\n",
    "assert os.path.abspath('x.html') == f\n",
    "print(os.path.split(f))\n",
    "print(os.path.splitext(f))\n",
    "print(os.path.dirname(f))\n",
    "print(os.path.basename(f))\n",
    "print(os.path.relpath(f, os.getcwd()))"
   ]
  },
  {
   "cell_type": "markdown",
   "metadata": {
    "slideshow": {
     "slide_type": "subslide"
    }
   },
   "source": [
    "## os.path operations\n",
    "* Test functions"
   ]
  },
  {
   "cell_type": "code",
   "execution_count": 4,
   "metadata": {
    "slideshow": {
     "slide_type": "fragment"
    }
   },
   "outputs": [
    {
     "name": "stdout",
     "output_type": "stream",
     "text": [
      "True\n",
      "True\n",
      "False\n",
      "False\n"
     ]
    }
   ],
   "source": [
    "import os\n",
    "wd = os.getcwd()\n",
    "print(os.path.exists(wd))\n",
    "print(os.path.isdir(wd))\n",
    "print(os.path.isfile(wd))\n",
    "print(os.path.islink(wd))"
   ]
  },
  {
   "cell_type": "markdown",
   "metadata": {
    "slideshow": {
     "slide_type": "subslide"
    }
   },
   "source": [
    "## pathlib\n",
    "* python에서 도입된 고수준 path 조작 라이브러리\n",
    "* Object-oriented filesystem paths\n",
    "    * os.path는 str을 다루지만, pathlib은 Path obj를 다룸"
   ]
  },
  {
   "cell_type": "markdown",
   "metadata": {
    "slideshow": {
     "slide_type": "subslide"
    }
   },
   "source": [
    "## pathlib example\n",
    "* Listing subdirectories"
   ]
  },
  {
   "cell_type": "code",
   "execution_count": 5,
   "metadata": {
    "slideshow": {
     "slide_type": "fragment"
    }
   },
   "outputs": [
    {
     "name": "stdout",
     "output_type": "stream",
     "text": [
      "[PosixPath('.git'), PosixPath('.ipynb_checkpoints'), PosixPath('assets')]\n"
     ]
    }
   ],
   "source": [
    "from pathlib import Path\n",
    "\n",
    "p = Path('.')\n",
    "print([x for x in p.iterdir() if x.is_dir()])"
   ]
  },
  {
   "cell_type": "markdown",
   "metadata": {
    "slideshow": {
     "slide_type": "subslide"
    }
   },
   "source": [
    "## pathlib example\n",
    "* Recursive하게 하위 디렉토리 검색\n",
    "    * `*`: 현재 디렉토리 검색\n",
    "    * `**`: 모든 하위디렉토리 검색"
   ]
  },
  {
   "cell_type": "code",
   "execution_count": 6,
   "metadata": {
    "slideshow": {
     "slide_type": "fragment"
    }
   },
   "outputs": [
    {
     "name": "stdout",
     "output_type": "stream",
     "text": [
      "assets/python-logo-master-v3-TM.png\n",
      "assets/opengraph-icon-200x200.png\n",
      "assets/python.png\n"
     ]
    }
   ],
   "source": [
    "from pathlib import Path\n",
    "\n",
    "for p in Path('.').glob('**/*.png'):\n",
    "    print(p)"
   ]
  },
  {
   "cell_type": "markdown",
   "metadata": {
    "slideshow": {
     "slide_type": "subslide"
    }
   },
   "source": [
    "## pathlib operators\n",
    "* '/': join\n",
    "* str(): Path obj -> str"
   ]
  },
  {
   "cell_type": "code",
   "execution_count": 7,
   "metadata": {
    "slideshow": {
     "slide_type": "fragment"
    }
   },
   "outputs": [
    {
     "name": "stdout",
     "output_type": "stream",
     "text": [
      "x.html\n"
     ]
    }
   ],
   "source": [
    "from pathlib import Path\n",
    "\n",
    "p = Path('.')\n",
    "p1 = p / 'x.html'\n",
    "assert not isinstance(p1, str)\n",
    "print(str(p1))"
   ]
  },
  {
   "cell_type": "markdown",
   "metadata": {
    "slideshow": {
     "slide_type": "subslide"
    }
   },
   "source": [
    "## pathlib attributes\n",
    "* parts\n",
    "* parent\n",
    "* name\n",
    "* suffix\n",
    "* stem"
   ]
  },
  {
   "cell_type": "markdown",
   "metadata": {
    "slideshow": {
     "slide_type": "subslide"
    }
   },
   "source": [
    "## pathlib methods\n",
    "* match\n",
    "* relative_to\n",
    "* with_name\n",
    "* with_suffix"
   ]
  },
  {
   "cell_type": "markdown",
   "metadata": {
    "slideshow": {
     "slide_type": "subslide"
    }
   },
   "source": [
    "## pathlib methods\n",
    "* p.exists()\n",
    "* p.is_dir()\n",
    "* p.is_file()\n",
    "* p.is_symlink()"
   ]
  },
  {
   "cell_type": "markdown",
   "metadata": {
    "slideshow": {
     "slide_type": "subslide"
    }
   },
   "source": [
    "## pathlib static methods\n",
    "* Path.cwd()\n",
    "* Path.home()"
   ]
  },
  {
   "cell_type": "markdown",
   "metadata": {
    "slideshow": {
     "slide_type": "subslide"
    }
   },
   "source": [
    "## pathlib: file/dir 조작\n",
    "* mkdir\n",
    "* open\n",
    "* rename\n",
    "* unlink\n",
    "* rmdir"
   ]
  },
  {
   "cell_type": "markdown",
   "metadata": {
    "slideshow": {
     "slide_type": "slide"
    }
   },
   "source": [
    "## Subprocess\n",
    "* subprocess\n",
    "* sh"
   ]
  },
  {
   "cell_type": "markdown",
   "metadata": {
    "slideshow": {
     "slide_type": "subslide"
    }
   },
   "source": [
    "## Subprocess\n",
    "* Python에서 program을 실행시키기 위한 방법을 담은 standard library\n",
    "* call(): 명령 실행 후 exit code 리턴"
   ]
  },
  {
   "cell_type": "code",
   "execution_count": 12,
   "metadata": {
    "slideshow": {
     "slide_type": "fragment"
    }
   },
   "outputs": [
    {
     "name": "stdout",
     "output_type": "stream",
     "text": [
      "Return: 0\n"
     ]
    }
   ],
   "source": [
    "from subprocess import call\n",
    "\n",
    "sts = call('date')\n",
    "print('Return:', sts)"
   ]
  },
  {
   "cell_type": "markdown",
   "metadata": {
    "slideshow": {
     "slide_type": "subslide"
    }
   },
   "source": [
    "## Subprocess\n",
    "* check_output(): stdout을 리턴"
   ]
  },
  {
   "cell_type": "code",
   "execution_count": 13,
   "metadata": {
    "slideshow": {
     "slide_type": "fragment"
    }
   },
   "outputs": [
    {
     "name": "stdout",
     "output_type": "stream",
     "text": [
      "output: Fri Jun 29 08:19:22 UTC 2018\n",
      "\n"
     ]
    }
   ],
   "source": [
    "from subprocess import check_output\n",
    "\n",
    "output = check_output('date')\n",
    "print('output:', output.decode('utf-8'))"
   ]
  },
  {
   "cell_type": "markdown",
   "metadata": {
    "slideshow": {
     "slide_type": "subslide"
    }
   },
   "source": [
    "## Subprocess\n",
    "* Popen()\n",
    "    * PIPE 처리 등, 정밀 처리를 위해 사용\n",
    "* communicate()\n",
    "    * process의 I/O를 담당\n",
    "    * Process가 종료되기를 기다림"
   ]
  },
  {
   "cell_type": "code",
   "execution_count": 21,
   "metadata": {
    "slideshow": {
     "slide_type": "fragment"
    }
   },
   "outputs": [
    {
     "ename": "TypeError",
     "evalue": "__init__() got an unexpected keyword argument 'encoding'",
     "output_type": "error",
     "traceback": [
      "\u001b[0;31m---------------------------------------------------------------------------\u001b[0m",
      "\u001b[0;31mTypeError\u001b[0m                                 Traceback (most recent call last)",
      "\u001b[0;32m<ipython-input-21-501960a0122d>\u001b[0m in \u001b[0;36m<module>\u001b[0;34m()\u001b[0m\n\u001b[1;32m      1\u001b[0m \u001b[0;32mfrom\u001b[0m \u001b[0msubprocess\u001b[0m \u001b[0;32mimport\u001b[0m \u001b[0mPopen\u001b[0m\u001b[0;34m,\u001b[0m \u001b[0mPIPE\u001b[0m\u001b[0;34m\u001b[0m\u001b[0m\n\u001b[1;32m      2\u001b[0m \u001b[0;34m\u001b[0m\u001b[0m\n\u001b[0;32m----> 3\u001b[0;31m \u001b[0mp\u001b[0m \u001b[0;34m=\u001b[0m \u001b[0mPopen\u001b[0m\u001b[0;34m(\u001b[0m\u001b[0;34m'echo'\u001b[0m\u001b[0;34m,\u001b[0m \u001b[0mstdin\u001b[0m\u001b[0;34m=\u001b[0m\u001b[0mPIPE\u001b[0m\u001b[0;34m,\u001b[0m \u001b[0mencoding\u001b[0m\u001b[0;34m=\u001b[0m\u001b[0;34m'utf-8'\u001b[0m\u001b[0;34m)\u001b[0m\u001b[0;34m\u001b[0m\u001b[0m\n\u001b[0m\u001b[1;32m      4\u001b[0m \u001b[0mp\u001b[0m\u001b[0;34m.\u001b[0m\u001b[0mcommunicate\u001b[0m\u001b[0;34m(\u001b[0m\u001b[0;34m'Hello, world'\u001b[0m\u001b[0;34m)\u001b[0m\u001b[0;34m\u001b[0m\u001b[0m\n",
      "\u001b[0;31mTypeError\u001b[0m: __init__() got an unexpected keyword argument 'encoding'"
     ]
    }
   ],
   "source": [
    "from subprocess import Popen, PIPE\n",
    "\n",
    "p = Popen('echo', stdin=PIPE, encoding='utf-8')\n",
    "p.communicate('Hello, world')"
   ]
  },
  {
   "cell_type": "markdown",
   "metadata": {
    "slideshow": {
     "slide_type": "subslide"
    }
   },
   "source": [
    "## Popen\n",
    "* subprocess.PIPE\n",
    "    * IO를 Python에서 제어하도록 지정\n",
    "* (stdout, stderr) = communicate()\n",
    "    * process의 출력 내용을 tuple로 돌려줌"
   ]
  },
  {
   "cell_type": "code",
   "execution_count": 22,
   "metadata": {
    "slideshow": {
     "slide_type": "fragment"
    }
   },
   "outputs": [
    {
     "ename": "TypeError",
     "evalue": "__init__() got an unexpected keyword argument 'encoding'",
     "output_type": "error",
     "traceback": [
      "\u001b[0;31m---------------------------------------------------------------------------\u001b[0m",
      "\u001b[0;31mTypeError\u001b[0m                                 Traceback (most recent call last)",
      "\u001b[0;32m<ipython-input-22-7a32bb78dbab>\u001b[0m in \u001b[0;36m<module>\u001b[0;34m()\u001b[0m\n\u001b[1;32m      2\u001b[0m \u001b[0;34m\u001b[0m\u001b[0m\n\u001b[1;32m      3\u001b[0m p = Popen(['ls', '-al', 'old'], encoding='utf-8',\n\u001b[0;32m----> 4\u001b[0;31m             stdout=PIPE, stderr=PIPE)\n\u001b[0m\u001b[1;32m      5\u001b[0m \u001b[0;34m(\u001b[0m\u001b[0mout\u001b[0m\u001b[0;34m,\u001b[0m \u001b[0merr\u001b[0m\u001b[0;34m)\u001b[0m \u001b[0;34m=\u001b[0m \u001b[0mp\u001b[0m\u001b[0;34m.\u001b[0m\u001b[0mcommunicate\u001b[0m\u001b[0;34m(\u001b[0m\u001b[0;34m)\u001b[0m\u001b[0;34m\u001b[0m\u001b[0m\n\u001b[1;32m      6\u001b[0m \u001b[0mprint\u001b[0m\u001b[0;34m(\u001b[0m\u001b[0;34m'out:'\u001b[0m\u001b[0;34m,\u001b[0m \u001b[0mout\u001b[0m\u001b[0;34m)\u001b[0m\u001b[0;34m\u001b[0m\u001b[0m\n",
      "\u001b[0;31mTypeError\u001b[0m: __init__() got an unexpected keyword argument 'encoding'"
     ]
    }
   ],
   "source": [
    "from subprocess import Popen, PIPE\n",
    "\n",
    "p = Popen(['ls', '-al', 'old'], encoding='utf-8',\n",
    "            stdout=PIPE, stderr=PIPE)\n",
    "(out, err) = p.communicate()\n",
    "print('out:', out)\n",
    "print('err:', err)"
   ]
  },
  {
   "cell_type": "markdown",
   "metadata": {
    "slideshow": {
     "slide_type": "subslide"
    }
   },
   "source": [
    "## PIPE example\n",
    "* `ls | sort`"
   ]
  },
  {
   "cell_type": "code",
   "execution_count": 23,
   "metadata": {
    "slideshow": {
     "slide_type": "fragment"
    }
   },
   "outputs": [
    {
     "ename": "TypeError",
     "evalue": "__init__() got an unexpected keyword argument 'encoding'",
     "output_type": "error",
     "traceback": [
      "\u001b[0;31m---------------------------------------------------------------------------\u001b[0m",
      "\u001b[0;31mTypeError\u001b[0m                                 Traceback (most recent call last)",
      "\u001b[0;32m<ipython-input-23-4bad37f98559>\u001b[0m in \u001b[0;36m<module>\u001b[0;34m()\u001b[0m\n\u001b[1;32m      1\u001b[0m \u001b[0;32mfrom\u001b[0m \u001b[0msubprocess\u001b[0m \u001b[0;32mimport\u001b[0m \u001b[0mPopen\u001b[0m\u001b[0;34m,\u001b[0m \u001b[0mPIPE\u001b[0m\u001b[0;34m\u001b[0m\u001b[0m\n\u001b[1;32m      2\u001b[0m \u001b[0;34m\u001b[0m\u001b[0m\n\u001b[0;32m----> 3\u001b[0;31m \u001b[0mp_sort\u001b[0m \u001b[0;34m=\u001b[0m \u001b[0mPopen\u001b[0m\u001b[0;34m(\u001b[0m\u001b[0;34m[\u001b[0m\u001b[0;34m'sort'\u001b[0m\u001b[0;34m]\u001b[0m\u001b[0;34m,\u001b[0m \u001b[0mstdin\u001b[0m\u001b[0;34m=\u001b[0m\u001b[0mPIPE\u001b[0m\u001b[0;34m,\u001b[0m \u001b[0mstdout\u001b[0m\u001b[0;34m=\u001b[0m\u001b[0mPIPE\u001b[0m\u001b[0;34m,\u001b[0m \u001b[0mencoding\u001b[0m\u001b[0;34m=\u001b[0m\u001b[0;34m'utf-8'\u001b[0m\u001b[0;34m)\u001b[0m\u001b[0;34m\u001b[0m\u001b[0m\n\u001b[0m\u001b[1;32m      4\u001b[0m \u001b[0mp_ls\u001b[0m \u001b[0;34m=\u001b[0m \u001b[0mPopen\u001b[0m\u001b[0;34m(\u001b[0m\u001b[0;34m[\u001b[0m\u001b[0;34m'ls'\u001b[0m\u001b[0;34m,\u001b[0m \u001b[0;34m'old'\u001b[0m\u001b[0;34m]\u001b[0m\u001b[0;34m,\u001b[0m \u001b[0mstdout\u001b[0m\u001b[0;34m=\u001b[0m\u001b[0mp_sort\u001b[0m\u001b[0;34m.\u001b[0m\u001b[0mstdin\u001b[0m\u001b[0;34m,\u001b[0m \u001b[0mstdin\u001b[0m\u001b[0;34m=\u001b[0m\u001b[0mPIPE\u001b[0m\u001b[0;34m,\u001b[0m \u001b[0mencoding\u001b[0m\u001b[0;34m=\u001b[0m\u001b[0;34m'utf-8'\u001b[0m\u001b[0;34m)\u001b[0m\u001b[0;34m\u001b[0m\u001b[0m\n\u001b[1;32m      5\u001b[0m \u001b[0mresult\u001b[0m \u001b[0;34m=\u001b[0m \u001b[0mp_sort\u001b[0m\u001b[0;34m.\u001b[0m\u001b[0mcommunicate\u001b[0m\u001b[0;34m(\u001b[0m\u001b[0;34m)\u001b[0m\u001b[0;34m\u001b[0m\u001b[0m\n",
      "\u001b[0;31mTypeError\u001b[0m: __init__() got an unexpected keyword argument 'encoding'"
     ]
    }
   ],
   "source": [
    "from subprocess import Popen, PIPE\n",
    "\n",
    "p_sort = Popen(['sort'], stdin=PIPE, stdout=PIPE, encoding='utf-8')\n",
    "p_ls = Popen(['ls', 'old'], stdout=p_sort.stdin, stdin=PIPE, encoding='utf-8')\n",
    "result = p_sort.communicate()\n",
    "print(result[0])"
   ]
  },
  {
   "cell_type": "markdown",
   "metadata": {
    "slideshow": {
     "slide_type": "subslide"
    }
   },
   "source": [
    "## os.environ\n",
    "* Subprocess 실행 시에 environment variable을 변경 가능"
   ]
  },
  {
   "cell_type": "code",
   "execution_count": 25,
   "metadata": {
    "slideshow": {
     "slide_type": "fragment"
    }
   },
   "outputs": [
    {
     "ename": "TypeError",
     "evalue": "__init__() got an unexpected keyword argument 'encoding'",
     "output_type": "error",
     "traceback": [
      "\u001b[0;31m---------------------------------------------------------------------------\u001b[0m",
      "\u001b[0;31mTypeError\u001b[0m                                 Traceback (most recent call last)",
      "\u001b[0;32m<ipython-input-25-51611667f339>\u001b[0m in \u001b[0;36m<module>\u001b[0;34m()\u001b[0m\n\u001b[1;32m      3\u001b[0m \u001b[0mnew_env\u001b[0m \u001b[0;34m=\u001b[0m \u001b[0mos\u001b[0m\u001b[0;34m.\u001b[0m\u001b[0menviron\u001b[0m\u001b[0;34m.\u001b[0m\u001b[0mcopy\u001b[0m\u001b[0;34m(\u001b[0m\u001b[0;34m)\u001b[0m\u001b[0;34m\u001b[0m\u001b[0m\n\u001b[1;32m      4\u001b[0m \u001b[0mnew_env\u001b[0m\u001b[0;34m[\u001b[0m\u001b[0;34m'VAR'\u001b[0m\u001b[0;34m]\u001b[0m \u001b[0;34m=\u001b[0m \u001b[0;34m'hello'\u001b[0m\u001b[0;34m\u001b[0m\u001b[0m\n\u001b[0;32m----> 5\u001b[0;31m \u001b[0mp_sort\u001b[0m \u001b[0;34m=\u001b[0m \u001b[0mPopen\u001b[0m\u001b[0;34m(\u001b[0m\u001b[0;34m\"echo var: $VAR\"\u001b[0m\u001b[0;34m,\u001b[0m \u001b[0mshell\u001b[0m\u001b[0;34m=\u001b[0m\u001b[0;32mTrue\u001b[0m\u001b[0;34m,\u001b[0m \u001b[0mencoding\u001b[0m\u001b[0;34m=\u001b[0m\u001b[0;34m'utf-8'\u001b[0m\u001b[0;34m)\u001b[0m\u001b[0;34m\u001b[0m\u001b[0m\n\u001b[0m\u001b[1;32m      6\u001b[0m \u001b[0mp_sort\u001b[0m\u001b[0;34m.\u001b[0m\u001b[0mcommunicate\u001b[0m\u001b[0;34m(\u001b[0m\u001b[0;34m)\u001b[0m\u001b[0;34m\u001b[0m\u001b[0m\n",
      "\u001b[0;31mTypeError\u001b[0m: __init__() got an unexpected keyword argument 'encoding'"
     ]
    }
   ],
   "source": [
    "import os\n",
    "from subprocess import Popen\n",
    "new_env = os.environ.copy()\n",
    "new_env['VAR'] = 'hello'\n",
    "p_sort = Popen(\"echo var: $VAR\", shell=True, encoding='utf-8')\n",
    "p_sort.communicate()"
   ]
  },
  {
   "cell_type": "markdown",
   "metadata": {
    "slideshow": {
     "slide_type": "subslide"
    }
   },
   "source": [
    "## sh\n",
    "* Subprocess를 쉽게 제어할 수 있게 제작된 3rd-party library\n",
    "* https://amoffat.github.io/sh\n",
    "\n",
    "```python\n",
    "import sh\n",
    "sh.ls('-l')\n",
    "```"
   ]
  },
  {
   "cell_type": "markdown",
   "metadata": {
    "slideshow": {
     "slide_type": "slide"
    }
   },
   "source": [
    "## TODO\n",
    "- PIP 설명 변경 필요\n",
    "- Regular expression에 대한 설명 추가\n",
    "- pathlib에 실전 예제 추가\n",
    "- subprocess는 제외"
   ]
  }
 ],
 "metadata": {
  "celltoolbar": "Slideshow",
  "kernelspec": {
   "display_name": "Python 3",
   "language": "python",
   "name": "python3"
  },
  "language_info": {
   "codemirror_mode": {
    "name": "ipython",
    "version": 3
   },
   "file_extension": ".py",
   "mimetype": "text/x-python",
   "name": "python",
   "nbconvert_exporter": "python",
   "pygments_lexer": "ipython3",
   "version": "3.5.4"
  }
 },
 "nbformat": 4,
 "nbformat_minor": 2
}
