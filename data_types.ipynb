{
 "cells": [
  {
   "cell_type": "markdown",
   "metadata": {
    "slideshow": {
     "slide_type": "slide"
    }
   },
   "source": [
    "![Python](assets/python-logo-generic.svg)\n",
    "### Data types\n",
    "#### 김응섭"
   ]
  },
  {
   "cell_type": "markdown",
   "metadata": {
    "slideshow": {
     "slide_type": "slide"
    }
   },
   "source": [
    "## Outline\n",
    "* Basic data types\n",
    "* Collections"
   ]
  },
  {
   "cell_type": "markdown",
   "metadata": {
    "slideshow": {
     "slide_type": "slide"
    }
   },
   "source": [
    "## Basic data types\n",
    "* int\n",
    "* float\n",
    "* complex\n",
    "* str"
   ]
  },
  {
   "cell_type": "markdown",
   "metadata": {
    "slideshow": {
     "slide_type": "subslide"
    }
   },
   "source": [
    "## int literals\n",
    "  * Decimal: 0, 1, -10\n",
    "  * Hexadecimal(0x): 0xab69\n",
    "  * Octal(0o): 0o755\n",
    "  * Binary(0b): 0b1100\n",
    "  * Python3에서는 '```_```'를 임의로 삽입 가능: 0b1100_0011"
   ]
  },
  {
   "cell_type": "markdown",
   "metadata": {
    "slideshow": {
     "slide_type": "subslide"
    }
   },
   "source": [
    "## int operations"
   ]
  },
  {
   "cell_type": "code",
   "execution_count": 2,
   "metadata": {
    "slideshow": {
     "slide_type": "fragment"
    }
   },
   "outputs": [
    {
     "data": {
      "text/plain": [
       "7"
      ]
     },
     "execution_count": 2,
     "metadata": {},
     "output_type": "execute_result"
    }
   ],
   "source": [
    "3 + 4"
   ]
  },
  {
   "cell_type": "code",
   "execution_count": 3,
   "metadata": {
    "slideshow": {
     "slide_type": "fragment"
    }
   },
   "outputs": [
    {
     "data": {
      "text/plain": [
       "3"
      ]
     },
     "execution_count": 3,
     "metadata": {},
     "output_type": "execute_result"
    }
   ],
   "source": [
    "4 - 1"
   ]
  },
  {
   "cell_type": "code",
   "execution_count": 4,
   "metadata": {
    "slideshow": {
     "slide_type": "fragment"
    }
   },
   "outputs": [
    {
     "data": {
      "text/plain": [
       "8"
      ]
     },
     "execution_count": 4,
     "metadata": {},
     "output_type": "execute_result"
    }
   ],
   "source": [
    "2 * 4"
   ]
  },
  {
   "cell_type": "code",
   "execution_count": 5,
   "metadata": {
    "slideshow": {
     "slide_type": "fragment"
    }
   },
   "outputs": [
    {
     "data": {
      "text/plain": [
       "3.3333333333333335"
      ]
     },
     "execution_count": 5,
     "metadata": {},
     "output_type": "execute_result"
    }
   ],
   "source": [
    "10 / 3    # -> float"
   ]
  },
  {
   "cell_type": "markdown",
   "metadata": {
    "slideshow": {
     "slide_type": "subslide"
    }
   },
   "source": [
    "## int operations"
   ]
  },
  {
   "cell_type": "code",
   "execution_count": 6,
   "metadata": {
    "slideshow": {
     "slide_type": "fragment"
    }
   },
   "outputs": [
    {
     "data": {
      "text/plain": [
       "3"
      ]
     },
     "execution_count": 6,
     "metadata": {},
     "output_type": "execute_result"
    }
   ],
   "source": [
    "10 // 3  # -> int"
   ]
  },
  {
   "cell_type": "code",
   "execution_count": 7,
   "metadata": {
    "slideshow": {
     "slide_type": "fragment"
    }
   },
   "outputs": [
    {
     "data": {
      "text/plain": [
       "1"
      ]
     },
     "execution_count": 7,
     "metadata": {},
     "output_type": "execute_result"
    }
   ],
   "source": [
    "10 % 3    # -> int"
   ]
  },
  {
   "cell_type": "code",
   "execution_count": 8,
   "metadata": {
    "slideshow": {
     "slide_type": "fragment"
    }
   },
   "outputs": [
    {
     "data": {
      "text/plain": [
       "16"
      ]
     },
     "execution_count": 8,
     "metadata": {},
     "output_type": "execute_result"
    }
   ],
   "source": [
    "2 ** 4"
   ]
  },
  {
   "cell_type": "markdown",
   "metadata": {
    "slideshow": {
     "slide_type": "subslide"
    }
   },
   "source": [
    "## float\n",
    "* Literals: 3.14, -1.414, 4.24E+10\n",
    "* Math operations"
   ]
  },
  {
   "cell_type": "code",
   "execution_count": 9,
   "metadata": {
    "slideshow": {
     "slide_type": "fragment"
    }
   },
   "outputs": [
    {
     "data": {
      "text/plain": [
       "3"
      ]
     },
     "execution_count": 9,
     "metadata": {},
     "output_type": "execute_result"
    }
   ],
   "source": [
    "import math\n",
    "\n",
    "round(math.pi)     # built-in"
   ]
  },
  {
   "cell_type": "code",
   "execution_count": 10,
   "metadata": {
    "slideshow": {
     "slide_type": "fragment"
    }
   },
   "outputs": [
    {
     "data": {
      "text/plain": [
       "3.14"
      ]
     },
     "execution_count": 10,
     "metadata": {},
     "output_type": "execute_result"
    }
   ],
   "source": [
    "round(math.pi, 2)"
   ]
  },
  {
   "cell_type": "code",
   "execution_count": 11,
   "metadata": {
    "slideshow": {
     "slide_type": "fragment"
    }
   },
   "outputs": [
    {
     "data": {
      "text/plain": [
       "3"
      ]
     },
     "execution_count": 11,
     "metadata": {},
     "output_type": "execute_result"
    }
   ],
   "source": [
    "math.floor(math.pi)"
   ]
  },
  {
   "cell_type": "markdown",
   "metadata": {
    "slideshow": {
     "slide_type": "subslide"
    }
   },
   "source": [
    "## float\n",
    "* Math operations"
   ]
  },
  {
   "cell_type": "code",
   "execution_count": 12,
   "metadata": {
    "slideshow": {
     "slide_type": "fragment"
    }
   },
   "outputs": [
    {
     "data": {
      "text/plain": [
       "4"
      ]
     },
     "execution_count": 12,
     "metadata": {},
     "output_type": "execute_result"
    }
   ],
   "source": [
    "math.ceil(math.pi)"
   ]
  },
  {
   "cell_type": "code",
   "execution_count": 14,
   "metadata": {
    "slideshow": {
     "slide_type": "fragment"
    }
   },
   "outputs": [
    {
     "data": {
      "text/plain": [
       "-3"
      ]
     },
     "execution_count": 14,
     "metadata": {},
     "output_type": "execute_result"
    }
   ],
   "source": [
    "math.trunc(-3.5)"
   ]
  },
  {
   "cell_type": "code",
   "execution_count": 15,
   "metadata": {
    "slideshow": {
     "slide_type": "fragment"
    }
   },
   "outputs": [
    {
     "data": {
      "text/plain": [
       "-4"
      ]
     },
     "execution_count": 15,
     "metadata": {},
     "output_type": "execute_result"
    }
   ],
   "source": [
    "round(-3.5)"
   ]
  },
  {
   "cell_type": "code",
   "execution_count": 13,
   "metadata": {
    "slideshow": {
     "slide_type": "fragment"
    }
   },
   "outputs": [
    {
     "data": {
      "text/plain": [
       "2.0"
      ]
     },
     "execution_count": 13,
     "metadata": {},
     "output_type": "execute_result"
    }
   ],
   "source": [
    "math.log2(4)"
   ]
  },
  {
   "cell_type": "markdown",
   "metadata": {
    "slideshow": {
     "slide_type": "subslide"
    }
   },
   "source": [
    "## complex\n",
    "* Literals: 2 + 2j, 2.4 - 2.4j, (1 + 1j)\n",
    "* Operations"
   ]
  },
  {
   "cell_type": "code",
   "execution_count": 19,
   "metadata": {
    "slideshow": {
     "slide_type": "fragment"
    }
   },
   "outputs": [
    {
     "name": "stdout",
     "output_type": "stream",
     "text": [
      "(1+2j) 1.0 2.0\n"
     ]
    }
   ],
   "source": [
    "c = 1 + 2j\n",
    "print(c, c.real, c.imag) # properties"
   ]
  },
  {
   "cell_type": "code",
   "execution_count": 20,
   "metadata": {
    "slideshow": {
     "slide_type": "fragment"
    }
   },
   "outputs": [
    {
     "data": {
      "text/plain": [
       "(1-2j)"
      ]
     },
     "execution_count": 20,
     "metadata": {},
     "output_type": "execute_result"
    }
   ],
   "source": [
    "c.conjugate()    # member function"
   ]
  },
  {
   "cell_type": "code",
   "execution_count": 21,
   "metadata": {
    "slideshow": {
     "slide_type": "fragment"
    }
   },
   "outputs": [
    {
     "data": {
      "text/plain": [
       "2.23606797749979"
      ]
     },
     "execution_count": 21,
     "metadata": {},
     "output_type": "execute_result"
    }
   ],
   "source": [
    "abs(c)  # built-in"
   ]
  },
  {
   "cell_type": "markdown",
   "metadata": {
    "slideshow": {
     "slide_type": "subslide"
    }
   },
   "source": [
    "## complex\n",
    "* Literals: 2 + 2j, 2.4 - 2.4j, (1 + 1j)\n",
    "* Operations"
   ]
  },
  {
   "cell_type": "code",
   "execution_count": 22,
   "metadata": {
    "slideshow": {
     "slide_type": "fragment"
    }
   },
   "outputs": [
    {
     "data": {
      "text/plain": [
       "(2-1j)"
      ]
     },
     "execution_count": 22,
     "metadata": {},
     "output_type": "execute_result"
    }
   ],
   "source": [
    "c + (1-3j)"
   ]
  },
  {
   "cell_type": "code",
   "execution_count": 23,
   "metadata": {
    "slideshow": {
     "slide_type": "fragment"
    }
   },
   "outputs": [
    {
     "data": {
      "text/plain": [
       "(6-3j)"
      ]
     },
     "execution_count": 23,
     "metadata": {},
     "output_type": "execute_result"
    }
   ],
   "source": [
    "c*-3j"
   ]
  },
  {
   "cell_type": "markdown",
   "metadata": {
    "slideshow": {
     "slide_type": "subslide"
    }
   },
   "source": [
    "## str (string)\n",
    "* Literals:  \n",
    "  * ```\"This is a string.\"```  \n",
    "  * ```'This is also a string.'```\n",
    "  * \"\"와 ''의 의미 차이는 없음\n",
    "  * ```\"```을 포함한 string을 만들 때 유용: 'He said \"Stop\"'"
   ]
  },
  {
   "cell_type": "markdown",
   "metadata": {
    "slideshow": {
     "slide_type": "subslide"
    }
   },
   "source": [
    "## str\n",
    "* Multi-line string\n",
    "  ```\n",
    "  \"\"\"1st line\n",
    "  2nd line\"\"\"\n",
    "  ```\n",
    "  * ', \", \\n 등도 제한없이 표현 \n",
    "* 변수 대치 기능은 format() method를 이용"
   ]
  },
  {
   "cell_type": "markdown",
   "metadata": {
    "slideshow": {
     "slide_type": "subslide"
    }
   },
   "source": [
    "## str operations"
   ]
  },
  {
   "cell_type": "code",
   "execution_count": 24,
   "metadata": {
    "slideshow": {
     "slide_type": "fragment"
    }
   },
   "outputs": [
    {
     "data": {
      "text/plain": [
       "'pineapple'"
      ]
     },
     "execution_count": 24,
     "metadata": {},
     "output_type": "execute_result"
    }
   ],
   "source": [
    "a = 'pine'\n",
    "b = 'apple'\n",
    "a + b   # concatenation"
   ]
  },
  {
   "cell_type": "code",
   "execution_count": 25,
   "metadata": {
    "slideshow": {
     "slide_type": "fragment"
    }
   },
   "outputs": [
    {
     "data": {
      "text/plain": [
       "'pinepinepine'"
      ]
     },
     "execution_count": 25,
     "metadata": {},
     "output_type": "execute_result"
    }
   ],
   "source": [
    "a*3     # repetition"
   ]
  },
  {
   "cell_type": "code",
   "execution_count": 27,
   "metadata": {
    "slideshow": {
     "slide_type": "fragment"
    }
   },
   "outputs": [
    {
     "data": {
      "text/plain": [
       "12"
      ]
     },
     "execution_count": 27,
     "metadata": {},
     "output_type": "execute_result"
    }
   ],
   "source": [
    "len(a*3)  # Built-in function retuning the length of a collection"
   ]
  },
  {
   "cell_type": "markdown",
   "metadata": {
    "slideshow": {
     "slide_type": "subslide"
    }
   },
   "source": [
    "## str methods"
   ]
  },
  {
   "cell_type": "code",
   "execution_count": 28,
   "metadata": {
    "slideshow": {
     "slide_type": "fragment"
    }
   },
   "outputs": [
    {
     "data": {
      "text/plain": [
       "'PINE'"
      ]
     },
     "execution_count": 28,
     "metadata": {},
     "output_type": "execute_result"
    }
   ],
   "source": [
    "'pine'.upper()    # upper case"
   ]
  },
  {
   "cell_type": "code",
   "execution_count": 29,
   "metadata": {
    "slideshow": {
     "slide_type": "fragment"
    }
   },
   "outputs": [
    {
     "data": {
      "text/plain": [
       "'apple'"
      ]
     },
     "execution_count": 29,
     "metadata": {},
     "output_type": "execute_result"
    }
   ],
   "source": [
    "'APPLE'.lower()   # lower case"
   ]
  },
  {
   "cell_type": "code",
   "execution_count": 30,
   "metadata": {
    "slideshow": {
     "slide_type": "fragment"
    }
   },
   "outputs": [
    {
     "data": {
      "text/plain": [
       "'Pineapple'"
      ]
     },
     "execution_count": 30,
     "metadata": {},
     "output_type": "execute_result"
    }
   ],
   "source": [
    "'pineApple'.capitalize()"
   ]
  },
  {
   "cell_type": "code",
   "execution_count": 31,
   "metadata": {
    "slideshow": {
     "slide_type": "fragment"
    }
   },
   "outputs": [
    {
     "data": {
      "text/plain": [
       "'pineapple'"
      ]
     },
     "execution_count": 31,
     "metadata": {},
     "output_type": "execute_result"
    }
   ],
   "source": [
    "'  pineapple   '.strip()"
   ]
  },
  {
   "cell_type": "markdown",
   "metadata": {
    "slideshow": {
     "slide_type": "subslide"
    }
   },
   "source": [
    "## str methods"
   ]
  },
  {
   "cell_type": "code",
   "execution_count": 32,
   "metadata": {
    "slideshow": {
     "slide_type": "fragment"
    }
   },
   "outputs": [
    {
     "data": {
      "text/plain": [
       "True"
      ]
     },
     "execution_count": 32,
     "metadata": {},
     "output_type": "execute_result"
    }
   ],
   "source": [
    "'pine'.isalpha()"
   ]
  },
  {
   "cell_type": "code",
   "execution_count": 33,
   "metadata": {
    "slideshow": {
     "slide_type": "fragment"
    }
   },
   "outputs": [
    {
     "data": {
      "text/plain": [
       "True"
      ]
     },
     "execution_count": 33,
     "metadata": {},
     "output_type": "execute_result"
    }
   ],
   "source": [
    "'pine3'.isalnum()"
   ]
  },
  {
   "cell_type": "code",
   "execution_count": 34,
   "metadata": {
    "slideshow": {
     "slide_type": "fragment"
    }
   },
   "outputs": [
    {
     "data": {
      "text/plain": [
       "True"
      ]
     },
     "execution_count": 34,
     "metadata": {},
     "output_type": "execute_result"
    }
   ],
   "source": [
    "'my_precious0'.isidentifier()"
   ]
  },
  {
   "cell_type": "code",
   "execution_count": 35,
   "metadata": {
    "slideshow": {
     "slide_type": "fragment"
    }
   },
   "outputs": [
    {
     "data": {
      "text/plain": [
       "True"
      ]
     },
     "execution_count": 35,
     "metadata": {},
     "output_type": "execute_result"
    }
   ],
   "source": [
    "'pineapple'.startswith('pine')"
   ]
  },
  {
   "cell_type": "code",
   "execution_count": 36,
   "metadata": {
    "slideshow": {
     "slide_type": "fragment"
    }
   },
   "outputs": [
    {
     "data": {
      "text/plain": [
       "True"
      ]
     },
     "execution_count": 36,
     "metadata": {},
     "output_type": "execute_result"
    }
   ],
   "source": [
    "'pineapple'.endswith('apple')"
   ]
  },
  {
   "cell_type": "markdown",
   "metadata": {
    "slideshow": {
     "slide_type": "subslide"
    }
   },
   "source": [
    "## Indexing"
   ]
  },
  {
   "cell_type": "code",
   "execution_count": 1,
   "metadata": {
    "slideshow": {
     "slide_type": "skip"
    }
   },
   "outputs": [],
   "source": [
    "from graphviz import Source\n",
    "\n",
    "idx_text = '''\n",
    "digraph {\n",
    "  splines=false;\n",
    "  obj [shape=record, label=\"{{ {0|<P>P} | {1|y} | {2|t} | {3|h} | {4|o} | {5|<n>n} | {6|<e>} }}\"];\n",
    "  \n",
    "  S [shape=plaintext, label=\"origin\"];\n",
    "  E [shape=plaintext, label=\"the end\"];\n",
    "  N [shape=plaintext, label=\"past the end\", fontcolor=\"red\"];\n",
    "  \n",
    "  obj:P -> S [dir=back];\n",
    "  obj:n -> E [dir=back];\n",
    "  obj:e -> N [dir=back];\n",
    "}\n",
    "'''\n",
    "idx_graph = Source(idx_text)"
   ]
  },
  {
   "cell_type": "code",
   "execution_count": 2,
   "metadata": {
    "slideshow": {
     "slide_type": "fragment"
    }
   },
   "outputs": [
    {
     "data": {
      "image/svg+xml": [
       "<?xml version=\"1.0\" encoding=\"UTF-8\" standalone=\"no\"?>\n",
       "<!DOCTYPE svg PUBLIC \"-//W3C//DTD SVG 1.1//EN\"\n",
       " \"http://www.w3.org/Graphics/SVG/1.1/DTD/svg11.dtd\">\n",
       "<!-- Generated by graphviz version 2.38.0 (20140413.2041)\n",
       " -->\n",
       "<!-- Title: %3 Pages: 1 -->\n",
       "<svg width=\"257pt\" height=\"127pt\"\n",
       " viewBox=\"0.00 0.00 257.00 127.00\" xmlns=\"http://www.w3.org/2000/svg\" xmlns:xlink=\"http://www.w3.org/1999/xlink\">\n",
       "<g id=\"graph0\" class=\"graph\" transform=\"scale(1 1) rotate(0) translate(4 123)\">\n",
       "<title>%3</title>\n",
       "<polygon fill=\"white\" stroke=\"none\" points=\"-4,4 -4,-123 253,-123 253,4 -4,4\"/>\n",
       "<!-- obj -->\n",
       "<g id=\"node1\" class=\"node\"><title>obj</title>\n",
       "<polygon fill=\"none\" stroke=\"black\" points=\"15,-72.5 15,-118.5 177,-118.5 177,-72.5 15,-72.5\"/>\n",
       "<text text-anchor=\"middle\" x=\"27\" y=\"-103.3\" font-family=\"Times,serif\" font-size=\"14.00\">0</text>\n",
       "<polyline fill=\"none\" stroke=\"black\" points=\"15,-95.5 39,-95.5 \"/>\n",
       "<text text-anchor=\"middle\" x=\"27\" y=\"-80.3\" font-family=\"Times,serif\" font-size=\"14.00\">P</text>\n",
       "<polyline fill=\"none\" stroke=\"black\" points=\"39,-72.5 39,-118.5 \"/>\n",
       "<text text-anchor=\"middle\" x=\"50.5\" y=\"-103.3\" font-family=\"Times,serif\" font-size=\"14.00\">1</text>\n",
       "<polyline fill=\"none\" stroke=\"black\" points=\"39,-95.5 62,-95.5 \"/>\n",
       "<text text-anchor=\"middle\" x=\"50.5\" y=\"-80.3\" font-family=\"Times,serif\" font-size=\"14.00\">y</text>\n",
       "<polyline fill=\"none\" stroke=\"black\" points=\"62,-72.5 62,-118.5 \"/>\n",
       "<text text-anchor=\"middle\" x=\"73.5\" y=\"-103.3\" font-family=\"Times,serif\" font-size=\"14.00\">2</text>\n",
       "<polyline fill=\"none\" stroke=\"black\" points=\"62,-95.5 85,-95.5 \"/>\n",
       "<text text-anchor=\"middle\" x=\"73.5\" y=\"-80.3\" font-family=\"Times,serif\" font-size=\"14.00\">t</text>\n",
       "<polyline fill=\"none\" stroke=\"black\" points=\"85,-72.5 85,-118.5 \"/>\n",
       "<text text-anchor=\"middle\" x=\"96.5\" y=\"-103.3\" font-family=\"Times,serif\" font-size=\"14.00\">3</text>\n",
       "<polyline fill=\"none\" stroke=\"black\" points=\"85,-95.5 108,-95.5 \"/>\n",
       "<text text-anchor=\"middle\" x=\"96.5\" y=\"-80.3\" font-family=\"Times,serif\" font-size=\"14.00\">h</text>\n",
       "<polyline fill=\"none\" stroke=\"black\" points=\"108,-72.5 108,-118.5 \"/>\n",
       "<text text-anchor=\"middle\" x=\"119.5\" y=\"-103.3\" font-family=\"Times,serif\" font-size=\"14.00\">4</text>\n",
       "<polyline fill=\"none\" stroke=\"black\" points=\"108,-95.5 131,-95.5 \"/>\n",
       "<text text-anchor=\"middle\" x=\"119.5\" y=\"-80.3\" font-family=\"Times,serif\" font-size=\"14.00\">o</text>\n",
       "<polyline fill=\"none\" stroke=\"black\" points=\"131,-72.5 131,-118.5 \"/>\n",
       "<text text-anchor=\"middle\" x=\"142.5\" y=\"-103.3\" font-family=\"Times,serif\" font-size=\"14.00\">5</text>\n",
       "<polyline fill=\"none\" stroke=\"black\" points=\"131,-95.5 154,-95.5 \"/>\n",
       "<text text-anchor=\"middle\" x=\"142.5\" y=\"-80.3\" font-family=\"Times,serif\" font-size=\"14.00\">n</text>\n",
       "<polyline fill=\"none\" stroke=\"black\" points=\"154,-72.5 154,-118.5 \"/>\n",
       "<text text-anchor=\"middle\" x=\"165.5\" y=\"-103.3\" font-family=\"Times,serif\" font-size=\"14.00\">6</text>\n",
       "<polyline fill=\"none\" stroke=\"black\" points=\"154,-95.5 177,-95.5 \"/>\n",
       "<text text-anchor=\"middle\" x=\"165.5\" y=\"-80.3\" font-family=\"Times,serif\" font-size=\"14.00\"> </text>\n",
       "</g>\n",
       "<!-- S -->\n",
       "<g id=\"node2\" class=\"node\"><title>S</title>\n",
       "<text text-anchor=\"middle\" x=\"27\" y=\"-14.3\" font-family=\"Times,serif\" font-size=\"14.00\">origin</text>\n",
       "</g>\n",
       "<!-- obj&#45;&gt;S -->\n",
       "<g id=\"edge1\" class=\"edge\"><title>obj:P&#45;&gt;S</title>\n",
       "<path fill=\"none\" stroke=\"black\" d=\"M27,-61.7693C27,-54.4883 27,-44.5343 27,-36.0613\"/>\n",
       "<polygon fill=\"black\" stroke=\"black\" points=\"23.5001,-62 27,-72 30.5001,-62 23.5001,-62\"/>\n",
       "</g>\n",
       "<!-- E -->\n",
       "<g id=\"node3\" class=\"node\"><title>E</title>\n",
       "<text text-anchor=\"middle\" x=\"121\" y=\"-14.3\" font-family=\"Times,serif\" font-size=\"14.00\">the end</text>\n",
       "</g>\n",
       "<!-- obj&#45;&gt;E -->\n",
       "<g id=\"edge2\" class=\"edge\"><title>obj:n&#45;&gt;E</title>\n",
       "<path fill=\"none\" stroke=\"black\" d=\"M139.136,-62.6904C136.086,-55.3442 131.75,-44.8975 128.082,-36.0613\"/>\n",
       "<polygon fill=\"black\" stroke=\"black\" points=\"135.934,-64.1059 143,-72 142.399,-61.4222 135.934,-64.1059\"/>\n",
       "</g>\n",
       "<!-- N -->\n",
       "<g id=\"node4\" class=\"node\"><title>N</title>\n",
       "<text text-anchor=\"middle\" x=\"208\" y=\"-14.3\" font-family=\"Times,serif\" font-size=\"14.00\" fill=\"red\">past the end</text>\n",
       "</g>\n",
       "<!-- obj&#45;&gt;N -->\n",
       "<g id=\"edge3\" class=\"edge\"><title>obj:e&#45;&gt;N</title>\n",
       "<path fill=\"none\" stroke=\"black\" d=\"M172.217,-64.1547C178.059,-56.7828 186.998,-45.5027 194.48,-36.0613\"/>\n",
       "<polygon fill=\"black\" stroke=\"black\" points=\"169.468,-61.9887 166,-72 174.954,-66.3363 169.468,-61.9887\"/>\n",
       "</g>\n",
       "</g>\n",
       "</svg>\n"
      ],
      "text/plain": [
       "<graphviz.files.Source at 0x7fcfad4c8630>"
      ]
     },
     "execution_count": 2,
     "metadata": {},
     "output_type": "execute_result"
    }
   ],
   "source": [
    "idx_graph"
   ]
  },
  {
   "cell_type": "markdown",
   "metadata": {
    "slideshow": {
     "slide_type": "subslide"
    }
   },
   "source": [
    "## Reverse indexing"
   ]
  },
  {
   "cell_type": "code",
   "execution_count": 9,
   "metadata": {
    "slideshow": {
     "slide_type": "skip"
    }
   },
   "outputs": [],
   "source": [
    "from graphviz import Source\n",
    "\n",
    "rev_text = '''\n",
    "digraph {\n",
    "  node [shape=plaintext];\n",
    "  obj [label=< <table border=\"0\" cellborder=\"1\" cellspacing=\"0\">\n",
    "  <TR><TD border=\"0\">-</TD><TD border=\"0\">6</TD><TD border=\"0\">5</TD><TD border=\"0\">4</TD><TD border=\"0\">3</TD><TD border=\"0\">2</TD><TD border=\"0\">1</TD><TD border=\"0\">&nbsp;</TD></TR>\n",
    "  <TR><TD border=\"0\">+</TD><TD border=\"0\">0</TD><TD border=\"0\">1</TD><TD border=\"0\">2</TD><TD border=\"0\">3</TD><TD border=\"0\">4</TD><TD border=\"0\">5</TD><TD border=\"0\">6</TD></TR>\n",
    "  <TR><TD border=\"0\">&nbsp;</TD><TD>P</TD><TD>y</TD><TD>t</TD><TD>h</TD><TD>o</TD><TD>n</TD><TD>&nbsp;</TD></TR>\n",
    "  </table> >];\n",
    "}\n",
    "'''\n",
    "rev_graph = Source(rev_text)"
   ]
  },
  {
   "cell_type": "code",
   "execution_count": 10,
   "metadata": {
    "slideshow": {
     "slide_type": "fragment"
    }
   },
   "outputs": [
    {
     "data": {
      "image/svg+xml": [
       "<?xml version=\"1.0\" encoding=\"UTF-8\" standalone=\"no\"?>\n",
       "<!DOCTYPE svg PUBLIC \"-//W3C//DTD SVG 1.1//EN\"\n",
       " \"http://www.w3.org/Graphics/SVG/1.1/DTD/svg11.dtd\">\n",
       "<!-- Generated by graphviz version 2.38.0 (20140413.2041)\n",
       " -->\n",
       "<!-- Title: %3 Pages: 1 -->\n",
       "<svg width=\"125pt\" height=\"75pt\"\n",
       " viewBox=\"0.00 0.00 125.00 75.00\" xmlns=\"http://www.w3.org/2000/svg\" xmlns:xlink=\"http://www.w3.org/1999/xlink\">\n",
       "<g id=\"graph0\" class=\"graph\" transform=\"scale(1 1) rotate(0) translate(4 71)\">\n",
       "<title>%3</title>\n",
       "<polygon fill=\"white\" stroke=\"none\" points=\"-4,4 -4,-71 121,-71 121,4 -4,4\"/>\n",
       "<!-- obj -->\n",
       "<g id=\"node1\" class=\"node\"><title>obj</title>\n",
       "<text text-anchor=\"start\" x=\"12.5\" y=\"-49.3\" font-family=\"Times,serif\" font-size=\"14.00\">&#45;</text>\n",
       "<text text-anchor=\"start\" x=\"25\" y=\"-49.3\" font-family=\"Times,serif\" font-size=\"14.00\">6</text>\n",
       "<text text-anchor=\"start\" x=\"38.5\" y=\"-49.3\" font-family=\"Times,serif\" font-size=\"14.00\">5</text>\n",
       "<text text-anchor=\"start\" x=\"50.5\" y=\"-49.3\" font-family=\"Times,serif\" font-size=\"14.00\">4</text>\n",
       "<text text-anchor=\"start\" x=\"62.5\" y=\"-49.3\" font-family=\"Times,serif\" font-size=\"14.00\">3</text>\n",
       "<text text-anchor=\"start\" x=\"75.5\" y=\"-49.3\" font-family=\"Times,serif\" font-size=\"14.00\">2</text>\n",
       "<text text-anchor=\"start\" x=\"88.5\" y=\"-49.3\" font-family=\"Times,serif\" font-size=\"14.00\">1</text>\n",
       "<text text-anchor=\"start\" x=\"102\" y=\"-49.3\" font-family=\"Times,serif\" font-size=\"14.00\"> </text>\n",
       "<text text-anchor=\"start\" x=\"10.5\" y=\"-30.3\" font-family=\"Times,serif\" font-size=\"14.00\">+</text>\n",
       "<text text-anchor=\"start\" x=\"25\" y=\"-30.3\" font-family=\"Times,serif\" font-size=\"14.00\">0</text>\n",
       "<text text-anchor=\"start\" x=\"38.5\" y=\"-30.3\" font-family=\"Times,serif\" font-size=\"14.00\">1</text>\n",
       "<text text-anchor=\"start\" x=\"50.5\" y=\"-30.3\" font-family=\"Times,serif\" font-size=\"14.00\">2</text>\n",
       "<text text-anchor=\"start\" x=\"62.5\" y=\"-30.3\" font-family=\"Times,serif\" font-size=\"14.00\">3</text>\n",
       "<text text-anchor=\"start\" x=\"75.5\" y=\"-30.3\" font-family=\"Times,serif\" font-size=\"14.00\">4</text>\n",
       "<text text-anchor=\"start\" x=\"88.5\" y=\"-30.3\" font-family=\"Times,serif\" font-size=\"14.00\">5</text>\n",
       "<text text-anchor=\"start\" x=\"100.5\" y=\"-30.3\" font-family=\"Times,serif\" font-size=\"14.00\">6</text>\n",
       "<text text-anchor=\"start\" x=\"13\" y=\"-10.3\" font-family=\"Times,serif\" font-size=\"14.00\"> </text>\n",
       "<polygon fill=\"none\" stroke=\"black\" points=\"21.5,-3.5 21.5,-24.5 35.5,-24.5 35.5,-3.5 21.5,-3.5\"/>\n",
       "<text text-anchor=\"start\" x=\"24.5\" y=\"-10.3\" font-family=\"Times,serif\" font-size=\"14.00\">P</text>\n",
       "<polygon fill=\"none\" stroke=\"black\" points=\"35.5,-3.5 35.5,-24.5 48.5,-24.5 48.5,-3.5 35.5,-3.5\"/>\n",
       "<text text-anchor=\"start\" x=\"38.5\" y=\"-10.3\" font-family=\"Times,serif\" font-size=\"14.00\">y</text>\n",
       "<polygon fill=\"none\" stroke=\"black\" points=\"48.5,-3.5 48.5,-24.5 59.5,-24.5 59.5,-3.5 48.5,-3.5\"/>\n",
       "<text text-anchor=\"start\" x=\"52\" y=\"-10.3\" font-family=\"Times,serif\" font-size=\"14.00\">t</text>\n",
       "<polygon fill=\"none\" stroke=\"black\" points=\"59.5,-3.5 59.5,-24.5 72.5,-24.5 72.5,-3.5 59.5,-3.5\"/>\n",
       "<text text-anchor=\"start\" x=\"62.5\" y=\"-10.3\" font-family=\"Times,serif\" font-size=\"14.00\">h</text>\n",
       "<polygon fill=\"none\" stroke=\"black\" points=\"72.5,-3.5 72.5,-24.5 85.5,-24.5 85.5,-3.5 72.5,-3.5\"/>\n",
       "<text text-anchor=\"start\" x=\"75.5\" y=\"-10.3\" font-family=\"Times,serif\" font-size=\"14.00\">o</text>\n",
       "<polygon fill=\"none\" stroke=\"black\" points=\"85.5,-3.5 85.5,-24.5 98.5,-24.5 98.5,-3.5 85.5,-3.5\"/>\n",
       "<text text-anchor=\"start\" x=\"88.5\" y=\"-10.3\" font-family=\"Times,serif\" font-size=\"14.00\">n</text>\n",
       "<polygon fill=\"none\" stroke=\"black\" points=\"98.5,-3.5 98.5,-24.5 109.5,-24.5 109.5,-3.5 98.5,-3.5\"/>\n",
       "<text text-anchor=\"start\" x=\"102\" y=\"-10.3\" font-family=\"Times,serif\" font-size=\"14.00\"> </text>\n",
       "</g>\n",
       "</g>\n",
       "</svg>\n"
      ],
      "text/plain": [
       "<graphviz.files.Source at 0x7fcfad488668>"
      ]
     },
     "execution_count": 10,
     "metadata": {},
     "output_type": "execute_result"
    }
   ],
   "source": [
    "rev_graph"
   ]
  },
  {
   "cell_type": "markdown",
   "metadata": {
    "slideshow": {
     "slide_type": "subslide"
    }
   },
   "source": [
    "## str slicing"
   ]
  },
  {
   "cell_type": "code",
   "execution_count": 38,
   "metadata": {
    "slideshow": {
     "slide_type": "fragment"
    }
   },
   "outputs": [
    {
     "data": {
      "text/plain": [
       "'a'"
      ]
     },
     "execution_count": 38,
     "metadata": {},
     "output_type": "execute_result"
    }
   ],
   "source": [
    "#   +012345678\n",
    "#   -987654321\n",
    "s = 'pineapple'\n",
    "#    s   e\n",
    "print(s[4])     # index는 0부터 시작한다"
   ]
  },
  {
   "cell_type": "code",
   "execution_count": 39,
   "metadata": {
    "slideshow": {
     "slide_type": "fragment"
    }
   },
   "outputs": [
    {
     "data": {
      "text/plain": [
       "'pine'"
      ]
     },
     "execution_count": 39,
     "metadata": {},
     "output_type": "execute_result"
    }
   ],
   "source": [
    "print(s[0:4])   # range는 [시작-index:past-the-end]로 지정한다"
   ]
  },
  {
   "cell_type": "code",
   "execution_count": 40,
   "metadata": {
    "slideshow": {
     "slide_type": "fragment"
    }
   },
   "outputs": [
    {
     "name": "stdout",
     "output_type": "stream",
     "text": [
      "pine\n"
     ]
    }
   ],
   "source": [
    "print(s[:4])    # range에서 index를 생략하면, 끝을 의미"
   ]
  },
  {
   "cell_type": "markdown",
   "metadata": {
    "slideshow": {
     "slide_type": "subslide"
    }
   },
   "source": [
    "## str slicing"
   ]
  },
  {
   "cell_type": "code",
   "execution_count": null,
   "metadata": {
    "slideshow": {
     "slide_type": "fragment"
    }
   },
   "outputs": [],
   "source": [
    "#   +012345678\n",
    "#   -987654321\n",
    "s = 'pineapple'\n",
    "print(s[4:])"
   ]
  },
  {
   "cell_type": "code",
   "execution_count": 42,
   "metadata": {
    "slideshow": {
     "slide_type": "fragment"
    }
   },
   "outputs": [
    {
     "name": "stdout",
     "output_type": "stream",
     "text": [
      "a\n"
     ]
    }
   ],
   "source": [
    "print(s[-5])    # negative index는 오른쪽에서 왼쪽으로 증가하는 index"
   ]
  },
  {
   "cell_type": "code",
   "execution_count": 43,
   "metadata": {
    "slideshow": {
     "slide_type": "fragment"
    }
   },
   "outputs": [
    {
     "name": "stdout",
     "output_type": "stream",
     "text": [
      "pine\n"
     ]
    }
   ],
   "source": [
    "print(s[-9:-5]) # range 지정 방법은 negative index의 경우에도 같다"
   ]
  },
  {
   "cell_type": "markdown",
   "metadata": {
    "slideshow": {
     "slide_type": "subslide"
    }
   },
   "source": [
    "## str is immutable\n",
    "* String은 변경할 수 없는 object"
   ]
  },
  {
   "cell_type": "code",
   "execution_count": 9,
   "metadata": {
    "slideshow": {
     "slide_type": "fragment"
    }
   },
   "outputs": [
    {
     "ename": "TypeError",
     "evalue": "'str' object does not support item assignment",
     "output_type": "error",
     "traceback": [
      "\u001b[0;31m---------------------------------------------------------------------------\u001b[0m",
      "\u001b[0;31mTypeError\u001b[0m                                 Traceback (most recent call last)",
      "\u001b[0;32m<ipython-input-9-7bdd1e03bd7a>\u001b[0m in \u001b[0;36m<module>\u001b[0;34m()\u001b[0m\n\u001b[1;32m      1\u001b[0m \u001b[0ms\u001b[0m \u001b[0;34m=\u001b[0m \u001b[0;34m'pineapple'\u001b[0m\u001b[0;34m\u001b[0m\u001b[0m\n\u001b[0;32m----> 2\u001b[0;31m \u001b[0ms\u001b[0m\u001b[0;34m[\u001b[0m\u001b[0;36m0\u001b[0m\u001b[0;34m]\u001b[0m \u001b[0;34m=\u001b[0m \u001b[0;34m'f'\u001b[0m\u001b[0;34m\u001b[0m\u001b[0m\n\u001b[0m",
      "\u001b[0;31mTypeError\u001b[0m: 'str' object does not support item assignment"
     ]
    }
   ],
   "source": [
    "s = 'pineapple'\n",
    "s[0] = 'f'"
   ]
  },
  {
   "cell_type": "markdown",
   "metadata": {
    "slideshow": {
     "slide_type": "subslide"
    }
   },
   "source": [
    "## str is immutable\n",
    "* Conversion method는 새로운 string object를 반환한다"
   ]
  },
  {
   "cell_type": "code",
   "execution_count": 10,
   "metadata": {
    "slideshow": {
     "slide_type": "fragment"
    }
   },
   "outputs": [
    {
     "name": "stdout",
     "output_type": "stream",
     "text": [
      "pineapple PINEAPPLE\n"
     ]
    }
   ],
   "source": [
    "s = 'pineapple'\n",
    "u = s.upper()\n",
    "print(s, u)"
   ]
  },
  {
   "cell_type": "markdown",
   "metadata": {
    "slideshow": {
     "slide_type": "subslide"
    }
   },
   "source": [
    "## str formatting\n",
    "* C-like style (old)"
   ]
  },
  {
   "cell_type": "code",
   "execution_count": 11,
   "metadata": {
    "slideshow": {
     "slide_type": "fragment"
    }
   },
   "outputs": [
    {
     "name": "stdout",
     "output_type": "stream",
     "text": [
      "Sean ate 2 apples.\n"
     ]
    }
   ],
   "source": [
    "name = 'Sean'\n",
    "num = 2\n",
    "print('%s ate %d apples.' % (name, num))"
   ]
  },
  {
   "cell_type": "markdown",
   "metadata": {
    "slideshow": {
     "slide_type": "subslide"
    }
   },
   "source": [
    "## str formatting\n",
    "* Pythonic style (new)\n",
    "  * 변수가 들어갈 곳의 위치 및 변수 목록을 바꾸기 쉽다"
   ]
  },
  {
   "cell_type": "code",
   "execution_count": 12,
   "metadata": {
    "slideshow": {
     "slide_type": "fragment"
    }
   },
   "outputs": [
    {
     "name": "stdout",
     "output_type": "stream",
     "text": [
      "Sean ate 2 apples.\n",
      "Sean ate 2 apples.\n",
      "Sean ate 2 apples.\n"
     ]
    }
   ],
   "source": [
    "name = 'Sean'\n",
    "num = 2\n",
    "print('{} ate {} apples.'.format(name, num))\n",
    "print('{1} ate {0} apples.'.format(num, name))\n",
    "print('{name} ate {num} apples.'.format(name=name, num=num))"
   ]
  },
  {
   "cell_type": "markdown",
   "metadata": {
    "slideshow": {
     "slide_type": "slide"
    }
   },
   "source": [
    "## Collections\n",
    "* list\n",
    "* tuple\n",
    "* dict\n",
    "* set"
   ]
  },
  {
   "cell_type": "markdown",
   "metadata": {
    "slideshow": {
     "slide_type": "subslide"
    }
   },
   "source": [
    "## list\n",
    "* object의 reference를 순서대로 보관\n",
    "* variable과 마찬가지로 어떤 type도 가리킬 수 있음\n",
    "* built-in type"
   ]
  },
  {
   "cell_type": "markdown",
   "metadata": {
    "slideshow": {
     "slide_type": "subslide"
    }
   },
   "source": [
    "## list 생성\n",
    "* Literal: `[`와 `]` 안에 objs 나열"
   ]
  },
  {
   "cell_type": "code",
   "execution_count": 44,
   "metadata": {
    "slideshow": {
     "slide_type": "fragment"
    }
   },
   "outputs": [
    {
     "data": {
      "text/plain": [
       "[0, 1, 2, 3]"
      ]
     },
     "execution_count": 44,
     "metadata": {},
     "output_type": "execute_result"
    }
   ],
   "source": [
    "print([0, 1, 2, 3])"
   ]
  },
  {
   "cell_type": "code",
   "execution_count": 46,
   "metadata": {
    "slideshow": {
     "slide_type": "fragment"
    }
   },
   "outputs": [
    {
     "name": "stdout",
     "output_type": "stream",
     "text": [
      "[1, [0, 1], 'string']\n"
     ]
    }
   ],
   "source": [
    "print([1, [0, 1], 'string'])"
   ]
  },
  {
   "cell_type": "markdown",
   "metadata": {
    "slideshow": {
     "slide_type": "fragment"
    }
   },
   "source": [
    "* Instantiation (from an iterable)"
   ]
  },
  {
   "cell_type": "code",
   "execution_count": 47,
   "metadata": {
    "slideshow": {
     "slide_type": "fragment"
    }
   },
   "outputs": [
    {
     "name": "stdout",
     "output_type": "stream",
     "text": [
      "['a', 'b', 'c', 'd']\n"
     ]
    }
   ],
   "source": [
    "print(list(\"abcd\"))"
   ]
  },
  {
   "cell_type": "markdown",
   "metadata": {
    "slideshow": {
     "slide_type": "subslide"
    }
   },
   "source": [
    "## Object instantiation (참고)\n",
    "\n",
    "* ```a = a_type()```\n",
    "    * a_type의 하나의 instance를 생성함을 의미\n",
    "* Built-in type은 Literal 표현으로 object 생성도 가능"
   ]
  },
  {
   "cell_type": "markdown",
   "metadata": {
    "slideshow": {
     "slide_type": "subslide"
    }
   },
   "source": [
    "## string -> list"
   ]
  },
  {
   "cell_type": "code",
   "execution_count": 48,
   "metadata": {
    "slideshow": {
     "slide_type": "fragment"
    }
   },
   "outputs": [
    {
     "name": "stdout",
     "output_type": "stream",
     "text": [
      "['my', 'little,dog']\n"
     ]
    }
   ],
   "source": [
    "s = 'my, little,dog'\n",
    "l = s.split(', ')    # string을 지정한 분리자로 분리\n",
    "print(l)"
   ]
  },
  {
   "cell_type": "code",
   "execution_count": 49,
   "metadata": {
    "slideshow": {
     "slide_type": "fragment"
    }
   },
   "outputs": [
    {
     "name": "stdout",
     "output_type": "stream",
     "text": [
      "['my', ' little', 'dog']\n"
     ]
    }
   ],
   "source": [
    "l2 = s.split(',')\n",
    "print(l2)"
   ]
  },
  {
   "cell_type": "markdown",
   "metadata": {
    "slideshow": {
     "slide_type": "subslide"
    }
   },
   "source": [
    "## list -> string"
   ]
  },
  {
   "cell_type": "code",
   "execution_count": 16,
   "metadata": {
    "slideshow": {
     "slide_type": "fragment"
    }
   },
   "outputs": [
    {
     "name": "stdout",
     "output_type": "stream",
     "text": [
      "my little dog\n"
     ]
    }
   ],
   "source": [
    "l = ['my', 'little', 'dog']\n",
    "s = ' '.join(l)     # string elements를 ' '로 연결\n",
    "print(s)"
   ]
  },
  {
   "cell_type": "markdown",
   "metadata": {
    "slideshow": {
     "slide_type": "subslide"
    }
   },
   "source": [
    "## Built-in: range\n",
    "\n",
    "`range([start,] end [, step])`\n",
    "* 지정된 range의 숫자열(iterable)을 생성\n",
    "* range 방식은 string indexing 방법과 같음\n",
    "* A generator\n",
    "  * Lazy evaluation (on-the-fly generation)\n",
    "  * 빠른 실행 시간, 메모리 절약"
   ]
  },
  {
   "cell_type": "markdown",
   "metadata": {
    "slideshow": {
     "slide_type": "subslide"
    }
   },
   "source": [
    "## list 생성\n",
    "\n",
    "* Iterable -> list"
   ]
  },
  {
   "cell_type": "code",
   "execution_count": 50,
   "metadata": {
    "slideshow": {
     "slide_type": "fragment"
    }
   },
   "outputs": [
    {
     "name": "stdout",
     "output_type": "stream",
     "text": [
      "[0, 1, 2]\n"
     ]
    }
   ],
   "source": [
    "print(list(range(3)))"
   ]
  },
  {
   "cell_type": "code",
   "execution_count": 51,
   "metadata": {
    "slideshow": {
     "slide_type": "fragment"
    }
   },
   "outputs": [
    {
     "name": "stdout",
     "output_type": "stream",
     "text": [
      "[1, 2]\n"
     ]
    }
   ],
   "source": [
    "print(list(range(1, 3)))"
   ]
  },
  {
   "cell_type": "code",
   "execution_count": 52,
   "metadata": {
    "slideshow": {
     "slide_type": "fragment"
    }
   },
   "outputs": [
    {
     "name": "stdout",
     "output_type": "stream",
     "text": [
      "[1, 3, 5, 7, 9]\n"
     ]
    }
   ],
   "source": [
    "print(list(range(1, 10, 2)))"
   ]
  },
  {
   "cell_type": "markdown",
   "metadata": {
    "slideshow": {
     "slide_type": "subslide"
    }
   },
   "source": [
    "## unpack `*` operator\n",
    "\n",
    "* An iterable -> comma-separated objects\n",
    "  * `*[1, 2, 3]` -> `1, 2, 3` "
   ]
  },
  {
   "cell_type": "code",
   "execution_count": 53,
   "metadata": {
    "slideshow": {
     "slide_type": ""
    }
   },
   "outputs": [
    {
     "name": "stdout",
     "output_type": "stream",
     "text": [
      "0 1 2\n"
     ]
    }
   ],
   "source": [
    "print(*range(3)) # <=> print(0, 1, 2)"
   ]
  },
  {
   "cell_type": "code",
   "execution_count": 54,
   "metadata": {
    "slideshow": {
     "slide_type": "fragment"
    }
   },
   "outputs": [
    {
     "name": "stdout",
     "output_type": "stream",
     "text": [
      "1 2\n"
     ]
    }
   ],
   "source": [
    "print(*range(1, 3))"
   ]
  },
  {
   "cell_type": "code",
   "execution_count": 55,
   "metadata": {},
   "outputs": [
    {
     "name": "stdout",
     "output_type": "stream",
     "text": [
      "1 3 5 7 9\n"
     ]
    }
   ],
   "source": [
    "print(*range(1, 10, 2))"
   ]
  },
  {
   "cell_type": "markdown",
   "metadata": {
    "slideshow": {
     "slide_type": "subslide"
    }
   },
   "source": [
    "## list slicing\n",
    "* list의 일부를 선택\n",
    "* indexing 방식은 string과 같음\n",
    "  * [start:past-the-end:step]"
   ]
  },
  {
   "cell_type": "code",
   "execution_count": 17,
   "metadata": {
    "slideshow": {
     "slide_type": "fragment"
    }
   },
   "outputs": [
    {
     "data": {
      "text/plain": [
       "11"
      ]
     },
     "execution_count": 17,
     "metadata": {},
     "output_type": "execute_result"
    }
   ],
   "source": [
    "l = [10, 11, 12, 13]\n",
    "l[1]  # second"
   ]
  },
  {
   "cell_type": "code",
   "execution_count": 58,
   "metadata": {
    "slideshow": {
     "slide_type": "fragment"
    }
   },
   "outputs": [
    {
     "name": "stdout",
     "output_type": "stream",
     "text": [
      "[1, 2]\n"
     ]
    }
   ],
   "source": [
    "print(l[1:3]) # middle"
   ]
  },
  {
   "cell_type": "code",
   "execution_count": 59,
   "metadata": {
    "slideshow": {
     "slide_type": "fragment"
    }
   },
   "outputs": [
    {
     "data": {
      "text/plain": [
       "[0, 1]"
      ]
     },
     "execution_count": 59,
     "metadata": {},
     "output_type": "execute_result"
    }
   ],
   "source": [
    "l[:2]  # first_two"
   ]
  },
  {
   "cell_type": "code",
   "execution_count": 60,
   "metadata": {
    "slideshow": {
     "slide_type": "fragment"
    }
   },
   "outputs": [
    {
     "data": {
      "text/plain": [
       "3"
      ]
     },
     "execution_count": 60,
     "metadata": {},
     "output_type": "execute_result"
    }
   ],
   "source": [
    "l[-1]  # last_one"
   ]
  },
  {
   "cell_type": "markdown",
   "metadata": {
    "slideshow": {
     "slide_type": "subslide"
    }
   },
   "source": [
    "## list slicing"
   ]
  },
  {
   "cell_type": "code",
   "execution_count": 61,
   "metadata": {
    "slideshow": {
     "slide_type": "fragment"
    }
   },
   "outputs": [
    {
     "data": {
      "text/plain": [
       "[2, 3]"
      ]
     },
     "execution_count": 61,
     "metadata": {},
     "output_type": "execute_result"
    }
   ],
   "source": [
    "l[-2:]  # last_two"
   ]
  },
  {
   "cell_type": "code",
   "execution_count": 62,
   "metadata": {
    "slideshow": {
     "slide_type": "fragment"
    }
   },
   "outputs": [
    {
     "data": {
      "text/plain": [
       "[0, 2]"
      ]
     },
     "execution_count": 62,
     "metadata": {},
     "output_type": "execute_result"
    }
   ],
   "source": [
    "l[::2]  # even_numbers"
   ]
  },
  {
   "cell_type": "code",
   "execution_count": 63,
   "metadata": {
    "slideshow": {
     "slide_type": "fragment"
    }
   },
   "outputs": [
    {
     "name": "stdout",
     "output_type": "stream",
     "text": [
      "3\n"
     ]
    }
   ],
   "source": [
    "c = [1, 2, [3, 4]]\n",
    "#           |\n",
    "print(c[2][0])  #(c[2])[0]"
   ]
  },
  {
   "cell_type": "markdown",
   "metadata": {
    "slideshow": {
     "slide_type": "subslide"
    }
   },
   "source": [
    "## list is mutable"
   ]
  },
  {
   "cell_type": "code",
   "execution_count": 20,
   "metadata": {
    "slideshow": {
     "slide_type": "fragment"
    }
   },
   "outputs": [
    {
     "name": "stdout",
     "output_type": "stream",
     "text": [
      "['one', '!', 10]\n"
     ]
    }
   ],
   "source": [
    "l = [0, 1, 2, 3]\n",
    "l[1] = 'one'\n",
    "l[-2:] = '!'\n",
    "del l[0]  # del is a keyword.\n",
    "l.append(10)\n",
    "print(l)"
   ]
  },
  {
   "cell_type": "markdown",
   "metadata": {
    "slideshow": {
     "slide_type": "subslide"
    }
   },
   "source": [
    "## list operations\n",
    "* list 자체를 변경시키지 않는 operations"
   ]
  },
  {
   "cell_type": "code",
   "execution_count": 64,
   "metadata": {
    "slideshow": {
     "slide_type": "fragment"
    }
   },
   "outputs": [
    {
     "name": "stdout",
     "output_type": "stream",
     "text": [
      "[2, 3, 3, 4]\n"
     ]
    }
   ],
   "source": [
    "x = [2, 3]\n",
    "y = [3, 4]\n",
    "print(x + y)"
   ]
  },
  {
   "cell_type": "code",
   "execution_count": 65,
   "metadata": {
    "slideshow": {
     "slide_type": "fragment"
    }
   },
   "outputs": [
    {
     "name": "stdout",
     "output_type": "stream",
     "text": [
      "[2, 3, 2, 3, 2, 3] <class 'list'> 6\n"
     ]
    }
   ],
   "source": [
    "m = 3*x\n",
    "print(m, type(m), len(m))"
   ]
  },
  {
   "cell_type": "markdown",
   "metadata": {
    "slideshow": {
     "slide_type": "subslide"
    }
   },
   "source": [
    "## list method\n",
    "* list 자체를 변경시키는 operations"
   ]
  },
  {
   "cell_type": "code",
   "execution_count": 66,
   "metadata": {
    "slideshow": {
     "slide_type": "fragment"
    }
   },
   "outputs": [
    {
     "name": "stdout",
     "output_type": "stream",
     "text": [
      "[3, 2, 1, 0]\n"
     ]
    }
   ],
   "source": [
    "l = [0, 1, 2, 3]\n",
    "l.reverse()\n",
    "print(l)"
   ]
  },
  {
   "cell_type": "code",
   "execution_count": 67,
   "metadata": {
    "slideshow": {
     "slide_type": "fragment"
    }
   },
   "outputs": [
    {
     "name": "stdout",
     "output_type": "stream",
     "text": [
      "[0, 1, 2, 3]\n"
     ]
    }
   ],
   "source": [
    "l.sort()\n",
    "print(l)"
   ]
  },
  {
   "cell_type": "code",
   "execution_count": 68,
   "metadata": {
    "slideshow": {
     "slide_type": "fragment"
    }
   },
   "outputs": [
    {
     "name": "stdout",
     "output_type": "stream",
     "text": [
      "[0, 1, 2, 3, 3, 4]\n"
     ]
    }
   ],
   "source": [
    "x = [3, 4]\n",
    "l.extend(x)\n",
    "print(l)"
   ]
  },
  {
   "cell_type": "code",
   "execution_count": 69,
   "metadata": {
    "slideshow": {
     "slide_type": "fragment"
    }
   },
   "outputs": [
    {
     "name": "stdout",
     "output_type": "stream",
     "text": [
      "[]\n"
     ]
    }
   ],
   "source": [
    "l.clear()\n",
    "print(l)"
   ]
  },
  {
   "cell_type": "markdown",
   "metadata": {
    "slideshow": {
     "slide_type": "subslide"
    }
   },
   "source": [
    "## stack with list\n",
    "* stack (LIFO)"
   ]
  },
  {
   "cell_type": "code",
   "execution_count": 71,
   "metadata": {
    "slideshow": {
     "slide_type": "fragment"
    }
   },
   "outputs": [
    {
     "name": "stdout",
     "output_type": "stream",
     "text": [
      "['first in']\n"
     ]
    }
   ],
   "source": [
    "l = []\n",
    "# push\n",
    "l.append('first in')\n",
    "print(l)"
   ]
  },
  {
   "cell_type": "code",
   "execution_count": 72,
   "metadata": {
    "slideshow": {
     "slide_type": "fragment"
    }
   },
   "outputs": [
    {
     "name": "stdout",
     "output_type": "stream",
     "text": [
      "['first in', 'last in']\n"
     ]
    }
   ],
   "source": [
    "l.append('last in')\n",
    "print(l)"
   ]
  },
  {
   "cell_type": "code",
   "execution_count": 73,
   "metadata": {
    "slideshow": {
     "slide_type": "fragment"
    }
   },
   "outputs": [
    {
     "name": "stdout",
     "output_type": "stream",
     "text": [
      "last in\n"
     ]
    }
   ],
   "source": [
    "# pop\n",
    "print(l.pop())"
   ]
  },
  {
   "cell_type": "code",
   "execution_count": 74,
   "metadata": {
    "slideshow": {
     "slide_type": "fragment"
    }
   },
   "outputs": [
    {
     "name": "stdout",
     "output_type": "stream",
     "text": [
      "first in\n"
     ]
    }
   ],
   "source": [
    "print(l.pop())"
   ]
  },
  {
   "cell_type": "markdown",
   "metadata": {
    "slideshow": {
     "slide_type": "subslide"
    }
   },
   "source": [
    "## queue with list\n",
    "* queue (FIFO): push_back, pop_front"
   ]
  },
  {
   "cell_type": "code",
   "execution_count": 2,
   "metadata": {
    "slideshow": {
     "slide_type": "fragment"
    }
   },
   "outputs": [
    {
     "name": "stdout",
     "output_type": "stream",
     "text": [
      "['first in']\n"
     ]
    }
   ],
   "source": [
    "l = []\n",
    "# push back\n",
    "l.append('first in')\n",
    "print(l)"
   ]
  },
  {
   "cell_type": "code",
   "execution_count": 3,
   "metadata": {
    "slideshow": {
     "slide_type": "fragment"
    }
   },
   "outputs": [
    {
     "name": "stdout",
     "output_type": "stream",
     "text": [
      "['first in', 'last in']\n"
     ]
    }
   ],
   "source": [
    "l.append('last in')\n",
    "print(l)"
   ]
  },
  {
   "cell_type": "code",
   "execution_count": 4,
   "metadata": {
    "slideshow": {
     "slide_type": "fragment"
    }
   },
   "outputs": [
    {
     "name": "stdout",
     "output_type": "stream",
     "text": [
      "first in\n",
      "['last in']\n"
     ]
    }
   ],
   "source": [
    "# pop front\n",
    "print(l.pop(0))\n",
    "print(l)"
   ]
  },
  {
   "cell_type": "code",
   "execution_count": 5,
   "metadata": {
    "slideshow": {
     "slide_type": "fragment"
    }
   },
   "outputs": [
    {
     "name": "stdout",
     "output_type": "stream",
     "text": [
      "last in\n",
      "[]\n"
     ]
    }
   ],
   "source": [
    "print(l.pop(0))\n",
    "print(l)"
   ]
  },
  {
   "cell_type": "markdown",
   "metadata": {
    "slideshow": {
     "slide_type": "subslide"
    }
   },
   "source": [
    "## queue with list\n",
    "* queue (FIFO): push_front, pop_back"
   ]
  },
  {
   "cell_type": "code",
   "execution_count": 6,
   "metadata": {
    "slideshow": {
     "slide_type": "fragment"
    }
   },
   "outputs": [
    {
     "name": "stdout",
     "output_type": "stream",
     "text": [
      "['first in']\n"
     ]
    }
   ],
   "source": [
    "# push front\n",
    "l.insert(0, 'first in')  # (index, object)\n",
    "print(l)"
   ]
  },
  {
   "cell_type": "code",
   "execution_count": 82,
   "metadata": {
    "slideshow": {
     "slide_type": "fragment"
    }
   },
   "outputs": [
    {
     "name": "stdout",
     "output_type": "stream",
     "text": [
      "['last in', 'last in']\n"
     ]
    }
   ],
   "source": [
    "l.insert(0, 'last in')\n",
    "print(l)"
   ]
  },
  {
   "cell_type": "code",
   "execution_count": 83,
   "metadata": {
    "slideshow": {
     "slide_type": "fragment"
    }
   },
   "outputs": [
    {
     "name": "stdout",
     "output_type": "stream",
     "text": [
      "last in\n",
      "['last in']\n"
     ]
    }
   ],
   "source": [
    "# pop back\n",
    "print(l.pop())\n",
    "print(l)"
   ]
  },
  {
   "cell_type": "code",
   "execution_count": 84,
   "metadata": {
    "slideshow": {
     "slide_type": "fragment"
    }
   },
   "outputs": [
    {
     "name": "stdout",
     "output_type": "stream",
     "text": [
      "last in\n",
      "[]\n"
     ]
    }
   ],
   "source": [
    "print(l.pop())\n",
    "print(l)"
   ]
  },
  {
   "cell_type": "markdown",
   "metadata": {
    "slideshow": {
     "slide_type": "subslide"
    }
   },
   "source": [
    "## 원소 찾기 및 갖고 놀기"
   ]
  },
  {
   "cell_type": "code",
   "execution_count": 86,
   "metadata": {
    "slideshow": {
     "slide_type": "fragment"
    }
   },
   "outputs": [
    {
     "name": "stdout",
     "output_type": "stream",
     "text": [
      "3\n"
     ]
    }
   ],
   "source": [
    "l = ['a', 'b', 'c', 'c', 'c', 'd']\n",
    "print(l.count('c'))  # count of element"
   ]
  },
  {
   "cell_type": "code",
   "execution_count": 89,
   "metadata": {
    "slideshow": {
     "slide_type": "fragment"
    }
   },
   "outputs": [
    {
     "name": "stdout",
     "output_type": "stream",
     "text": [
      "2\n"
     ]
    }
   ],
   "source": [
    "first_index = l.index('c')  # the first index\n",
    "print(first_index)"
   ]
  },
  {
   "cell_type": "code",
   "execution_count": 90,
   "metadata": {
    "slideshow": {
     "slide_type": "fragment"
    }
   },
   "outputs": [
    {
     "name": "stdout",
     "output_type": "stream",
     "text": [
      "['a', 'b', 'c', 'c', 'd']\n"
     ]
    }
   ],
   "source": [
    "l.pop(first_index)    # argument means a index\n",
    "print(l)"
   ]
  },
  {
   "cell_type": "code",
   "execution_count": 91,
   "metadata": {
    "slideshow": {
     "slide_type": "fragment"
    }
   },
   "outputs": [
    {
     "name": "stdout",
     "output_type": "stream",
     "text": [
      "['a', 'b', 'c', 'd']\n"
     ]
    }
   ],
   "source": [
    "l.remove('c')         # remove the first matched object\n",
    "print(l)"
   ]
  },
  {
   "cell_type": "code",
   "execution_count": 92,
   "metadata": {
    "slideshow": {
     "slide_type": "fragment"
    }
   },
   "outputs": [
    {
     "name": "stdout",
     "output_type": "stream",
     "text": [
      "True\n"
     ]
    }
   ],
   "source": [
    "print('c' in l)       # test if an element is in the list"
   ]
  },
  {
   "cell_type": "markdown",
   "metadata": {
    "slideshow": {
     "slide_type": "subslide"
    }
   },
   "source": [
    "## tuple\n",
    "* immutable list\n",
    "  * list와 동일한 operation을 공유\n",
    "  * 단, 내용을 변경하는 method는 지원 안 함\n",
    "* 생성\n",
    "  * Literal: `[]` 대신에 `()`를 사용\n",
    "  * Instantiation: `tuple(iterable)`"
   ]
  },
  {
   "cell_type": "markdown",
   "metadata": {
    "slideshow": {
     "slide_type": "subslide"
    }
   },
   "source": [
    "## tuple"
   ]
  },
  {
   "cell_type": "code",
   "execution_count": 93,
   "metadata": {
    "slideshow": {
     "slide_type": "fragment"
    }
   },
   "outputs": [
    {
     "name": "stdout",
     "output_type": "stream",
     "text": [
      "1\n"
     ]
    }
   ],
   "source": [
    "t = (0, 1, 2, 3)\n",
    "second = t[1]\n",
    "print(second)"
   ]
  },
  {
   "cell_type": "code",
   "execution_count": 94,
   "metadata": {
    "slideshow": {
     "slide_type": "fragment"
    }
   },
   "outputs": [
    {
     "name": "stdout",
     "output_type": "stream",
     "text": [
      "(2, 3)\n"
     ]
    }
   ],
   "source": [
    "last_two = t[-2:]\n",
    "print(last_two)"
   ]
  },
  {
   "cell_type": "code",
   "execution_count": 9,
   "metadata": {
    "slideshow": {
     "slide_type": "fragment"
    }
   },
   "outputs": [
    {
     "name": "stdout",
     "output_type": "stream",
     "text": [
      "(4,) <class 'tuple'> <class 'int'>\n"
     ]
    }
   ],
   "source": [
    "single = (4,)  #(4) == 4, an expression\n",
    "print(single, type(single), type((4)))"
   ]
  },
  {
   "cell_type": "markdown",
   "metadata": {
    "slideshow": {
     "slide_type": "subslide"
    }
   },
   "source": [
    "## tuple is immutable"
   ]
  },
  {
   "cell_type": "code",
   "execution_count": 27,
   "metadata": {
    "slideshow": {
     "slide_type": "fragment"
    }
   },
   "outputs": [
    {
     "ename": "TypeError",
     "evalue": "'tuple' object does not support item assignment",
     "output_type": "error",
     "traceback": [
      "\u001b[0;31m---------------------------------------------------------------------------\u001b[0m",
      "\u001b[0;31mTypeError\u001b[0m                                 Traceback (most recent call last)",
      "\u001b[0;32m<ipython-input-27-f483a8592ca4>\u001b[0m in \u001b[0;36m<module>\u001b[0;34m()\u001b[0m\n\u001b[1;32m      1\u001b[0m \u001b[0mt\u001b[0m \u001b[0;34m=\u001b[0m \u001b[0;34m(\u001b[0m\u001b[0;36m0\u001b[0m\u001b[0;34m,\u001b[0m \u001b[0;36m1\u001b[0m\u001b[0;34m,\u001b[0m \u001b[0;36m2\u001b[0m\u001b[0;34m,\u001b[0m \u001b[0;36m3\u001b[0m\u001b[0;34m)\u001b[0m\u001b[0;34m\u001b[0m\u001b[0m\n\u001b[0;32m----> 2\u001b[0;31m \u001b[0mt\u001b[0m\u001b[0;34m[\u001b[0m\u001b[0;36m1\u001b[0m\u001b[0;34m]\u001b[0m \u001b[0;34m=\u001b[0m \u001b[0;34m'x'\u001b[0m\u001b[0;34m\u001b[0m\u001b[0m\n\u001b[0m\u001b[1;32m      3\u001b[0m \u001b[0mprint\u001b[0m\u001b[0;34m(\u001b[0m\u001b[0mt\u001b[0m\u001b[0;34m)\u001b[0m\u001b[0;34m\u001b[0m\u001b[0m\n",
      "\u001b[0;31mTypeError\u001b[0m: 'tuple' object does not support item assignment"
     ]
    }
   ],
   "source": [
    "t = (0, 1, 2, 3)\n",
    "t[1] = 'x'\n",
    "print(t)"
   ]
  },
  {
   "cell_type": "markdown",
   "metadata": {
    "slideshow": {
     "slide_type": "subslide"
    }
   },
   "source": [
    "## tuple packing & unpacking"
   ]
  },
  {
   "cell_type": "code",
   "execution_count": 96,
   "metadata": {
    "slideshow": {
     "slide_type": "fragment"
    }
   },
   "outputs": [
    {
     "name": "stdout",
     "output_type": "stream",
     "text": [
      "('a', 'b')\n"
     ]
    }
   ],
   "source": [
    "# packing\n",
    "a = 'a'\n",
    "b = 'b'\n",
    "t = (a, b)\n",
    "print(t)"
   ]
  },
  {
   "cell_type": "code",
   "execution_count": 97,
   "metadata": {
    "slideshow": {
     "slide_type": "fragment"
    }
   },
   "outputs": [
    {
     "name": "stdout",
     "output_type": "stream",
     "text": [
      "a b\n"
     ]
    }
   ],
   "source": [
    "# unpacking\n",
    "(x, y) = t\n",
    "print(x, y)"
   ]
  },
  {
   "cell_type": "markdown",
   "metadata": {
    "slideshow": {
     "slide_type": "subslide"
    }
   },
   "source": [
    "## Keyword: assert\n",
    "* `assert <expression>`\n",
    "  * expression이 참이면 아무 것도 안 함\n",
    "  * 거짓이면 오류를 보고"
   ]
  },
  {
   "cell_type": "markdown",
   "metadata": {
    "slideshow": {
     "slide_type": "subslide"
    }
   },
   "source": [
    "## dict\n",
    "* 순차적인 숫자뿐만 아니라, 임의의 object를 index로 사용 가능한 list\n",
    "  * index object는 hashable해야 함\n",
    "  * 모든 immutable object는 hashable"
   ]
  },
  {
   "cell_type": "markdown",
   "metadata": {
    "slideshow": {
     "slide_type": "subslide"
    }
   },
   "source": [
    "## dict\n",
    "* 생성\n",
    "  * Literal: `{key0: value0, key1: value1, ...}`\n",
    "  * Instantiation\n",
    "    * Keyword args: `dict(key0=value0, key1=value1, ...)`\n",
    "    * (key, value) pairs: `dict([(key0, value0), (key1=value1), ...])`"
   ]
  },
  {
   "cell_type": "code",
   "execution_count": 1,
   "metadata": {
    "slideshow": {
     "slide_type": "fragment"
    }
   },
   "outputs": [
    {
     "name": "stdout",
     "output_type": "stream",
     "text": [
      "{'a': 0, 'b': 1, 'c': 2}\n",
      "{'a': 0, 'b': 1, 'c': 2}\n",
      "{'a': 0, 'b': 1, 'c': 2}\n"
     ]
    }
   ],
   "source": [
    "print({'a': 0, 'b': 1, 'c': 2})\n",
    "print(dict(a=0, b=1, c=2))\n",
    "print(dict([('a', 0), ('b', 1), ('c', 2)]))"
   ]
  },
  {
   "cell_type": "markdown",
   "metadata": {
    "slideshow": {
     "slide_type": "subslide"
    }
   },
   "source": [
    "## dict\n",
    "* element order\n",
    "  * hash_map으로 구현되어 있기 때문에 순서 유지를 보장하지 않는다 (< 3.6)\n",
    "  * 낮은 버전에서도 사용해야 한다면, collections.OrderedDict 사용"
   ]
  },
  {
   "cell_type": "markdown",
   "metadata": {
    "slideshow": {
     "slide_type": "subslide"
    }
   },
   "source": [
    "## dict is mutable"
   ]
  },
  {
   "cell_type": "code",
   "execution_count": 30,
   "metadata": {
    "slideshow": {
     "slide_type": "fragment"
    }
   },
   "outputs": [
    {
     "name": "stdout",
     "output_type": "stream",
     "text": [
      "3\n",
      "{'b': 1, 'a': 0, 'c': 2, 'd': 3}\n"
     ]
    }
   ],
   "source": [
    "d = {'a': 0, 'b': 1, 'c': 2}\n",
    "d['d'] = 3\n",
    "print(d['d'])\n",
    "print(d)"
   ]
  },
  {
   "cell_type": "markdown",
   "metadata": {
    "slideshow": {
     "slide_type": "subslide"
    }
   },
   "source": [
    "## dict methods & operations"
   ]
  },
  {
   "cell_type": "code",
   "execution_count": 11,
   "metadata": {
    "slideshow": {
     "slide_type": "fragment"
    }
   },
   "outputs": [
    {
     "name": "stdout",
     "output_type": "stream",
     "text": [
      "dict_keys(['a', 'b', 'c'])\n",
      "dict_values([0, 1, 2])\n",
      "dict_items([('a', 0), ('b', 1), ('c', 2)])\n"
     ]
    }
   ],
   "source": [
    "d = {'a': 0, 'b': 1, 'c': 2}\n",
    "print(d.keys())\n",
    "print(d.values())\n",
    "print(d.items())\n",
    "assert ('c' in d) == ('c' in d.keys())  # assert is a keyword."
   ]
  },
  {
   "cell_type": "markdown",
   "metadata": {
    "slideshow": {
     "slide_type": "subslide"
    }
   },
   "source": [
    "## dict methods & operations\n",
    "* 없는 key에 접근하면, KeyError"
   ]
  },
  {
   "cell_type": "code",
   "execution_count": 13,
   "metadata": {
    "slideshow": {
     "slide_type": "fragment"
    }
   },
   "outputs": [
    {
     "ename": "KeyError",
     "evalue": "'e'",
     "output_type": "error",
     "traceback": [
      "\u001b[0;31m---------------------------------------------------------------------------\u001b[0m",
      "\u001b[0;31mKeyError\u001b[0m                                  Traceback (most recent call last)",
      "\u001b[0;32m<ipython-input-13-1a0511e6120b>\u001b[0m in \u001b[0;36m<module>\u001b[0;34m()\u001b[0m\n\u001b[1;32m      1\u001b[0m \u001b[0md\u001b[0m \u001b[0;34m=\u001b[0m \u001b[0;34m{\u001b[0m\u001b[0;34m'a'\u001b[0m\u001b[0;34m:\u001b[0m \u001b[0;36m0\u001b[0m\u001b[0;34m,\u001b[0m \u001b[0;34m'b'\u001b[0m\u001b[0;34m:\u001b[0m \u001b[0;36m1\u001b[0m\u001b[0;34m,\u001b[0m \u001b[0;34m'c'\u001b[0m\u001b[0;34m:\u001b[0m \u001b[0;36m2\u001b[0m\u001b[0;34m}\u001b[0m\u001b[0;34m\u001b[0m\u001b[0m\n\u001b[0;32m----> 2\u001b[0;31m \u001b[0mprint\u001b[0m\u001b[0;34m(\u001b[0m\u001b[0md\u001b[0m\u001b[0;34m[\u001b[0m\u001b[0;34m'e'\u001b[0m\u001b[0;34m]\u001b[0m\u001b[0;34m)\u001b[0m\u001b[0;34m\u001b[0m\u001b[0m\n\u001b[0m",
      "\u001b[0;31mKeyError\u001b[0m: 'e'"
     ]
    }
   ],
   "source": [
    "d = {'a': 0, 'b': 1, 'c': 2}\n",
    "print(d['e'])"
   ]
  },
  {
   "cell_type": "markdown",
   "metadata": {
    "slideshow": {
     "slide_type": "subslide"
    }
   },
   "source": [
    "## dict methods & operations\n",
    "* key가 없을 때 default value 지정하여 사용 가능\n",
    "  * `get(key, default)`: key가 없으면 default값 반환. dict는 변경하지 않음\n",
    "  * `setdefault(key, default)`: key가 없으면 dict에 원소(key, default) 추가 후 값 반환"
   ]
  },
  {
   "cell_type": "markdown",
   "metadata": {
    "slideshow": {
     "slide_type": "subslide"
    }
   },
   "source": [
    "## dict methods & operations"
   ]
  },
  {
   "cell_type": "code",
   "execution_count": 100,
   "metadata": {
    "slideshow": {
     "slide_type": "fragment"
    }
   },
   "outputs": [
    {
     "name": "stdout",
     "output_type": "stream",
     "text": [
      "-1\n",
      "{'a': 0, 'b': 1, 'c': 2}\n"
     ]
    }
   ],
   "source": [
    "# default value\n",
    "d = {'a': 0, 'b': 1, 'c': 2}\n",
    "print(d.get('e', -1))\n",
    "print(d)"
   ]
  },
  {
   "cell_type": "code",
   "execution_count": 101,
   "metadata": {
    "slideshow": {
     "slide_type": "fragment"
    }
   },
   "outputs": [
    {
     "name": "stdout",
     "output_type": "stream",
     "text": [
      "-2\n",
      "{'a': 0, 'b': 1, 'c': 2, 'e': -2}\n"
     ]
    }
   ],
   "source": [
    "print(d.setdefault('e', -2))\n",
    "print(d)"
   ]
  },
  {
   "cell_type": "code",
   "execution_count": 102,
   "metadata": {
    "slideshow": {
     "slide_type": "fragment"
    }
   },
   "outputs": [
    {
     "name": "stdout",
     "output_type": "stream",
     "text": [
      "2\n",
      "{'a': 0, 'b': 1, 'c': 2, 'e': -2}\n"
     ]
    }
   ],
   "source": [
    "print(d.setdefault('c', -3))\n",
    "print(d)"
   ]
  },
  {
   "cell_type": "markdown",
   "metadata": {
    "slideshow": {
     "slide_type": "subslide"
    }
   },
   "source": [
    "## dict methods & operations"
   ]
  },
  {
   "cell_type": "code",
   "execution_count": 104,
   "metadata": {
    "slideshow": {
     "slide_type": "fragment"
    }
   },
   "outputs": [
    {
     "name": "stdout",
     "output_type": "stream",
     "text": [
      "{'c': 20, 'e': 4}\n",
      "{'a': 0, 'b': 1, 'c': 20, 'e': 4}\n"
     ]
    }
   ],
   "source": [
    "# update\n",
    "d = {'a': 0, 'b': 1, 'c': 2}\n",
    "k = {'c': 20, 'e': 4}\n",
    "print(k)\n",
    "d.update(k)\n",
    "print(d)"
   ]
  },
  {
   "cell_type": "code",
   "execution_count": 105,
   "metadata": {
    "slideshow": {
     "slide_type": "fragment"
    }
   },
   "outputs": [
    {
     "name": "stdout",
     "output_type": "stream",
     "text": [
      "{'a': 0, 'b': 1, 'c': 20}\n"
     ]
    }
   ],
   "source": [
    "# clear\n",
    "del d['e']\n",
    "print(d)"
   ]
  },
  {
   "cell_type": "code",
   "execution_count": 106,
   "metadata": {
    "slideshow": {
     "slide_type": "fragment"
    }
   },
   "outputs": [
    {
     "name": "stdout",
     "output_type": "stream",
     "text": [
      "{}\n"
     ]
    }
   ],
   "source": [
    "d.clear()\n",
    "print(d)"
   ]
  },
  {
   "cell_type": "markdown",
   "metadata": {
    "slideshow": {
     "slide_type": "subslide"
    }
   },
   "source": [
    "## set\n",
    "* 집합(set) 구현: value 없는 dict\n",
    "  * mutable, element order에 대한 규칙도 dict에 준한다\n",
    "  * 동일한 object를 저장하지 않는다\n",
    "  * object는 hashable 해야한다"
   ]
  },
  {
   "cell_type": "markdown",
   "metadata": {
    "slideshow": {
     "slide_type": "subslide"
    }
   },
   "source": [
    "## set\n",
    "* 생성\n",
    "  * Literal: `{key0, key1, key2}`\n",
    "  * Instantiation: `set(iterable)`"
   ]
  },
  {
   "cell_type": "code",
   "execution_count": 32,
   "metadata": {
    "slideshow": {
     "slide_type": "fragment"
    }
   },
   "outputs": [
    {
     "name": "stdout",
     "output_type": "stream",
     "text": [
      "{'a', 'z', 'k'}\n",
      "{'l', 'e', 'o', 'h'}\n"
     ]
    }
   ],
   "source": [
    "print({'z', 'a', 'k'})\n",
    "print(set(\"hello\"))"
   ]
  },
  {
   "cell_type": "markdown",
   "metadata": {
    "slideshow": {
     "slide_type": "subslide"
    }
   },
   "source": [
    "## set methods & operations"
   ]
  },
  {
   "cell_type": "code",
   "execution_count": 108,
   "metadata": {
    "slideshow": {
     "slide_type": "fragment"
    }
   },
   "outputs": [
    {
     "name": "stdout",
     "output_type": "stream",
     "text": [
      "{'z', 'k', 'a'}\n",
      "True\n",
      "False\n"
     ]
    }
   ],
   "source": [
    "s = {'z', 'a', 'k'}\n",
    "print(s)\n",
    "# operation wirh an element\n",
    "print('k' in s)\n",
    "print('j' in s)"
   ]
  },
  {
   "cell_type": "code",
   "execution_count": 109,
   "metadata": {
    "slideshow": {
     "slide_type": "fragment"
    }
   },
   "outputs": [
    {
     "name": "stdout",
     "output_type": "stream",
     "text": [
      "{'z', 'k', 'p', 'a'}\n"
     ]
    }
   ],
   "source": [
    "s.add('p')\n",
    "print(s)"
   ]
  },
  {
   "cell_type": "code",
   "execution_count": 110,
   "metadata": {
    "slideshow": {
     "slide_type": "fragment"
    }
   },
   "outputs": [
    {
     "name": "stdout",
     "output_type": "stream",
     "text": [
      "{'z', 'k', 'a'}\n"
     ]
    }
   ],
   "source": [
    "s.remove('p')\n",
    "print(s)"
   ]
  },
  {
   "cell_type": "markdown",
   "metadata": {
    "slideshow": {
     "slide_type": "subslide"
    }
   },
   "source": [
    "## set methods & operations"
   ]
  },
  {
   "cell_type": "code",
   "execution_count": 111,
   "metadata": {
    "slideshow": {
     "slide_type": "fragment"
    }
   },
   "outputs": [
    {
     "name": "stdout",
     "output_type": "stream",
     "text": [
      "{'z', 'k', 'a', 'y', 'x'}\n"
     ]
    }
   ],
   "source": [
    "# operation with another set\n",
    "m = {'a', 'x', 'y'}\n",
    "u = s | m   # union (+ is not defined for set)\n",
    "print(u)"
   ]
  },
  {
   "cell_type": "code",
   "execution_count": 112,
   "metadata": {
    "slideshow": {
     "slide_type": "fragment"
    }
   },
   "outputs": [
    {
     "name": "stdout",
     "output_type": "stream",
     "text": [
      "{'a'}\n"
     ]
    }
   ],
   "source": [
    "i = s & m   # intersect\n",
    "print(i)"
   ]
  },
  {
   "cell_type": "code",
   "execution_count": 113,
   "metadata": {
    "slideshow": {
     "slide_type": "fragment"
    }
   },
   "outputs": [
    {
     "name": "stdout",
     "output_type": "stream",
     "text": [
      "{'z', 'k'}\n"
     ]
    }
   ],
   "source": [
    "d = s - m   # difference\n",
    "print(d)"
   ]
  },
  {
   "cell_type": "code",
   "execution_count": 114,
   "metadata": {
    "slideshow": {
     "slide_type": "fragment"
    }
   },
   "outputs": [
    {
     "name": "stdout",
     "output_type": "stream",
     "text": [
      "{'z', 'k', 'a', 'y', 'x'}\n"
     ]
    }
   ],
   "source": [
    "s.update(m)\n",
    "print(s)\n",
    "assert s == u"
   ]
  },
  {
   "cell_type": "markdown",
   "metadata": {
    "slideshow": {
     "slide_type": "subslide"
    }
   },
   "source": [
    "## Built-in functions\n",
    "* `type(obj)`\n",
    "  * obj의 type을 돌려줌\n",
    "* `isinstance(obj, type)`\n",
    "  * obj가 type이면 True, 아니면 False를 리턴"
   ]
  },
  {
   "cell_type": "markdown",
   "metadata": {
    "slideshow": {
     "slide_type": "subslide"
    }
   },
   "source": [
    "## empty set\n",
    "* {}는 empty dict을 의미\n",
    "  * dict(): empty dict\n",
    "  * set(): empty set"
   ]
  },
  {
   "cell_type": "code",
   "execution_count": 35,
   "metadata": {
    "slideshow": {
     "slide_type": "fragment"
    }
   },
   "outputs": [],
   "source": [
    "ed = {}\n",
    "ed2 = dict()\n",
    "es = set()\n",
    "assert type(ed) == dict\n",
    "assert isinstance(ed, dict)\n",
    "assert isinstance(es, set)"
   ]
  },
  {
   "cell_type": "markdown",
   "metadata": {
    "slideshow": {
     "slide_type": "slide"
    }
   },
   "source": [
    "## Wrap-up\n",
    "* Data types: int, complex, float, str\n",
    "* Collections: list, tuple, dict, set"
   ]
  }
 ],
 "metadata": {
  "celltoolbar": "Slideshow",
  "kernelspec": {
   "display_name": "Python 3.6",
   "language": "python",
   "name": "python36"
  },
  "language_info": {
   "codemirror_mode": {
    "name": "ipython",
    "version": 3
   },
   "file_extension": ".py",
   "mimetype": "text/x-python",
   "name": "python",
   "nbconvert_exporter": "python",
   "pygments_lexer": "ipython3",
   "version": "3.6.3"
  },
  "livereveal": {
   "transition": "zoom"
  }
 },
 "nbformat": 4,
 "nbformat_minor": 2
}
