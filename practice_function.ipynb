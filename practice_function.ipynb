{
 "cells": [
  {
   "cell_type": "markdown",
   "metadata": {},
   "source": [
    "# Python practice\n",
    "## Data types, Controls, Function\n",
    "\n",
    "김응섭"
   ]
  },
  {
   "cell_type": "markdown",
   "metadata": {},
   "source": [
    "## Event loop\n",
    "1. 아래와 같이 메뉴를 출력\n",
    "1. 사용자에게 메뉴 선택을 숫자로 입력 받음\n",
    "1. 메뉴 숫자 이외의 숫자를 입력하면 다시 입력을 받음\n",
    "1. 선택된 메뉴를 출력\n",
    "1. 0을 입력하면 프로그램 종료"
   ]
  },
  {
   "cell_type": "code",
   "execution_count": null,
   "metadata": {
    "scrolled": true
   },
   "outputs": [],
   "source": [
    "menu = ['Exit', 'Say hello', 'Go home']\n",
    "while True:\n",
    "    print(*('{}. {}'.format(i, s) for i, s in enumerate(menu)), sep='\\t')\n",
    "    break"
   ]
  },
  {
   "cell_type": "markdown",
   "metadata": {},
   "source": [
    "## switch\n",
    "\n",
    "* 위의 event loop에서 사용자가 메뉴를 선택했을 때 map된 함수가 실행되도록 프로그램 수정\n",
    "* 함수의 이름은 `func.__name__`으로 얻을 수 있다."
   ]
  },
  {
   "cell_type": "code",
   "execution_count": null,
   "metadata": {},
   "outputs": [],
   "source": [
    "def exit():\n",
    "    print('bye')\n",
    "    \n",
    "def say_hello():\n",
    "    print('say hello')\n",
    "    \n",
    "def go_home():\n",
    "    print('go home')\n",
    "    \n",
    "menu = [exit, say_hello, go_home]\n",
    "\n",
    "while True:\n",
    "    print(*('{}. {}'.format(i, s.__name__) for i, s in enumerate(menu)), sep='\\t')\n",
    "    break"
   ]
  },
  {
   "cell_type": "markdown",
   "metadata": {},
   "source": [
    "## function\n",
    "* 숫자를 입력 받아서 그 숫자가 0~11까지 범위 안에 속하는지를 리턴하는 함수"
   ]
  },
  {
   "cell_type": "code",
   "execution_count": 1,
   "metadata": {},
   "outputs": [
    {
     "ename": "AssertionError",
     "evalue": "",
     "output_type": "error",
     "traceback": [
      "\u001b[0;31m---------------------------------------------------------------------------\u001b[0m",
      "\u001b[0;31mAssertionError\u001b[0m                            Traceback (most recent call last)",
      "\u001b[0;32m<ipython-input-1-b4e8eb82bc32>\u001b[0m in \u001b[0;36m<module>\u001b[0;34m()\u001b[0m\n\u001b[1;32m      2\u001b[0m     \u001b[0;32mpass\u001b[0m\u001b[0;34m\u001b[0m\u001b[0m\n\u001b[1;32m      3\u001b[0m \u001b[0;34m\u001b[0m\u001b[0m\n\u001b[0;32m----> 4\u001b[0;31m \u001b[0;32massert\u001b[0m \u001b[0min_range\u001b[0m\u001b[0;34m(\u001b[0m\u001b[0;36m0\u001b[0m\u001b[0;34m)\u001b[0m\u001b[0;34m\u001b[0m\u001b[0m\n\u001b[0m\u001b[1;32m      5\u001b[0m \u001b[0;32massert\u001b[0m \u001b[0min_range\u001b[0m\u001b[0;34m(\u001b[0m\u001b[0;36m11\u001b[0m\u001b[0;34m)\u001b[0m\u001b[0;34m\u001b[0m\u001b[0m\n\u001b[1;32m      6\u001b[0m \u001b[0;32massert\u001b[0m \u001b[0min_range\u001b[0m\u001b[0;34m(\u001b[0m\u001b[0;36m4\u001b[0m\u001b[0;34m)\u001b[0m\u001b[0;34m\u001b[0m\u001b[0m\n",
      "\u001b[0;31mAssertionError\u001b[0m: "
     ]
    }
   ],
   "source": [
    "def in_range(n):\n",
    "    pass\n",
    "\n",
    "assert in_range(0)\n",
    "assert in_range(11)\n",
    "assert in_range(4)\n",
    "assert in_range(10)\n",
    "assert not in_range(12)\n",
    "assert not in_range(-2)"
   ]
  },
  {
   "cell_type": "markdown",
   "metadata": {},
   "source": [
    "## nested function\n",
    "1. 숫자 범위를 입력 받고, 새로운함수를 리턴하는 함수를 작성\n",
    "  1. 숫자 범위는 시작 숫자와 끝 숫자로 받되, 끝 숫자는 exclusive (past-the-end)\n",
    "1. 리턴된 함수는 숫자 하나를 입력 받아서, 그 숫자가 1.에서 입력 받은 범위 안에 속하는지를 리턴하는 함수\n",
    "\n",
    "```python\n",
    "def range_checker(x, y):\n",
    "    def in_range(n):\n",
    "        pass\n",
    "    return in_range\n",
    "\n",
    "in_range = range_checker(0, 12)\n",
    "assert in_range(0)\n",
    "assert in_range(4)\n",
    "assert in_range(11)\n",
    "assert not in_range(12)\n",
    "```"
   ]
  },
  {
   "cell_type": "markdown",
   "metadata": {},
   "source": [
    "## nested function\n",
    "* range_checker의 숫자 범위를 range와 비슷하게 변형\n",
    "  1. 숫자 하나(x)만 입력하면 `[0, x)`으로 간주\n",
    "  1. 숫자 두 개(x, y)를 입력하면 `[x, y)`로 간주\n",
    "  \n",
    "```python\n",
    "def range_checker(x, y=None):\n",
    "    def in_range(n):\n",
    "        pass\n",
    "    return in_range\n",
    "\n",
    "in_range = range_checker(12)\n",
    "assert in_range(0)\n",
    "assert in_range(4)\n",
    "assert in_range(11)\n",
    "assert not in_range(12)\n",
    "```"
   ]
  },
  {
   "cell_type": "markdown",
   "metadata": {},
   "source": [
    "## list, set\n",
    "\n",
    "* 리스트를 입력 받아서 unique한 원소로만 구성된 리스트 리턴"
   ]
  },
  {
   "cell_type": "code",
   "execution_count": null,
   "metadata": {},
   "outputs": [],
   "source": [
    "l = [1, 2, 2, 3, 4, 3, 4, 5, 5, 5, 6]\n",
    "assert uniquify(l) == [1, 2, 3, 4, 5, 6]"
   ]
  },
  {
   "cell_type": "markdown",
   "metadata": {},
   "source": [
    "## str\n",
    "* 문자열을 받아서 그 속에 대문자가 몇 개인지 확인하는 함수를 작성"
   ]
  },
  {
   "cell_type": "code",
   "execution_count": null,
   "metadata": {},
   "outputs": [],
   "source": [
    "s = \"I'm Groot\"\n",
    "assert count_uppercase(s) == 2"
   ]
  },
  {
   "cell_type": "markdown",
   "metadata": {},
   "source": [
    "## list\n",
    "* 숫자로만 구성된 리스트를 입력 받아서 가장 큰 숫자의 index를 리턴하는 함수를 작성"
   ]
  },
  {
   "cell_type": "code",
   "execution_count": null,
   "metadata": {},
   "outputs": [],
   "source": [
    "values = [3, 1, 2, 9, 3, 8]\n",
    "assert argmax(values) == 3"
   ]
  },
  {
   "cell_type": "markdown",
   "metadata": {},
   "source": [
    "## list\n",
    "* 숫자로만 구성된 리스트를 입력 받아서 두 번 째로 큰 숫자를 리턴하는 함수 작성"
   ]
  },
  {
   "cell_type": "code",
   "execution_count": null,
   "metadata": {},
   "outputs": [],
   "source": [
    "assert second_largest([3, -2, 10, -1, 5]) == 5\n",
    "assert second_largest([-2, 1, 1, -3, 5]) == 1\n",
    "assert second_largest([1, 2, 3, 3]) == 3\n",
    "assert second_largest(['alpha', 'gamma', 'beta', 'delta']) == 'delta'"
   ]
  },
  {
   "cell_type": "markdown",
   "metadata": {},
   "source": [
    "## list of lists\n",
    "* list of lists로 구성된 matrix를 입력 받아, idendity matrix인지를 확인하는 함수를 작성\n",
    "* 입력된 matrix는 square matrix라고 가정"
   ]
  },
  {
   "cell_type": "code",
   "execution_count": null,
   "metadata": {},
   "outputs": [],
   "source": [
    "assert is_identity_matrix([[1]])\n",
    "assert is_identity_matrix([[1, 0, 0], [0, 1, 0], [0, 0, 1]])\n",
    "assert not is_identity_matrix([[1, 0, 0], [0, 1, 5], [0, 0, 1]])"
   ]
  },
  {
   "cell_type": "markdown",
   "metadata": {},
   "source": [
    "## list\n",
    "* 숫자로만 구성된 리스트를 입력 받아서 모두 곱한 값을 리턴하는 함수를 작성"
   ]
  },
  {
   "cell_type": "code",
   "execution_count": null,
   "metadata": {},
   "outputs": [],
   "source": [
    "assert product(1, 3, 4) == 1*3*4\n",
    "assert product(5, 3, 2, 8, 3, 1, 2, 4, 5, 11) == 5*3*2*8*3*1*2*4*5*11\n",
    "assert product(1) == 1"
   ]
  },
  {
   "cell_type": "markdown",
   "metadata": {},
   "source": [
    "## list\n",
    "* list를 원소로 갖는 리스트를 입력 받아서 flatten하는 함수를 작성\n",
    "\n",
    "```python\n",
    "ll = [[0, 1], [2, 3], [4, 5], [6, 7]]\n",
    "assert flatten(ll) == [0, 1, 2, 3, 4, 5, 6, 7]\n",
    "```"
   ]
  },
  {
   "cell_type": "code",
   "execution_count": null,
   "metadata": {},
   "outputs": [],
   "source": [
    "ll = [[0, 1], [2, 3], [4, 5], [6, 7]]\n",
    "assert flatten(ll) == [0, 1, 2, 3, 4, 5, 6, 7]"
   ]
  },
  {
   "cell_type": "markdown",
   "metadata": {},
   "source": [
    "## list\n",
    "* list를 원소로 갖는 리스트를 입력 받아서 flatten하는 함수를 작성\n",
    "\n",
    "```python\n",
    "ll = [0, [1, 2, 3], 4, 5, [6, 7]]\n",
    "assert flatten(ll) == [0, 1, 2, 3, 4, 5, 6, 7]\n",
    "```"
   ]
  },
  {
   "cell_type": "code",
   "execution_count": null,
   "metadata": {},
   "outputs": [],
   "source": [
    "ll = [0, [1, 2, 3], 4, 5, [6, 7]]\n",
    "assert flatten(ll) == [0, 1, 2, 3, 4, 5, 6, 7]"
   ]
  }
 ],
 "metadata": {
  "kernelspec": {
   "display_name": "Python 3.6",
   "language": "python",
   "name": "python36"
  },
  "language_info": {
   "codemirror_mode": {
    "name": "ipython",
    "version": 3
   },
   "file_extension": ".py",
   "mimetype": "text/x-python",
   "name": "python",
   "nbconvert_exporter": "python",
   "pygments_lexer": "ipython3",
   "version": "3.6.3"
  }
 },
 "nbformat": 4,
 "nbformat_minor": 2
}
