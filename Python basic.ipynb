{
 "cells": [
  {
   "cell_type": "markdown",
   "metadata": {
    "slideshow": {
     "slide_type": "slide"
    }
   },
   "source": [
    "# Python basic\n",
    "김응섭"
   ]
  },
  {
   "cell_type": "markdown",
   "metadata": {
    "slideshow": {
     "slide_type": "slide"
    }
   },
   "source": [
    "## 교육 소개\n",
    "\n",
    "* Objective\n",
    "* 교육 방식"
   ]
  },
  {
   "cell_type": "markdown",
   "metadata": {
    "slideshow": {
     "slide_type": "subslide"
    }
   },
   "source": [
    "## Objective\n",
    "\n",
    "* Python을 유행시킴\n",
    "  * Workflow 자동화 툴로서\n",
    "  * 일상적으로 사용하는 언어로서\n",
    "  * Perl 및 Shell script를 대체\n",
    "* Open-source software 생태계의 발전된 기술 소개 및 사용 유도"
   ]
  },
  {
   "cell_type": "markdown",
   "metadata": {
    "slideshow": {
     "slide_type": "subslide"
    }
   },
   "source": [
    "## 교육 방식\n",
    "* 2시간/일 강의 x 5일\n",
    "  * 기본 문법 교육\n",
    "  * 연속 수강 필요\n",
    "* 자율 실습\n",
    "  * 강의 자료 외부 접속 가능\n",
    "  * 온라인에서 코드 변경 후 실행 가능"
   ]
  },
  {
   "cell_type": "markdown",
   "metadata": {
    "slideshow": {
     "slide_type": "slide"
    }
   },
   "source": [
    "## 교육 내용\n",
    "\n",
    "1. Day 1- Basic syntax\n",
    "1. Day 2- Data structure\n",
    "1. Day 3- Exception, IO, Class\n",
    "1. Day 4- Packages\n",
    "1. Day 5- Advanced subjects"
   ]
  },
  {
   "cell_type": "markdown",
   "metadata": {
    "slideshow": {
     "slide_type": "slide"
    }
   },
   "source": [
    "## Outline (Day 1)\n",
    "* Introduction\n",
    "* Basic data types\n",
    "* Expressions\n",
    "* Control statements\n",
    "* Basic Function"
   ]
  },
  {
   "cell_type": "markdown",
   "metadata": {
    "slideshow": {
     "slide_type": "slide"
    }
   },
   "source": [
    "![Python](python-logo-generic.svg)\n",
    "* A widely used high-level programming language\n",
    "  * for general-purpose programming\n",
    "* first released in 1991\n",
    "  * created by Guido van Rossum\n",
    "* An interpreted language\n",
    "\n",
    "_(from Wikipedia)_"
   ]
  },
  {
   "cell_type": "markdown",
   "metadata": {
    "slideshow": {
     "slide_type": "subslide"
    }
   },
   "source": [
    "## 이렇게 생겼어요"
   ]
  },
  {
   "cell_type": "code",
   "execution_count": 1,
   "metadata": {
    "slideshow": {
     "slide_type": "fragment"
    }
   },
   "outputs": [
    {
     "name": "stdout",
     "output_type": "stream",
     "text": [
      "Hello, World!\n"
     ]
    }
   ],
   "source": [
    "def greet(name):\n",
    "    print('Hello, {}!'.format(name))\n",
    "\n",
    "greet('World')"
   ]
  }
 ],
 "metadata": {
  "celltoolbar": "Slideshow",
  "kernelspec": {
   "display_name": "Python 3",
   "language": "python",
   "name": "python3"
  },
  "language_info": {
   "codemirror_mode": {
    "name": "ipython",
    "version": 3
   },
   "file_extension": ".py",
   "mimetype": "text/x-python",
   "name": "python",
   "nbconvert_exporter": "python",
   "pygments_lexer": "ipython3",
   "version": "3.6.4"
  },
  "livereveal": {
   "theme": "Solarized",
   "transition": "zoom"
  }
 },
 "nbformat": 4,
 "nbformat_minor": 2
}
