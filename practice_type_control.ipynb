{
 "cells": [
  {
   "cell_type": "markdown",
   "metadata": {
    "slideshow": {
     "slide_type": "slide"
    }
   },
   "source": [
    "# Python practice\n",
    "## Data types, Controls\n",
    "\n",
    "김응섭"
   ]
  },
  {
   "cell_type": "markdown",
   "metadata": {
    "slideshow": {
     "slide_type": "slide"
    }
   },
   "source": [
    "## print\n",
    "\n",
    "* 주어진 리스트를 출력하되, unpack operator(`*`)를 사용하여 []가 출력되지 않도록 한다.\n",
    "   1. 문자 사이를 공백으로 구분\n",
    "   1. 문자 사이를 ','로 구분하여 출력\n",
    "   1. 문자 사이를 '\\n'으로 구분하되 마지막 줄에 '.'를 출력"
   ]
  },
  {
   "cell_type": "code",
   "execution_count": 22,
   "metadata": {
    "slideshow": {
     "slide_type": "fragment"
    }
   },
   "outputs": [
    {
     "name": "stdout",
     "output_type": "stream",
     "text": [
      "[0, 1, 2, 3]\n"
     ]
    }
   ],
   "source": [
    "l = list(range(4))\n",
    "print(l)"
   ]
  },
  {
   "cell_type": "markdown",
   "metadata": {
    "slideshow": {
     "slide_type": "slide"
    }
   },
   "source": [
    "## format\n",
    "* 주어진 dict를 출력하되, {}가 출력되지 않도록 한다.\n",
    "  * 한글 과목명0: 점수, 한글 과목명1: 점수, ..."
   ]
  },
  {
   "cell_type": "code",
   "execution_count": 15,
   "metadata": {
    "slideshow": {
     "slide_type": "fragment"
    }
   },
   "outputs": [
    {
     "name": "stdout",
     "output_type": "stream",
     "text": [
      "{'math': 3.5, 'english': 1.5, 'physics': 3.0}\n"
     ]
    }
   ],
   "source": [
    "d = {'math': 3.5, 'english': 1.5, 'physics': 3.0}\n",
    "\n",
    "print(d)"
   ]
  },
  {
   "cell_type": "markdown",
   "metadata": {
    "slideshow": {
     "slide_type": "slide"
    }
   },
   "source": [
    "## print\n",
    "* 주어진 크기(width, height)대로 `*`을 출력하는 함수를 작성하시오.\n",
    "\n",
    "```python\n",
    "print_box(width=2, height=3)\n",
    "**\n",
    "**\n",
    "**\n",
    "```"
   ]
  },
  {
   "cell_type": "code",
   "execution_count": null,
   "metadata": {
    "slideshow": {
     "slide_type": "fragment"
    }
   },
   "outputs": [],
   "source": [
    "def print_box(width, height):\n",
    "    pass"
   ]
  },
  {
   "cell_type": "markdown",
   "metadata": {
    "slideshow": {
     "slide_type": "slide"
    }
   },
   "source": [
    "## str\n",
    "* 문자열을 거꾸로 리턴하는 함수를 작성하시오.\n",
    "\n",
    "```python\n",
    "assert reveresed_str(\"evian\") == \"naive\"\n",
    "```"
   ]
  },
  {
   "cell_type": "code",
   "execution_count": null,
   "metadata": {
    "slideshow": {
     "slide_type": "fragment"
    }
   },
   "outputs": [],
   "source": [
    "def reveresed_str(word):\n",
    "    return ''\n",
    "\n",
    "assert reveresed_str(\"evian\") == \"naive\""
   ]
  },
  {
   "cell_type": "markdown",
   "metadata": {
    "slideshow": {
     "slide_type": "slide"
    }
   },
   "source": [
    "## list\n",
    "* 아래와 같이 주어진 리스트에서 홀수 원소가 몇 개인지를 리턴하는 함수를 작성하시오.\n",
    "```python\n",
    "assert count_odds([1, 2, 3, 4]) == 2\n",
    "assert count_odds([1, 2, 3, 4, 5]) == 3\n",
    "```"
   ]
  },
  {
   "cell_type": "markdown",
   "metadata": {
    "slideshow": {
     "slide_type": "slide"
    }
   },
   "source": [
    "## list\n",
    "* 아래와 같이 리스트로 주어진 값의 평균을 리턴하는 함수를 작성하시오.\n",
    "```python\n",
    "assert average([1, 2, 3, 4]) == 2.5\n",
    "assert average([1, 2, 3, 4, 5]) == 3.0\n",
    "```"
   ]
  },
  {
   "cell_type": "markdown",
   "metadata": {
    "slideshow": {
     "slide_type": "slide"
    }
   },
   "source": [
    "## list\n",
    "* 아래와 같이 주어진 리스트에서 짝수 index 위치에 있는 원소들만 더해서 출력하시오.\n",
    "```python\n",
    "assert sum_even_index_elem([1, 2, -3]) == -2\n",
    "assert sum_even_index_elem([1, -2, -3, 1, -2, -3]) == -4\n",
    "assert sum_even_index_elem([-1, 1, 1, 1]) == 0\n",
    "```"
   ]
  },
  {
   "cell_type": "markdown",
   "metadata": {
    "slideshow": {
     "slide_type": "slide"
    }
   },
   "source": [
    "# list\n",
    "* 아래와 같이 주어진 리스트에서 오른쪽 원소부터 하나 건너 하나씩 뽑은 리스트를 리턴하는 함수를 작성하시오.\n",
    "```python\n",
    "assert rev_every_other_elem([1, 2, 3, 4, 5, 6]) == [6, 4, 2]\n",
    "assert rev_every_other_elem([1, 2, 3, 4]) == [4, 2]\n",
    "assert rev_every_other_elem([1]) == [1]\n",
    "```"
   ]
  },
  {
   "cell_type": "markdown",
   "metadata": {
    "slideshow": {
     "slide_type": "slide"
    }
   },
   "source": [
    "## list\n",
    "* 두 개의 리스트가 주어졌을 때, 같은 index에 있는 두 리스트의 원소들을 더하여 새로운 리스트를 만드는 함수를 작성하시오.\n",
    "```python\n",
    "assert elemwise_add([], []) == []\n",
    "assert elemwise_add([1, 2, 3], [1, 2, 3]) == [2, 4, 6]\n",
    "assert elemwise_add([0, 0, 0], [1, 2, 3]) == [1, 2, 3]\n",
    "```"
   ]
  },
  {
   "cell_type": "markdown",
   "metadata": {
    "slideshow": {
     "slide_type": "slide"
    }
   },
   "source": [
    "## List of lists\n",
    "* 주어진 matrix에서 가장 큰 원소를 출력하시오\n",
    "  \n",
    "```python\n",
    "assert largest_elem([[1, 2, 3], [4, 5, 6], [7, 8, 9]]) == 9\n",
    "assert largest_elem([[3, 2, 1], [0, -1, -2]]) == 3\n",
    "assert largest_elem([[1, 2, 3, 4], [], [34], [], [], [56], [67]]) == 67\n",
    "```"
   ]
  },
  {
   "cell_type": "markdown",
   "metadata": {
    "slideshow": {
     "slide_type": "slide"
    }
   },
   "source": [
    "## dict\n",
    "\n",
    "* dict가 주어졌을 때, value가 int 원소만 추출"
   ]
  },
  {
   "cell_type": "code",
   "execution_count": 17,
   "metadata": {
    "slideshow": {
     "slide_type": "fragment"
    }
   },
   "outputs": [],
   "source": [
    "d = {'a': 0, 'b': 'hello', 'c': 2, 'd': 3.14}"
   ]
  },
  {
   "cell_type": "markdown",
   "metadata": {
    "slideshow": {
     "slide_type": "slide"
    }
   },
   "source": [
    "## dict\n",
    "* dict가 주어졌을 때, key <-> value를 교환한 새 dict를 리턴하는 함수를 만드시오."
   ]
  },
  {
   "cell_type": "code",
   "execution_count": 16,
   "metadata": {
    "slideshow": {
     "slide_type": "fragment"
    }
   },
   "outputs": [],
   "source": [
    "d = {'a': 0, 'b': 1, 'c': 2}"
   ]
  },
  {
   "cell_type": "markdown",
   "metadata": {
    "slideshow": {
     "slide_type": "slide"
    }
   },
   "source": [
    "## set\n",
    "* set을 이용하여 list에 있는 중복된 숫자를 제거하시오."
   ]
  },
  {
   "cell_type": "markdown",
   "metadata": {
    "slideshow": {
     "slide_type": "slide"
    }
   },
   "source": [
    "## for loop\n",
    "* 주어진 숫자 대로 아래와 같이 출력하는 함수를 작성하시오.\n",
    "\n",
    "```python\n",
    "num_triangle(5)\n",
    "1\n",
    "1 2\n",
    "1 2 3\n",
    "1 2 3 4\n",
    "1 2 3 4 5\n",
    "\n",
    "num_triangle(1)\n",
    "1\n",
    "\n",
    "num_triangle(0)\n",
    "\n",
    "```"
   ]
  },
  {
   "cell_type": "markdown",
   "metadata": {
    "slideshow": {
     "slide_type": "slide"
    }
   },
   "source": [
    "## Average\n",
    "\n",
    "* 시험 점수가 아래와 같이 사람별로 주어졌다. 개개인의 평균 점수를 출력하시오."
   ]
  },
  {
   "cell_type": "code",
   "execution_count": 19,
   "metadata": {
    "slideshow": {
     "slide_type": "fragment"
    }
   },
   "outputs": [
    {
     "name": "stdout",
     "output_type": "stream",
     "text": [
      "{'kim': {'math': 3.5, 'english': 1.5, 'physics': 3.0}, 'lee': {'math': 2.0, 'english': 4.5, 'physics': 2.0}, 'park': {'math': 4.0, 'english': 1.0, 'physics': 4.0}}\n"
     ]
    }
   ],
   "source": [
    "scores = {'kim': {'math': 3.5, 'english': 1.5, 'physics': 3.0},\n",
    "          'lee': {'math': 2.0, 'english': 4.5, 'physics': 2.0},\n",
    "          'park': {'math': 4.0, 'english': 1.0, 'physics': 4.0}}"
   ]
  }
 ],
 "metadata": {
  "celltoolbar": "Slideshow",
  "kernelspec": {
   "display_name": "Python 3.6",
   "language": "python",
   "name": "python36"
  },
  "language_info": {
   "codemirror_mode": {
    "name": "ipython",
    "version": 3
   },
   "file_extension": ".py",
   "mimetype": "text/x-python",
   "name": "python",
   "nbconvert_exporter": "python",
   "pygments_lexer": "ipython3",
   "version": "3.6.3"
  }
 },
 "nbformat": 4,
 "nbformat_minor": 2
}
