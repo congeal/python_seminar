{
 "cells": [
  {
   "cell_type": "markdown",
   "metadata": {
    "slideshow": {
     "slide_type": "slide"
    }
   },
   "source": [
    "![Python](assets/python-logo-generic.svg)\n",
    "### Class\n",
    "#### 김응섭"
   ]
  },
  {
   "cell_type": "markdown",
   "metadata": {
    "slideshow": {
     "slide_type": "slide"
    }
   },
   "source": [
    "## Outline\n",
    "* Class\n",
    "* Module / Package\n",
    "* Meta-programming\n",
    "* Wrap-up"
   ]
  },
  {
   "cell_type": "markdown",
   "metadata": {
    "slideshow": {
     "slide_type": "slide"
    }
   },
   "source": [
    "## Class\n",
    "* OOP\n",
    "* class\n",
    "* object\n",
    "* constructor\n",
    "* self\n",
    "* attribute\n",
    "* static method\n",
    "* magic\n",
    "* duck typing\n",
    "* inheritance\n",
    "* ~~abc~~"
   ]
  },
  {
   "cell_type": "markdown",
   "metadata": {
    "slideshow": {
     "slide_type": "subslide"
    }
   },
   "source": [
    "## OOP\n",
    "* Object-oriented programming\n",
    "    * data과 관련된 operation을 하나로 묶어서 관리\n",
    "    * 복잡해지는 코드를 효율적으로 관리하기 위한 방법\n",
    "    * 실세계의 object를 modeling\n",
    "    * object에게 message를 보내서 그 object가 action을 하도록 함"
   ]
  },
  {
   "cell_type": "markdown",
   "metadata": {
    "slideshow": {
     "slide_type": "subslide"
    }
   },
   "source": [
    "## OOP\n",
    "* OOP의 3가지 중점 사항\n",
    "    * Encapsulation\n",
    "        * data (attribute) + operation (method)\n",
    "    * Polymorphism\n",
    "        * 같은 이름의 operation이 type마다 다르게 수행\n",
    "    * Inheritance\n",
    "        * 같은 종류의 파생형들이 속성 및 operation 공유"
   ]
  },
  {
   "cell_type": "markdown",
   "metadata": {
    "slideshow": {
     "slide_type": "subslide"
    }
   },
   "source": [
    "## class\n",
    "* User data type: attribute + method\n",
    "* Class 정의"
   ]
  },
  {
   "cell_type": "code",
   "execution_count": 1,
   "metadata": {
    "slideshow": {
     "slide_type": "fragment"
    }
   },
   "outputs": [],
   "source": [
    "class ClassName:    # class 키워드로 정의\n",
    "    def __init__(self, a, b=None):  # constructor\n",
    "        self.a = a      # attribute 정의\n",
    "        self.b = b\n",
    "    \n",
    "    def some_method(self, a):   # method 정의\n",
    "        return self.a + a"
   ]
  },
  {
   "cell_type": "markdown",
   "metadata": {
    "slideshow": {
     "slide_type": "subslide"
    }
   },
   "source": [
    "## Naming convension\n",
    "* var, function: snake_case\n",
    "* class: CamelCase\n",
    "* `_<symbol>`: internal member without protection\n",
    "* `__<symbol>`: internal member with protection\n",
    "* `__<symbol>__`: predefined member"
   ]
  },
  {
   "cell_type": "markdown",
   "metadata": {
    "slideshow": {
     "slide_type": "subslide"
    }
   },
   "source": [
    "## object\n",
    "* Class의 instance로 `ClassName()`을 통해 생성\n",
    "* Object의 attribute는 `obj.attr_name`을 통해 접근\n",
    "* Object의 method는 `obj.method()`을 통해 실행"
   ]
  },
  {
   "cell_type": "markdown",
   "metadata": {
    "slideshow": {
     "slide_type": "subslide"
    }
   },
   "source": [
    "## object 사용 예제"
   ]
  },
  {
   "cell_type": "code",
   "execution_count": 2,
   "metadata": {
    "slideshow": {
     "slide_type": "fragment"
    }
   },
   "outputs": [
    {
     "name": "stdout",
     "output_type": "stream",
     "text": [
      "1\n",
      "3\n"
     ]
    }
   ],
   "source": [
    "class ClassName:    # class 키워드로 정의\n",
    "    '''This is a sample class definition''' # __doc__\n",
    "    def __init__(self, a, b=None):  # constructor\n",
    "        self.a = a      # attribute 정의\n",
    "        self.b = b\n",
    "    \n",
    "    def some_method(self, a):   # method 정의\n",
    "        return self.a + a\n",
    "    \n",
    "inst = ClassName(1)\n",
    "print(inst.a)\n",
    "print(inst.some_method(2))"
   ]
  },
  {
   "cell_type": "markdown",
   "metadata": {
    "slideshow": {
     "slide_type": "subslide"
    }
   },
   "source": [
    "## self\n",
    "* Method 내부에서 instance data에 접근할 때 사용\n",
    "* 다른 언어와 다르게 사용자가 명시적으로 지정해야 한다\n",
    "* 이름이 꼭 self일 필요는 없다\n",
    "* `inst.some_method(a)` <=> `some_method(inst, a)`"
   ]
  },
  {
   "cell_type": "markdown",
   "metadata": {
    "slideshow": {
     "slide_type": "subslide"
    }
   },
   "source": [
    "## `__init__`\n",
    "* Python class의 constructor\n",
    "    * object를 위한 기본 메모리 할당 후에 바로 호출됨\n",
    "    * attribute setting 등의 초기화 동작을 수행"
   ]
  },
  {
   "cell_type": "markdown",
   "metadata": {
    "slideshow": {
     "slide_type": "subslide"
    }
   },
   "source": [
    "## attribute\n",
    "* obj.<attr_name>으로 access 가능\n",
    "* protection 없음\n",
    "    * no {private, protected, public}\n",
    "* class 정의 외부에서도 attribute 추가 삭제 가능"
   ]
  },
  {
   "cell_type": "markdown",
   "metadata": {
    "slideshow": {
     "slide_type": "subslide"
    }
   },
   "source": [
    "## attribute\n",
    "* `obj.__dict__`: attribute를 담고 있는 dictionary\n",
    "* `del obj.<attr>`: attribute 삭제 "
   ]
  },
  {
   "cell_type": "code",
   "execution_count": 3,
   "metadata": {
    "slideshow": {
     "slide_type": "fragment"
    }
   },
   "outputs": [
    {
     "name": "stdout",
     "output_type": "stream",
     "text": [
      "{'b': 2, 'a': 1}\n",
      "{'a': 1}\n"
     ]
    }
   ],
   "source": [
    "class ClassName:    # class 키워드로 정의\n",
    "    def __init__(self, a):  # constructor\n",
    "        self.a = a      # attribute 정의\n",
    "\n",
    "inst = ClassName(1)\n",
    "inst.b = 2\n",
    "print(inst.__dict__)\n",
    "del inst.b\n",
    "print(inst.__dict__)"
   ]
  },
  {
   "cell_type": "markdown",
   "metadata": {
    "slideshow": {
     "slide_type": "subslide"
    }
   },
   "source": [
    "## Visibility of private memeber\n",
    "* `_member`: 외부에서 직접 접근 가능 (직접 접근 비추천)\n",
    "* `__member`: 외부에서 직접 접근 불가능 (protected)\n",
    "  * 그러나 `obj._<class_name>__member`로 접근 가능"
   ]
  },
  {
   "cell_type": "code",
   "execution_count": 1,
   "metadata": {
    "slideshow": {
     "slide_type": "fragment"
    }
   },
   "outputs": [
    {
     "name": "stdout",
     "output_type": "stream",
     "text": [
      "2\n"
     ]
    }
   ],
   "source": [
    "class SomeClass:\n",
    "    def __init__(self, a):\n",
    "        self._a = a\n",
    "        self.__a = a\n",
    "        \n",
    "inst = SomeClass(2)\n",
    "print(inst._a) # No error"
   ]
  },
  {
   "cell_type": "markdown",
   "metadata": {
    "slideshow": {
     "slide_type": "subslide"
    }
   },
   "source": [
    "## Visibility of private memeber"
   ]
  },
  {
   "cell_type": "code",
   "execution_count": 2,
   "metadata": {
    "slideshow": {
     "slide_type": "fragment"
    }
   },
   "outputs": [
    {
     "ename": "AttributeError",
     "evalue": "'SomeClass' object has no attribute '__a'",
     "output_type": "error",
     "traceback": [
      "\u001b[0;31m---------------------------------------------------------------------------\u001b[0m",
      "\u001b[0;31mAttributeError\u001b[0m                            Traceback (most recent call last)",
      "\u001b[0;32m<ipython-input-2-d334af6f7600>\u001b[0m in \u001b[0;36m<module>\u001b[0;34m()\u001b[0m\n\u001b[0;32m----> 1\u001b[0;31m \u001b[0minst\u001b[0m\u001b[0;34m.\u001b[0m\u001b[0m__a\u001b[0m \u001b[0;31m# illegal\u001b[0m\u001b[0;34m\u001b[0m\u001b[0m\n\u001b[0m",
      "\u001b[0;31mAttributeError\u001b[0m: 'SomeClass' object has no attribute '__a'"
     ]
    }
   ],
   "source": [
    "print(inst.__a) # illegal"
   ]
  },
  {
   "cell_type": "code",
   "execution_count": 3,
   "metadata": {
    "slideshow": {
     "slide_type": "fragment"
    }
   },
   "outputs": [
    {
     "name": "stdout",
     "output_type": "stream",
     "text": [
      "2\n"
     ]
    }
   ],
   "source": [
    "print(inst._SomeClass__a)"
   ]
  },
  {
   "cell_type": "markdown",
   "metadata": {
    "slideshow": {
     "slide_type": "subslide"
    }
   },
   "source": [
    "## property\n",
    "* method로 구현된 attribute (in Python)\n",
    "* attribute에 access control 기능 부여 (getter)"
   ]
  },
  {
   "cell_type": "code",
   "execution_count": 4,
   "metadata": {
    "slideshow": {
     "slide_type": "fragment"
    }
   },
   "outputs": [
    {
     "name": "stdout",
     "output_type": "stream",
     "text": [
      "{'_a': 1}\n",
      "1\n"
     ]
    },
    {
     "ename": "AttributeError",
     "evalue": "can't set attribute",
     "output_type": "error",
     "traceback": [
      "\u001b[0;31m---------------------------------------------------------------------------\u001b[0m",
      "\u001b[0;31mAttributeError\u001b[0m                            Traceback (most recent call last)",
      "\u001b[0;32m<ipython-input-4-4abd895d418d>\u001b[0m in \u001b[0;36m<module>\u001b[0;34m()\u001b[0m\n\u001b[1;32m     10\u001b[0m \u001b[0mprint\u001b[0m\u001b[0;34m(\u001b[0m\u001b[0minst\u001b[0m\u001b[0;34m.\u001b[0m\u001b[0m__dict__\u001b[0m\u001b[0;34m)\u001b[0m\u001b[0;34m\u001b[0m\u001b[0m\n\u001b[1;32m     11\u001b[0m \u001b[0mprint\u001b[0m\u001b[0;34m(\u001b[0m\u001b[0minst\u001b[0m\u001b[0;34m.\u001b[0m\u001b[0ma\u001b[0m\u001b[0;34m)\u001b[0m\u001b[0;34m\u001b[0m\u001b[0m\n\u001b[0;32m---> 12\u001b[0;31m \u001b[0minst\u001b[0m\u001b[0;34m.\u001b[0m\u001b[0ma\u001b[0m \u001b[0;34m=\u001b[0m \u001b[0;36m2\u001b[0m          \u001b[0;31m# no setter for a\u001b[0m\u001b[0;34m\u001b[0m\u001b[0m\n\u001b[0m",
      "\u001b[0;31mAttributeError\u001b[0m: can't set attribute"
     ]
    }
   ],
   "source": [
    "class ClassName:    # class 키워드로 정의\n",
    "    def __init__(self, a):  # constructor\n",
    "        self._a = a      # attribute 정의\n",
    "    \n",
    "    @property           # getter\n",
    "    def a(self):\n",
    "        return self._a\n",
    "\n",
    "inst = ClassName(1)\n",
    "print(inst.__dict__)\n",
    "print(inst.a)\n",
    "inst.a = 2          # no setter for a"
   ]
  },
  {
   "cell_type": "markdown",
   "metadata": {
    "slideshow": {
     "slide_type": "subslide"
    }
   },
   "source": [
    "## setter\n",
    "* attribute에 setter 지정"
   ]
  },
  {
   "cell_type": "code",
   "execution_count": 5,
   "metadata": {
    "slideshow": {
     "slide_type": "fragment"
    }
   },
   "outputs": [
    {
     "name": "stdout",
     "output_type": "stream",
     "text": [
      "2\n"
     ]
    },
    {
     "ename": "ValueError",
     "evalue": "Must be >= 0",
     "output_type": "error",
     "traceback": [
      "\u001b[0;31m---------------------------------------------------------------------------\u001b[0m",
      "\u001b[0;31mValueError\u001b[0m                                Traceback (most recent call last)",
      "\u001b[0;32m<ipython-input-5-fed43f578df9>\u001b[0m in \u001b[0;36m<module>\u001b[0;34m()\u001b[0m\n\u001b[1;32m     16\u001b[0m \u001b[0minst\u001b[0m\u001b[0;34m.\u001b[0m\u001b[0ma\u001b[0m \u001b[0;34m=\u001b[0m \u001b[0;36m2\u001b[0m\u001b[0;34m\u001b[0m\u001b[0m\n\u001b[1;32m     17\u001b[0m \u001b[0mprint\u001b[0m\u001b[0;34m(\u001b[0m\u001b[0minst\u001b[0m\u001b[0;34m.\u001b[0m\u001b[0ma\u001b[0m\u001b[0;34m)\u001b[0m\u001b[0;34m\u001b[0m\u001b[0m\n\u001b[0;32m---> 18\u001b[0;31m \u001b[0minst\u001b[0m\u001b[0;34m.\u001b[0m\u001b[0ma\u001b[0m \u001b[0;34m=\u001b[0m \u001b[0;34m-\u001b[0m\u001b[0;36m1\u001b[0m\u001b[0;34m\u001b[0m\u001b[0m\n\u001b[0m",
      "\u001b[0;32m<ipython-input-5-fed43f578df9>\u001b[0m in \u001b[0;36ma\u001b[0;34m(self, value)\u001b[0m\n\u001b[1;32m     10\u001b[0m     \u001b[0;32mdef\u001b[0m \u001b[0ma\u001b[0m\u001b[0;34m(\u001b[0m\u001b[0mself\u001b[0m\u001b[0;34m,\u001b[0m \u001b[0mvalue\u001b[0m\u001b[0;34m)\u001b[0m\u001b[0;34m:\u001b[0m\u001b[0;34m\u001b[0m\u001b[0m\n\u001b[1;32m     11\u001b[0m         \u001b[0;32mif\u001b[0m \u001b[0mvalue\u001b[0m \u001b[0;34m<\u001b[0m \u001b[0;36m0\u001b[0m\u001b[0;34m:\u001b[0m\u001b[0;34m\u001b[0m\u001b[0m\n\u001b[0;32m---> 12\u001b[0;31m             \u001b[0;32mraise\u001b[0m \u001b[0mValueError\u001b[0m\u001b[0;34m(\u001b[0m\u001b[0;34m'Must be >= 0'\u001b[0m\u001b[0;34m)\u001b[0m\u001b[0;34m\u001b[0m\u001b[0m\n\u001b[0m\u001b[1;32m     13\u001b[0m         \u001b[0mself\u001b[0m\u001b[0;34m.\u001b[0m\u001b[0m_a\u001b[0m \u001b[0;34m=\u001b[0m \u001b[0mvalue\u001b[0m\u001b[0;34m\u001b[0m\u001b[0m\n\u001b[1;32m     14\u001b[0m \u001b[0;34m\u001b[0m\u001b[0m\n",
      "\u001b[0;31mValueError\u001b[0m: Must be >= 0"
     ]
    }
   ],
   "source": [
    "class ClassName:    # class 키워드로 정의\n",
    "    def __init__(self, a):  # constructor\n",
    "        self._a = a      # attribute 정의\n",
    "    \n",
    "    @property           # getter\n",
    "    def a(self):\n",
    "        return self._a\n",
    "\n",
    "    @a.setter\n",
    "    def a(self, value):\n",
    "        if value < 0:\n",
    "            raise ValueError('Must be >= 0')\n",
    "        self._a = value\n",
    "\n",
    "inst = ClassName(1)\n",
    "inst.a = 2\n",
    "print(inst.a)\n",
    "inst.a = -1"
   ]
  },
  {
   "cell_type": "markdown",
   "metadata": {
    "slideshow": {
     "slide_type": "subslide"
    }
   },
   "source": [
    "## static method\n",
    "* self에 접근하지 않는 method\n",
    "* class 공용 method\n",
    "* class 이름 또는 instance 이름으로 접근 가능"
   ]
  },
  {
   "cell_type": "code",
   "execution_count": 6,
   "metadata": {
    "slideshow": {
     "slide_type": "fragment"
    }
   },
   "outputs": [
    {
     "name": "stdout",
     "output_type": "stream",
     "text": [
      "inside static method\n"
     ]
    }
   ],
   "source": [
    "class ClassName:\n",
    "    @staticmethod\n",
    "    def static_method():    # no self\n",
    "        print('inside static method')\n",
    "\n",
    "ClassName.static_method()"
   ]
  },
  {
   "cell_type": "markdown",
   "metadata": {
    "slideshow": {
     "slide_type": "subslide"
    }
   },
   "source": [
    "## magic\n",
    "* magic method\n",
    "    * 사용자가 직접 호출하지 않은데 operation이 되기 때문에 magic 이라고 부름\n",
    "    * 공식 문서에는 special method로 불림\n",
    "    * DUNDER(Double UNDERscore method)로도 불림\n",
    "* predefined method를 Python이 호출하는 형태로 구현됨\n",
    "* operator overriding, protocol 구현을 위해 사용됨"
   ]
  },
  {
   "cell_type": "markdown",
   "metadata": {
    "slideshow": {
     "slide_type": "subslide"
    }
   },
   "source": [
    "## magic example\n",
    "* `__str__(self)`: print(obj)로 나타낼 string\n",
    "* `__repr__(self)`: object를 나타내는 string\n",
    "    * 보통 Object 생성 코드를 string으로 돌려줌\n",
    "    * repr()로 호출됨\n",
    "    * `__str__`이 없을 때 `__repr__`이 사용됨"
   ]
  },
  {
   "cell_type": "markdown",
   "metadata": {
    "slideshow": {
     "slide_type": "subslide"
    }
   },
   "source": [
    "## magic example\n",
    "* `__str__(self)`, `__repr__`(self)"
   ]
  },
  {
   "cell_type": "code",
   "execution_count": 9,
   "metadata": {
    "slideshow": {
     "slide_type": "fragment"
    }
   },
   "outputs": [
    {
     "name": "stdout",
     "output_type": "stream",
     "text": [
      "<__main__.ClassName object at 0x7f27069c1c50>\n",
      "<__main__.ClassName object at 0x7f27069c1c50>\n"
     ]
    }
   ],
   "source": [
    "class ClassName:\n",
    "    def __init__(self, a):\n",
    "        self.a = a\n",
    "        \n",
    "inst = ClassName(2)\n",
    "print(repr(inst))\n",
    "print(inst)"
   ]
  },
  {
   "cell_type": "markdown",
   "metadata": {
    "slideshow": {
     "slide_type": "subslide"
    }
   },
   "source": [
    "## magic example\n",
    "* `__str__(self)`, `__repr__`(self)"
   ]
  },
  {
   "cell_type": "code",
   "execution_count": 6,
   "metadata": {
    "slideshow": {
     "slide_type": "fragment"
    }
   },
   "outputs": [
    {
     "name": "stdout",
     "output_type": "stream",
     "text": [
      "ClassName(a=2)\n",
      "a=2\n"
     ]
    }
   ],
   "source": [
    "class ClassName:\n",
    "    def __init__(self, a):\n",
    "        self.a = a\n",
    "\n",
    "    def __repr__(self):\n",
    "        return 'ClassName(a={a})'.format(**self.__dict__)\n",
    "    \n",
    "    def __str__(self):\n",
    "        return 'a={a}'.format(**self.__dict__)\n",
    "\n",
    "inst = ClassName(2)\n",
    "print(repr(inst))\n",
    "print(inst)"
   ]
  },
  {
   "cell_type": "markdown",
   "metadata": {
    "slideshow": {
     "slide_type": "subslide"
    }
   },
   "source": [
    "## magic example\n",
    "* `__str__(self)`, `__repr__`(self)"
   ]
  },
  {
   "cell_type": "code",
   "execution_count": 7,
   "metadata": {},
   "outputs": [
    {
     "name": "stdout",
     "output_type": "stream",
     "text": [
      "ClassName(a=2)\n",
      "ClassName(a=2)\n"
     ]
    }
   ],
   "source": [
    "class ClassName:\n",
    "    def __init__(self, a):\n",
    "        self.a = a\n",
    "\n",
    "    def __repr__(self):\n",
    "        return 'ClassName(a={a})'.format(**self.__dict__)\n",
    "\n",
    "inst = ClassName(2)\n",
    "print(repr(inst))\n",
    "print(inst)"
   ]
  },
  {
   "cell_type": "markdown",
   "metadata": {
    "slideshow": {
     "slide_type": "subslide"
    }
   },
   "source": [
    "## magic: arithematic\n",
    "* `__neg__(self)`\n",
    "    * ```-obj```를 만나면 호출됨, new obj 리턴\n",
    "* `__add__(self, rhs)`\n",
    "    * obj + rhs를 만나면 호출됨, new obj 리턴\n",
    "    * inst + other_inst 또는 inst + other_type_obj\n",
    "* `__radd__(self, lhs)`\n",
    "    * reversed add\n",
    "    * lhs에 +가 정의되지 않은 경우에만 호출됨\n",
    "    * 1 + inst"
   ]
  },
  {
   "cell_type": "markdown",
   "metadata": {
    "slideshow": {
     "slide_type": "subslide"
    }
   },
   "source": [
    "## User defined type example\n",
    "* magic method를 이용하여 user defined type을 위한 operation을 정의"
   ]
  },
  {
   "cell_type": "code",
   "execution_count": 8,
   "metadata": {
    "slideshow": {
     "slide_type": "fragment"
    }
   },
   "outputs": [
    {
     "ename": "TypeError",
     "evalue": "unsupported operand type(s) for +: 'Point' and 'Point'",
     "output_type": "error",
     "traceback": [
      "\u001b[0;31m---------------------------------------------------------------------------\u001b[0m",
      "\u001b[0;31mTypeError\u001b[0m                                 Traceback (most recent call last)",
      "\u001b[0;32m<ipython-input-8-0bc466d8b9b6>\u001b[0m in \u001b[0;36m<module>\u001b[0;34m()\u001b[0m\n\u001b[1;32m      6\u001b[0m \u001b[0mp0\u001b[0m \u001b[0;34m=\u001b[0m \u001b[0mPoint\u001b[0m\u001b[0;34m(\u001b[0m\u001b[0;34m)\u001b[0m\u001b[0;34m\u001b[0m\u001b[0m\n\u001b[1;32m      7\u001b[0m \u001b[0mp1\u001b[0m \u001b[0;34m=\u001b[0m \u001b[0mPoint\u001b[0m\u001b[0;34m(\u001b[0m\u001b[0;36m1\u001b[0m\u001b[0;34m,\u001b[0m \u001b[0;36m2\u001b[0m\u001b[0;34m)\u001b[0m\u001b[0;34m\u001b[0m\u001b[0m\n\u001b[0;32m----> 8\u001b[0;31m \u001b[0mprint\u001b[0m\u001b[0;34m(\u001b[0m\u001b[0mp0\u001b[0m \u001b[0;34m+\u001b[0m \u001b[0mp1\u001b[0m\u001b[0;34m)\u001b[0m\u001b[0;34m\u001b[0m\u001b[0m\n\u001b[0m",
      "\u001b[0;31mTypeError\u001b[0m: unsupported operand type(s) for +: 'Point' and 'Point'"
     ]
    }
   ],
   "source": [
    "class Point:\n",
    "    def __init__(self, x=0, y=0):\n",
    "        self.x = x\n",
    "        self.y = y\n",
    "        \n",
    "p0 = Point()\n",
    "p1 = Point(1, 2)\n",
    "print(p0 + p1)"
   ]
  },
  {
   "cell_type": "markdown",
   "metadata": {
    "slideshow": {
     "slide_type": "subslide"
    }
   },
   "source": [
    "## User defined type example\n",
    "* `+` operation"
   ]
  },
  {
   "cell_type": "code",
   "execution_count": 15,
   "metadata": {
    "slideshow": {
     "slide_type": "fragment"
    }
   },
   "outputs": [
    {
     "name": "stdout",
     "output_type": "stream",
     "text": [
      "Point(x=3, y=1)\n"
     ]
    }
   ],
   "source": [
    "class Point:\n",
    "    def __init__(self, x=0, y=0):\n",
    "        self.x = x\n",
    "        self.y = y\n",
    "        \n",
    "    def __repr__(self):\n",
    "        return 'Point(x={x}, y={y})'.format(x=self.x, y=self.y)\n",
    "        \n",
    "    def __add__(self, rhs):\n",
    "        self.x += rhs.x\n",
    "        self.y += rhs.y\n",
    "        return self  # 다음 operation을 위해 꼭 필요\n",
    "        \n",
    "p0 = Point(2, -1)\n",
    "p1 = Point(1, 2)\n",
    "print(p0 + p1)"
   ]
  },
  {
   "cell_type": "markdown",
   "metadata": {
    "slideshow": {
     "slide_type": "subslide"
    }
   },
   "source": [
    "\n",
    "## magic: inplace assignment\n",
    "* `__iadd__(self, rhs)`\n",
    "    * obj += rhs\n",
    "* 구현되어 있지 않으면 `__add__()`호출로 대체함\n",
    "* 참고: assignment는 overriding이 불가능\n",
    "    * assignment는 operator가 아니라 statement"
   ]
  },
  {
   "cell_type": "code",
   "execution_count": 16,
   "metadata": {
    "slideshow": {
     "slide_type": "fragment"
    }
   },
   "outputs": [
    {
     "name": "stdout",
     "output_type": "stream",
     "text": [
      "Point(x=3, y=1)\n"
     ]
    }
   ],
   "source": [
    "p0 = Point(2, -1)\n",
    "p0 += Point(1, 2)\n",
    "print(p0)"
   ]
  },
  {
   "cell_type": "markdown",
   "metadata": {
    "slideshow": {
     "slide_type": "subslide"
    }
   },
   "source": [
    "## magic: inplace assignment\n",
    "* `__iadd__(self, rhs)`"
   ]
  },
  {
   "cell_type": "code",
   "execution_count": 17,
   "metadata": {},
   "outputs": [
    {
     "name": "stdout",
     "output_type": "stream",
     "text": [
      "in __iadd__\n",
      "None\n"
     ]
    }
   ],
   "source": [
    "class Point:\n",
    "    def __init__(self, x=0, y=0):\n",
    "        self.x = x\n",
    "        self.y = y\n",
    "        \n",
    "    def __repr__(self):\n",
    "        return 'Point(x={x}, y={y})'.format(x=self.x, y=self.y)\n",
    "        \n",
    "    def __add__(self, rhs):\n",
    "        self.x += rhs.x\n",
    "        self.y += rhs.y\n",
    "        return self  # 다음 operation을 위해 꼭 필요\n",
    "    \n",
    "    def __iadd__(self, rhs):\n",
    "        print('in __iadd__')\n",
    "    \n",
    "p0 = Point(2, -1)\n",
    "p0 += Point(1, 2)\n",
    "print(p0)"
   ]
  },
  {
   "cell_type": "markdown",
   "metadata": {
    "slideshow": {
     "slide_type": "subslide"
    }
   },
   "source": [
    "## magic: relational\n",
    "* `__eq__(self, rhs)`\n",
    "    * obj == rhs를 만나면 호출됨, bool 리턴\n",
    "* `__ne__(self, rhs)`\n",
    "    * obj != rhs를 만나면 호출됨, bool 리턴\n",
    "    * 구현되어 있지 않으면, `__eq__`의 결과를 반전시켜 사용"
   ]
  },
  {
   "cell_type": "markdown",
   "metadata": {
    "slideshow": {
     "slide_type": "subslide"
    }
   },
   "source": [
    "## magic: relational: example\n",
    "* `__eq__(self, rhs)`, `__ne__(self, rhs)`"
   ]
  },
  {
   "cell_type": "code",
   "execution_count": 28,
   "metadata": {
    "slideshow": {
     "slide_type": "fragment"
    }
   },
   "outputs": [
    {
     "name": "stdout",
     "output_type": "stream",
     "text": [
      "False\n",
      "True\n"
     ]
    }
   ],
   "source": [
    "class Point:\n",
    "    def __init__(self, x=0, y=0):\n",
    "        self.x = x\n",
    "        self.y = y\n",
    "    \n",
    "print(Point(2, -1) == Point(2, -1))\n",
    "print(Point(2, -1) != Point(2, -1))"
   ]
  },
  {
   "cell_type": "markdown",
   "metadata": {
    "slideshow": {
     "slide_type": "subslide"
    }
   },
   "source": [
    "## magic: relational: example\n",
    "* `__eq__(self, rhs)`, `__ne__(self, rhs)`"
   ]
  },
  {
   "cell_type": "code",
   "execution_count": 29,
   "metadata": {
    "slideshow": {
     "slide_type": "fragment"
    }
   },
   "outputs": [
    {
     "name": "stdout",
     "output_type": "stream",
     "text": [
      "True\n",
      "False\n"
     ]
    }
   ],
   "source": [
    "class Point:\n",
    "    def __init__(self, x=0, y=0):\n",
    "        self.x = x\n",
    "        self.y = y\n",
    "        \n",
    "    def __eq__(self, rhs):\n",
    "        return self.x == rhs.x and self.y == rhs.y\n",
    "    \n",
    "print(Point(2, -1) == Point(2, -1))\n",
    "print(Point(2, -1) != Point(2, -1))"
   ]
  },
  {
   "cell_type": "markdown",
   "metadata": {
    "slideshow": {
     "slide_type": "subslide"
    }
   },
   "source": [
    "## magic: relational\n",
    "* `__lt__(self, rhs)`\n",
    "    * obj < rhs를 만나면 호출됨, bool 리턴\n",
    "* `__le__(self, rhs)`: <=\n",
    "* `__gt__(self, rhs)`: >\n",
    "* `__ge__(self, rhs)`: >=\n",
    "* 위 3개의 operator가 구현되어 있지 않았을 떄, `__lt__`나 `__eq__` 결과를 이용하지 않음"
   ]
  },
  {
   "cell_type": "markdown",
   "metadata": {
    "slideshow": {
     "slide_type": "subslide"
    }
   },
   "source": [
    "## magic: 기타\n",
    "* `__hash__(self)`\n",
    "    * dict key 제공\n",
    "* `__len__(self)`\n",
    "    * len(obj)를 리턴\n",
    "* `__bool__(self)`\n",
    "    * if obj에 대한 평가를 리턴\n",
    "    * 구현되어 있지 않으면, 무조건 `True`로 가정"
   ]
  },
  {
   "cell_type": "markdown",
   "metadata": {
    "slideshow": {
     "slide_type": "subslide"
    }
   },
   "source": [
    "## duck typing\n",
    "* 필요한 attribute/method를 모두 가진 모든 type을 같은 type으로 간주한다\n",
    "> 만약 어떤 새가 오리처럼 걷고, 꽥꽥거리는 소리를 낸다면 나는 그 새를 오리라고 부를 것이다."
   ]
  },
  {
   "cell_type": "markdown",
   "metadata": {
    "slideshow": {
     "slide_type": "subslide"
    }
   },
   "source": [
    "## duck typing\n",
    "* func는 두 class를 같은 type으로 간주한다"
   ]
  },
  {
   "cell_type": "code",
   "execution_count": 9,
   "metadata": {
    "slideshow": {
     "slide_type": "fragment"
    }
   },
   "outputs": [
    {
     "name": "stdout",
     "output_type": "stream",
     "text": [
      "walk on two legs\n",
      "walk on four legs\n"
     ]
    }
   ],
   "source": [
    "class Dog:\n",
    "    def walk(self):\n",
    "        print('walk on two legs')\n",
    "\n",
    "class Human:\n",
    "    def walk(self):\n",
    "        print('walk on four legs')\n",
    "\n",
    "def func(obj):\n",
    "    obj.walk()\n",
    "\n",
    "a_dog = Dog()\n",
    "a_man = Human()\n",
    "func(a_dog)\n",
    "func(a_man)"
   ]
  },
  {
   "cell_type": "markdown",
   "metadata": {
    "slideshow": {
     "slide_type": "subslide"
    }
   },
   "source": [
    "## inheritance\n",
    "* 같은 계통(super class)의 다른 종(type)을 만들어낼 때 사용\n",
    "* 계통이 공유하는 인터페이스 및 코드를 재사용\n",
    "* 종의 특별한 기능만 구현"
   ]
  },
  {
   "cell_type": "markdown",
   "metadata": {
    "slideshow": {
     "slide_type": "subslide"
    }
   },
   "source": [
    "## inheritance\n",
    "* class 정의할 때, super class 명시\n",
    "* super class에 접근은 super()를 통해서 수행"
   ]
  },
  {
   "cell_type": "code",
   "execution_count": 10,
   "metadata": {
    "slideshow": {
     "slide_type": "subslide"
    }
   },
   "outputs": [
    {
     "name": "stdout",
     "output_type": "stream",
     "text": [
      "{'b': 3, 'a': 2}\n"
     ]
    }
   ],
   "source": [
    "class Category:\n",
    "    def __init__(self, a):\n",
    "        self.a = a\n",
    "\n",
    "class Type(Category):\n",
    "    def __init__(self, a, b=None):\n",
    "        super().__init__(a)\n",
    "        self.b = b\n",
    "print(Type(2, 3).__dict__)"
   ]
  },
  {
   "cell_type": "markdown",
   "metadata": {
    "slideshow": {
     "slide_type": "subslide"
    }
   },
   "source": [
    "## inheritance\n",
    "* 다중 상속\n",
    "    * class 정의시에 모든 super class를 명시\n",
    "    * 다중 상속에서 attribute/method 이름 충돌하는 경우에 상속 순서가 먼저인 것을 취한다"
   ]
  },
  {
   "cell_type": "code",
   "execution_count": 11,
   "metadata": {
    "slideshow": {
     "slide_type": "fragment"
    }
   },
   "outputs": [],
   "source": [
    "class Category: pass\n",
    "class Drawable:     # called interface or protocol\n",
    "    def draw(): pass\n",
    "# Python에서는 duck typing으로도 protocol 실현 가능\n",
    "class Triangle(Category, Drawable): pass"
   ]
  },
  {
   "cell_type": "markdown",
   "metadata": {
    "slideshow": {
     "slide_type": "subslide"
    }
   },
   "source": [
    "## overriding\n",
    "* super class의 특정 기능을 변경할 때 사용"
   ]
  },
  {
   "cell_type": "code",
   "execution_count": 12,
   "metadata": {
    "slideshow": {
     "slide_type": "fragment"
    }
   },
   "outputs": [
    {
     "name": "stdout",
     "output_type": "stream",
     "text": [
      "6.0\n"
     ]
    }
   ],
   "source": [
    "class Figure:\n",
    "    def area(self):\n",
    "        return 0\n",
    "\n",
    "class Triangle(Figure):\n",
    "    def __init__(self, b, h):\n",
    "        self.b = b; self.h = h\n",
    "    def area(self):\n",
    "        return self.b * self.h / 2\n",
    "\n",
    "t = Triangle(4, 3)\n",
    "print(t.area())"
   ]
  },
  {
   "cell_type": "markdown",
   "metadata": {
    "slideshow": {
     "slide_type": "subslide"
    }
   },
   "source": [
    "## inheritance: is-a 관계"
   ]
  },
  {
   "cell_type": "code",
   "execution_count": 13,
   "metadata": {
    "slideshow": {
     "slide_type": "fragment"
    }
   },
   "outputs": [
    {
     "name": "stdout",
     "output_type": "stream",
     "text": [
      "6.0\n",
      "0\n"
     ]
    }
   ],
   "source": [
    "class Figure:\n",
    "    def area(self):\n",
    "        return 0\n",
    "\n",
    "class Triangle(Figure):\n",
    "    def __init__(self, b, h):\n",
    "        self.b = b; self.h = h\n",
    "    def area(self):\n",
    "        return self.b * self.h / 2\n",
    "\n",
    "class Line: pass\n",
    "\n",
    "def print_area(fig):\n",
    "    if isinstance(fig, Figure): # Triangle is a Figure.\n",
    "        print(fig.area())\n",
    "    else:\n",
    "        print(0)\n",
    "\n",
    "t = Triangle(4, 3)\n",
    "print_area(t)\n",
    "print_area(Line())"
   ]
  },
  {
   "cell_type": "markdown",
   "metadata": {
    "slideshow": {
     "slide_type": "subslide"
    }
   },
   "source": [
    "## abc\n",
    "* Abstract Base Class\n",
    "    * 상속 받는 용도로만 사용\n",
    "    * instance를 만들 수 없다\n",
    "* @abstractmethod\n",
    "    * 종류로서 꼭 가져야 할 method를 지정할 수 있다\n",
    "    * Protocol을 위해서 구현해야 할 method를 지정\n",
    "        * template method pattern"
   ]
  },
  {
   "cell_type": "markdown",
   "metadata": {
    "slideshow": {
     "slide_type": "subslide"
    }
   },
   "source": [
    "## abc"
   ]
  },
  {
   "cell_type": "code",
   "execution_count": 14,
   "metadata": {
    "slideshow": {
     "slide_type": "fragment"
    }
   },
   "outputs": [
    {
     "ename": "TypeError",
     "evalue": "Can't instantiate abstract class Line with abstract methods area",
     "output_type": "error",
     "traceback": [
      "\u001b[0;31m---------------------------------------------------------------------------\u001b[0m",
      "\u001b[0;31mTypeError\u001b[0m                                 Traceback (most recent call last)",
      "\u001b[0;32m<ipython-input-14-e60a3eead4cb>\u001b[0m in \u001b[0;36m<module>\u001b[0;34m()\u001b[0m\n\u001b[1;32m      9\u001b[0m \u001b[0;34m\u001b[0m\u001b[0m\n\u001b[1;32m     10\u001b[0m \u001b[0;31m# Figure()      #TypeError\u001b[0m\u001b[0;34m\u001b[0m\u001b[0;34m\u001b[0m\u001b[0m\n\u001b[0;32m---> 11\u001b[0;31m \u001b[0ml\u001b[0m \u001b[0;34m=\u001b[0m \u001b[0mLine\u001b[0m\u001b[0;34m(\u001b[0m\u001b[0;34m)\u001b[0m\u001b[0;34m\u001b[0m\u001b[0m\n\u001b[0m",
      "\u001b[0;31mTypeError\u001b[0m: Can't instantiate abstract class Line with abstract methods area"
     ]
    }
   ],
   "source": [
    "from abc import ABC, abstractmethod\n",
    "\n",
    "class Figure(ABC):\n",
    "    @abstractmethod\n",
    "    def area(self):\n",
    "        return 0\n",
    "\n",
    "class Line(Figure): pass\n",
    "\n",
    "# Figure()      #TypeError\n",
    "l = Line()"
   ]
  },
  {
   "cell_type": "markdown",
   "metadata": {
    "slideshow": {
     "slide_type": "slide"
    }
   },
   "source": [
    "## module\n",
    "* namespace\n",
    "* module\n",
    "* import\n",
    "* `__main__`\n",
    "* package"
   ]
  },
  {
   "cell_type": "markdown",
   "metadata": {
    "slideshow": {
     "slide_type": "subslide"
    }
   },
   "source": [
    "## namespace\n",
    "* Name(symbol)이 정의되는 공간을 분할하는 방법\n",
    "    * 이름 충돌의 위험성을 낮춤\n",
    "* Namespaces are one honking great idea -- let's do more of those!"
   ]
  },
  {
   "cell_type": "markdown",
   "metadata": {
    "slideshow": {
     "slide_type": "subslide"
    }
   },
   "source": [
    "## module\n",
    "* Python namespace의 기본 단위\n",
    "* 하나의 *.py 파일이 하나의 module을 구성함\n",
    "* 아래 두 module의 A_CONST는 별개의 symbol로 다뤄짐\n",
    "    * 다른 모듈의 symbol은 기본적으로 보이지 않음\n",
    "\n",
    "```python\n",
    "# a_module.py\n",
    "A_CONST = 1\n",
    "\n",
    "# b_module.py\n",
    "A_CONST = 2\n",
    "```"
   ]
  },
  {
   "cell_type": "markdown",
   "metadata": {
    "slideshow": {
     "slide_type": "subslide"
    }
   },
   "source": [
    "## import\n",
    "* 다른 module을 사용하기 위해 가져옴\n",
    "* import statement가 중복되어도 한 번만 가져옴\n",
    "* `<module_name>.symbol` 형태로 다른 module의 symbol에 접근\n",
    "\n",
    "```python\n",
    "# a_module.py\n",
    "import b_module\n",
    "\n",
    "A_CONST = 1\n",
    "\n",
    "assert A_CONST == 1\n",
    "assert b_module.A_CONST == 2\n",
    "```"
   ]
  },
  {
   "cell_type": "markdown",
   "metadata": {
    "slideshow": {
     "slide_type": "subslide"
    }
   },
   "source": [
    "## import\n",
    "* as 절을 통해 접근할 때 사용할 namespace의 이름을 변경할 수 있음\n",
    "\n",
    "```python\n",
    "# a_module.py\n",
    "import b_module as neighbor\n",
    "\n",
    "A_CONST = 1\n",
    "\n",
    "assert A_CONST == 1\n",
    "assert neighbor.A_CONST == 2\n",
    "```"
   ]
  },
  {
   "cell_type": "markdown",
   "metadata": {
    "slideshow": {
     "slide_type": "subslide"
    }
   },
   "source": [
    "## from import\n",
    "* 다른 module의 지정된 symbol을 현재 module의 namespace로 가져옴\n",
    "    * `from <module_name> import <symbol>[, <symbol>]`\n",
    "    * `*`를 통해서 module의 모든 symbol을 가져올 수도 있음\n",
    "* 현재 module에 정의된 symbol이 있으면 덮어씀\n",
    "    * assign과 같은 효과\n",
    "\n",
    "```python\n",
    "# a_module.py\n",
    "from b_module as A_CONST\n",
    "\n",
    "A_CONST = 1\n",
    "assert A_CONST == 2\n",
    "```"
   ]
  },
  {
   "cell_type": "markdown",
   "metadata": {
    "slideshow": {
     "slide_type": "subslide"
    }
   },
   "source": [
    "## from import\n",
    "* 현재 module에 정의된 symbol이 있으면 덮어씀\n",
    "    * assign과 같은 효과"
   ]
  },
  {
   "cell_type": "code",
   "execution_count": 15,
   "metadata": {
    "slideshow": {
     "slide_type": "fragment"
    }
   },
   "outputs": [
    {
     "name": "stdout",
     "output_type": "stream",
     "text": [
      "xxy\n",
      "True\n",
      "False\n"
     ]
    }
   ],
   "source": [
    "ABC = 'xxy'\n",
    "print(ABC)\n",
    "print(isinstance(ABC, str))\n",
    "\n",
    "from abc import ABC\n",
    "print(isinstance(ABC, str))"
   ]
  },
  {
   "cell_type": "markdown",
   "metadata": {
    "slideshow": {
     "slide_type": "subslide"
    }
   },
   "source": [
    "## `__main__`\n",
    "* script로 만들어진 *.py 파일에 정의된 내용을 다른 script에서 불러다 쓸 필요가 있음\n",
    "* script로서 실행되는 것인지 import 되는 것인지 구분할 필요가 있음\n",
    "* `__name__`\n",
    "    * 현재 module의 namespace 이름을 저장\n",
    "    * script로 실행될 때만, `'__main__'`이 됨"
   ]
  },
  {
   "cell_type": "markdown",
   "metadata": {
    "slideshow": {
     "slide_type": "subslide"
    }
   },
   "source": [
    "## `__main__`\n",
    "* script로 실행될 때만 main()이 자동으로 호출"
   ]
  },
  {
   "cell_type": "code",
   "execution_count": 16,
   "metadata": {
    "slideshow": {
     "slide_type": "fragment"
    }
   },
   "outputs": [
    {
     "name": "stdout",
     "output_type": "stream",
     "text": [
      "3\n"
     ]
    }
   ],
   "source": [
    "def add(x, y):\n",
    "    return x + y\n",
    "\n",
    "def main():\n",
    "    print(add(1, 2))\n",
    "\n",
    "# script로 실행될 때만 아래 if 조건이 만족됨\n",
    "if __name__ == '__main__':\n",
    "    main()"
   ]
  },
  {
   "cell_type": "markdown",
   "metadata": {
    "slideshow": {
     "slide_type": "subslide"
    }
   },
   "source": [
    "## package\n",
    "* module이 늘어날 때 package로 묶어서 관리/import 가능\n",
    "* Python file이 module이었다면, directory가 package\n",
    "    * 디렉토리에 `__init__.py`가 있어야 package로 인식한다\n",
    "* `__init__`\n",
    "    * Package를 위해서 꼭 있어야 하며, empty file이어도 된다\n",
    "    * Package import할 때 `__init__.py`가 실행됨\n",
    "    * `__all__` = []로 symbol을 package top-level symbol로 만들 수 있음"
   ]
  },
  {
   "cell_type": "markdown",
   "metadata": {
    "slideshow": {
     "slide_type": "subslide"
    }
   },
   "source": [
    "## package\n",
    "* import\n",
    "    * package 아래 module은 `<package_name>.<module_name>`으로 지정\n",
    "\n",
    "```python\n",
    "from my_package import ver\n",
    "from my_package.sub import some_func\n",
    "```"
   ]
  },
  {
   "cell_type": "markdown",
   "metadata": {
    "slideshow": {
     "slide_type": "subslide"
    }
   },
   "source": [
    "## Module 찾는 순서\n",
    "* Built-in module인지를 확인\n",
    "* 없으면, sys.path에 지정된 directory에서 해당 module을 찾음"
   ]
  },
  {
   "cell_type": "markdown",
   "metadata": {
    "slideshow": {
     "slide_type": "subslide"
    }
   },
   "source": [
    "## sys.path를 구성하는 디렉토리\n",
    "\n",
    "* Directory containing the input script\n",
    "* PYTHONPATH\n",
    "    * package를 찾는 PATH를 지정하는 환경 변수\n",
    "* Python 설치시에 지정된 디렉토리(site-package)"
   ]
  },
  {
   "cell_type": "markdown",
   "metadata": {
    "slideshow": {
     "slide_type": "slide"
    }
   },
   "source": [
    "## Meta-programming\n",
    "* 소개\n",
    "* globals\n",
    "* hasattr / getattr\n",
    "* getitems"
   ]
  },
  {
   "cell_type": "markdown",
   "metadata": {
    "slideshow": {
     "slide_type": "subslide"
    }
   },
   "source": [
    "## 메타언어\n",
    "> 메타언어는 대상을 직접 서술하는 언어 그 자체를 다시 언급하는 언어로서 고차언어라고도 한다.\n",
    "\n",
    "_(from wikipedia)_"
   ]
  },
  {
   "cell_type": "markdown",
   "metadata": {
    "slideshow": {
     "slide_type": "subslide"
    }
   },
   "source": [
    "## Meta-programming\n",
    "* Object가 아닌 code를 대상으로 하는 프로그래밍\n",
    "* Example:\n",
    "    * dir(), `__dict__`"
   ]
  },
  {
   "cell_type": "markdown",
   "metadata": {
    "slideshow": {
     "slide_type": "subslide"
    }
   },
   "source": [
    "## 용도\n",
    "* 특정 prefix를 가진 function에 대한 리스트를 얻음\n",
    "* obj에 특정 attribute가 있는지를 확인\n",
    "* 사용자가 입력한 attribute를 돌려주거나 method를 실행\n",
    "* switch map을 자동 구성"
   ]
  },
  {
   "cell_type": "markdown",
   "metadata": {
    "slideshow": {
     "slide_type": "subslide"
    }
   },
   "source": [
    "## globals()\n",
    "* built-in function\n",
    "* Return the current global symbol table (dict)"
   ]
  },
  {
   "cell_type": "code",
   "execution_count": 18,
   "metadata": {
    "slideshow": {
     "slide_type": "fragment"
    }
   },
   "outputs": [
    {
     "name": "stdout",
     "output_type": "stream",
     "text": [
      "{'add': <function op_add at 0x7fc14c883d08>, 'sub': <function op_sub at 0x7fc14c883730>}\n",
      "2\n"
     ]
    }
   ],
   "source": [
    "def op_add(x, y):\n",
    "    return x + y\n",
    "def op_sub(x, y):\n",
    "    return x - y\n",
    "\n",
    "switch_map = {key[3:]: value for key, value in globals().items() if key.startswith('op_')}\n",
    "print(switch_map)\n",
    "print(switch_map['sub'](9, 7))"
   ]
  },
  {
   "cell_type": "markdown",
   "metadata": {
    "slideshow": {
     "slide_type": "subslide"
    }
   },
   "source": [
    "## hasattr\n",
    "* built-in function\n",
    "* hasattr(obj, str)\n",
    "    * obj에 str로 지정된 attribute/method가 있는지 여부 확인"
   ]
  },
  {
   "cell_type": "markdown",
   "metadata": {
    "slideshow": {
     "slide_type": "subslide"
    }
   },
   "source": [
    "## hasattr"
   ]
  },
  {
   "cell_type": "code",
   "execution_count": 19,
   "metadata": {
    "slideshow": {
     "slide_type": "fragment"
    }
   },
   "outputs": [
    {
     "name": "stdout",
     "output_type": "stream",
     "text": [
      "6.0\n",
      "0\n"
     ]
    }
   ],
   "source": [
    "class Triangle():\n",
    "    def __init__(self, b, h):\n",
    "        self.b = b; self.h = h\n",
    "    def area(self):\n",
    "        return self.b * self.h / 2\n",
    "class Line: pass\n",
    "def print_area(fig):\n",
    "    if hasattr(fig, 'area'):\n",
    "        print(fig.area())\n",
    "    else:\n",
    "        print(0)\n",
    "\n",
    "t = Triangle(4, 3)\n",
    "print_area(t)\n",
    "print_area(Line())"
   ]
  },
  {
   "cell_type": "markdown",
   "metadata": {
    "slideshow": {
     "slide_type": "subslide"
    }
   },
   "source": [
    "## getattr\n",
    "* built-in function\n",
    "* getattr(obj, str[, default])\n",
    "    * obj에 str로 지정된 attribute/method를 돌려줌\n",
    "    * str을 이름으로 가진 attribute가 없으면 AttributeError를 일으킴\n",
    "    * default에 attribute가 없으면 돌려받을 obj를 지정할 수 있음"
   ]
  },
  {
   "cell_type": "markdown",
   "metadata": {
    "slideshow": {
     "slide_type": "subslide"
    }
   },
   "source": [
    "## getattr 구현\n",
    "* `__getattr__(self, name)` method 구현\n",
    "    * 동적으로 attribute를 만듦"
   ]
  },
  {
   "cell_type": "code",
   "execution_count": 20,
   "metadata": {
    "slideshow": {
     "slide_type": "fragment"
    }
   },
   "outputs": [
    {
     "name": "stdout",
     "output_type": "stream",
     "text": [
      "something!\n"
     ]
    }
   ],
   "source": [
    "class Type:\n",
    "    def __getattr__(self, name):\n",
    "        return name + '!'\n",
    "\n",
    "inst = Type()\n",
    "print(inst.something)"
   ]
  },
  {
   "cell_type": "markdown",
   "metadata": {
    "slideshow": {
     "slide_type": "subslide"
    }
   },
   "source": [
    "## `__getitem__`\n",
    "* `__getitem__(self, name)` method 구현\n",
    "    * 동적으로 element를 만듦"
   ]
  },
  {
   "cell_type": "code",
   "execution_count": 21,
   "metadata": {
    "slideshow": {
     "slide_type": "fragment"
    }
   },
   "outputs": [
    {
     "name": "stdout",
     "output_type": "stream",
     "text": [
      "something!\n"
     ]
    }
   ],
   "source": [
    "class Type:\n",
    "    def __getitem__(self, key):\n",
    "        return key + '!'\n",
    "\n",
    "inst = Type()\n",
    "print(inst['something'])"
   ]
  },
  {
   "cell_type": "markdown",
   "metadata": {
    "slideshow": {
     "slide_type": "slide"
    }
   },
   "source": [
    "## Wrap Up\n",
    "* OOP: encapsulation, polymorphism, inheritance\n",
    "* Class\n",
    "  * user data type: attribute + method\n",
    "  * Magic method: overriding an operator of class\n",
    "* Module\n",
    "  * Python namespace의 기본 단위\n",
    "  * 하나의 `*.py` 파일이 하나의 module을 구성함\n",
    "  * `from <module> import <symbol>` \n",
    "* Package\n",
    "  * Python file이 module이었다면, directory가 package\n",
    "* Meta-programming\n",
    "  * Object가 아닌 code를 대상으로 하는 프로그래밍"
   ]
  }
 ],
 "metadata": {
  "celltoolbar": "Slideshow",
  "kernelspec": {
   "display_name": "Python 3",
   "language": "python",
   "name": "python3"
  },
  "language_info": {
   "codemirror_mode": {
    "name": "ipython",
    "version": 3
   },
   "file_extension": ".py",
   "mimetype": "text/x-python",
   "name": "python",
   "nbconvert_exporter": "python",
   "pygments_lexer": "ipython3",
   "version": "3.5.4"
  }
 },
 "nbformat": 4,
 "nbformat_minor": 2
}
