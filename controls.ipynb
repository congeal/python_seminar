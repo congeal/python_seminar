{
 "cells": [
  {
   "cell_type": "markdown",
   "metadata": {
    "slideshow": {
     "slide_type": "slide"
    }
   },
   "source": [
    "![Python](assets/python-logo-generic.svg)\n",
    "### Controls\n",
    "#### 김응섭"
   ]
  },
  {
   "cell_type": "markdown",
   "metadata": {
    "slideshow": {
     "slide_type": "slide"
    }
   },
   "source": [
    "## Outline\n",
    "* Control statements\n",
    "* Sequence comprehension\n",
    "* Wrap-up"
   ]
  },
  {
   "cell_type": "markdown",
   "metadata": {
    "slideshow": {
     "slide_type": "slide"
    }
   },
   "source": [
    "## Control statements\n",
    "* if\n",
    "* while\n",
    "* for"
   ]
  },
  {
   "cell_type": "markdown",
   "metadata": {
    "slideshow": {
     "slide_type": "subslide"
    }
   },
   "source": [
    "## if\n",
    "* 조건에 따라 실행을 달리함\n",
    "* Code block은 ':'로 시작하는 indented statements\n",
    "* elif, else 절은 optional\n",
    "```python\n",
    "if <condition>:\n",
    "    <true block>\n",
    "elif <else_condition>:\n",
    "    <elif block>\n",
    "else:\n",
    "    <else block>\n",
    "```"
   ]
  },
  {
   "cell_type": "markdown",
   "metadata": {
    "slideshow": {
     "slide_type": "subslide"
    }
   },
   "source": [
    "## if\n",
    "* inline code block\n",
    "```python\n",
    "if <condition>: <true statement>\n",
    "else: <else statement>\n",
    "```\n",
    "* 참고: 3항 연산자 (tenary operator)"
   ]
  },
  {
   "cell_type": "code",
   "execution_count": 1,
   "metadata": {
    "slideshow": {
     "slide_type": "fragment"
    }
   },
   "outputs": [
    {
     "name": "stdout",
     "output_type": "stream",
     "text": [
      "x\n"
     ]
    }
   ],
   "source": [
    "t = True\n",
    "a = 'x' if t else 'y'\n",
    "print(a)"
   ]
  },
  {
   "cell_type": "markdown",
   "metadata": {
    "slideshow": {
     "slide_type": "subslide"
    }
   },
   "source": [
    "## Built-in objects\n",
    "* True: 참을 나타내는 'bool' object\n",
    "* False: 거짓을 나타내는 'bool' object\n",
    "* None: null을 나타내는 'NoneType' object"
   ]
  },
  {
   "cell_type": "markdown",
   "metadata": {
    "slideshow": {
     "slide_type": "subslide"
    }
   },
   "source": [
    "## Truth Value Testing\n",
    "* Values considered false:\n",
    "  * False, None\n",
    "  * zero of any numeric type: 0, 0.0, 0j\n",
    "  * any empty collections: '', (), [], {}\n",
    "* All other values are considered true"
   ]
  },
  {
   "cell_type": "markdown",
   "metadata": {
    "slideshow": {
     "slide_type": "subslide"
    }
   },
   "source": [
    "## 관계(비교) 연산자\n",
    "* Binary operator로 두 obj을 비교하여 그 결과를 bool로 리턴\n",
    "* <, <=, >, >=, ==, !="
   ]
  },
  {
   "cell_type": "code",
   "execution_count": 2,
   "metadata": {
    "slideshow": {
     "slide_type": "fragment"
    }
   },
   "outputs": [],
   "source": [
    "x = 2; y = 4\n",
    "assert x < y\n",
    "assert y > x\n",
    "assert x <= 2\n",
    "assert y >= 3\n",
    "assert x == 2\n",
    "assert x != y"
   ]
  },
  {
   "cell_type": "markdown",
   "metadata": {
    "slideshow": {
     "slide_type": "subslide"
    }
   },
   "source": [
    "## 논리 연산자\n",
    "* and"
   ]
  },
  {
   "cell_type": "code",
   "execution_count": 3,
   "metadata": {
    "slideshow": {
     "slide_type": "fragment"
    }
   },
   "outputs": [],
   "source": [
    "assert True and False == False\n",
    "assert True and True == True"
   ]
  },
  {
   "cell_type": "markdown",
   "metadata": {
    "slideshow": {
     "slide_type": "subslide"
    }
   },
   "source": [
    "## 논리 연산자\n",
    "* or"
   ]
  },
  {
   "cell_type": "code",
   "execution_count": 4,
   "metadata": {
    "slideshow": {
     "slide_type": "fragment"
    }
   },
   "outputs": [],
   "source": [
    "assert True or False == True\n",
    "assert False or False == False"
   ]
  },
  {
   "cell_type": "markdown",
   "metadata": {
    "slideshow": {
     "slide_type": "subslide"
    }
   },
   "source": [
    "## 논리 연산자\n",
    "* not"
   ]
  },
  {
   "cell_type": "code",
   "execution_count": 5,
   "metadata": {
    "slideshow": {
     "slide_type": "fragment"
    }
   },
   "outputs": [],
   "source": [
    "assert not False == True"
   ]
  },
  {
   "cell_type": "markdown",
   "metadata": {
    "slideshow": {
     "slide_type": "subslide"
    }
   },
   "source": [
    "## 연산자 우선순위\n",
    "* '산>관>논'으로 외우세요!"
   ]
  },
  {
   "cell_type": "code",
   "execution_count": 6,
   "metadata": {
    "slideshow": {
     "slide_type": "fragment"
    }
   },
   "outputs": [
    {
     "name": "stdout",
     "output_type": "stream",
     "text": [
      "a=1 and b=2 satisfy the formula.\n"
     ]
    }
   ],
   "source": [
    "a = 1\n",
    "b = 2\n",
    "if a*2 == b and a+1 == b:\n",
    "  print('a={a} and b={b} satisfy the formula.'.format(a=a, b=b))"
   ]
  },
  {
   "cell_type": "markdown",
   "metadata": {
    "slideshow": {
     "slide_type": "subslide"
    }
   },
   "source": [
    "## 참고: bit-wise 연산자\n",
    "* &"
   ]
  },
  {
   "cell_type": "code",
   "execution_count": 7,
   "metadata": {
    "slideshow": {
     "slide_type": "fragment"
    }
   },
   "outputs": [],
   "source": [
    "a = 10; b = 0xc\n",
    "assert a & b == 8"
   ]
  },
  {
   "cell_type": "markdown",
   "metadata": {
    "slideshow": {
     "slide_type": "fragment"
    }
   },
   "source": [
    "* |"
   ]
  },
  {
   "cell_type": "code",
   "execution_count": 8,
   "metadata": {
    "slideshow": {
     "slide_type": "fragment"
    }
   },
   "outputs": [],
   "source": [
    "a = 10; b = 0xc\n",
    "assert a | b == 0xe"
   ]
  },
  {
   "cell_type": "markdown",
   "metadata": {
    "slideshow": {
     "slide_type": "fragment"
    }
   },
   "source": [
    "* ~"
   ]
  },
  {
   "cell_type": "code",
   "execution_count": 9,
   "metadata": {
    "slideshow": {
     "slide_type": "fragment"
    }
   },
   "outputs": [],
   "source": [
    "a = 10;\n",
    "assert ~a == -11"
   ]
  },
  {
   "cell_type": "markdown",
   "metadata": {
    "slideshow": {
     "slide_type": "subslide"
    }
   },
   "source": [
    "## 참고: operator precedence\n",
    "* 산술 연산자\n",
    "    * ()\n",
    "    * x[index], x[index:index], x(arguments...), x.attribute\n",
    "    * ```**```\n",
    "    * +x, -x, ~x\n",
    "    * ```*, /, //, %```\n",
    "    * +, -"
   ]
  },
  {
   "cell_type": "markdown",
   "metadata": {
    "slideshow": {
     "slide_type": "subslide"
    }
   },
   "source": [
    "## 참고: operator precedence\n",
    "* Bit-wise operators\n",
    "    * &\n",
    "    * ^\n",
    "    * |"
   ]
  },
  {
   "cell_type": "markdown",
   "metadata": {
    "slideshow": {
     "slide_type": "subslide"
    }
   },
   "source": [
    "## 참고: operator precedence\n",
    "* 관계 연산자\n",
    "    * in, not in, is, is not, <, <=, >, >=, !=, ==\n",
    "* 논리 연산자\n",
    "    * not x\n",
    "    * and\n",
    "    * or\n",
    "* 3항 연산자\n",
    "    * if - else"
   ]
  },
  {
   "cell_type": "markdown",
   "metadata": {
    "slideshow": {
     "slide_type": "subslide"
    }
   },
   "source": [
    "## 참고: operator precedence\n",
    "* Python: Bit-wise > relational\n",
    "* C : Bit-wise < relational"
   ]
  },
  {
   "cell_type": "markdown",
   "metadata": {
    "slideshow": {
     "slide_type": "subslide"
    }
   },
   "source": [
    "### no 'switch' statement in Python\n",
    "* Zen of Python에 따르면...\n",
    "  * Special cases aren't special enough to break the rules.\n",
    "  * There should be one-- and preferably only one --obvious way to do it.\n",
    "* 대신에,\n",
    "  * dict와 function 조합으로 사용 -> function 파트에서 설명"
   ]
  },
  {
   "cell_type": "markdown",
   "metadata": {
    "slideshow": {
     "slide_type": "subslide"
    }
   },
   "source": [
    "## while\n",
    "* 조건이 참인 동안에 code block을 실행하며 loop를 만든다\n",
    "* Code block은 ':'로 시작하는 indented statements\n",
    "```python\n",
    "while <condition>:\n",
    "    <code block>\n",
    "```"
   ]
  },
  {
   "cell_type": "markdown",
   "metadata": {
    "slideshow": {
     "slide_type": "subslide"
    }
   },
   "source": [
    "## while: example\n",
    "* index 변수를 통해서 loop를 제어"
   ]
  },
  {
   "cell_type": "code",
   "execution_count": 10,
   "metadata": {
    "slideshow": {
     "slide_type": "fragment"
    }
   },
   "outputs": [
    {
     "name": "stdout",
     "output_type": "stream",
     "text": [
      "0\n",
      "1\n",
      "2\n",
      "3\n",
      "4\n",
      "5\n",
      "6\n",
      "7\n",
      "8\n",
      "9\n"
     ]
    }
   ],
   "source": [
    "i = 0\n",
    "while i < 10:  # 10 is past-the-end.\n",
    "  print(i)\n",
    "  i += 1"
   ]
  },
  {
   "cell_type": "markdown",
   "metadata": {
    "slideshow": {
     "slide_type": "subslide"
    }
   },
   "source": [
    "## break & continue\n",
    "* break\n",
    "  * loop를 벗어남\n",
    "* continue\n",
    "  * 현재 loop을 건너뛰고 다음 loop를 시작"
   ]
  },
  {
   "cell_type": "markdown",
   "metadata": {
    "slideshow": {
     "slide_type": "subslide"
    }
   },
   "source": [
    "## while: example\n",
    "* Event queue\n",
    "```python\n",
    "while True:\n",
    "    a = input('input number: ')\n",
    "    if a == '0':\n",
    "        break\n",
    "    if not a.isdigit():\n",
    "        continue\n",
    "    print('your number: ', a)\n",
    "```"
   ]
  },
  {
   "cell_type": "markdown",
   "metadata": {
    "slideshow": {
     "slide_type": "subslide"
    }
   },
   "source": [
    "## for\n",
    "* Iterable 원소 각각에 대해 loop를 실행\n",
    "  * 다른 언어에서의 foreach와 동일한 의미\n",
    "* Code block은 ':'로 시작하는 indented statements\n",
    "```python\n",
    "for <local variable> in <iterable_obj>:\n",
    "    <loop block>\n",
    "```"
   ]
  },
  {
   "cell_type": "markdown",
   "metadata": {
    "slideshow": {
     "slide_type": "subslide"
    }
   },
   "source": [
    "## for\n",
    "* Iterable objects:\n",
    "  * list, tuple, dict, string\n",
    "  * generator\n",
    "  * Iterable protocol을 만족하는 모든 object"
   ]
  },
  {
   "cell_type": "markdown",
   "metadata": {
    "slideshow": {
     "slide_type": "subslide"
    }
   },
   "source": [
    "## Iterable: list, tuple"
   ]
  },
  {
   "cell_type": "code",
   "execution_count": 11,
   "metadata": {
    "slideshow": {
     "slide_type": "fragment"
    }
   },
   "outputs": [
    {
     "name": "stdout",
     "output_type": "stream",
     "text": [
      "abc\n",
      "ABC\n"
     ]
    }
   ],
   "source": [
    "l = ['a', 'b', 'c']\n",
    "t = ('A', 'B', 'C')\n",
    "\n",
    "for e in l:\n",
    "  print(e, end='')\n",
    "print()\n",
    "\n",
    "for e in t:\n",
    "  print(e, end='')\n",
    "print()"
   ]
  },
  {
   "cell_type": "markdown",
   "metadata": {
    "slideshow": {
     "slide_type": "subslide"
    }
   },
   "source": [
    "## Iterable: dict\n",
    "* dict key를 순회"
   ]
  },
  {
   "cell_type": "code",
   "execution_count": 13,
   "metadata": {
    "slideshow": {
     "slide_type": "fragment"
    }
   },
   "outputs": [
    {
     "name": "stdout",
     "output_type": "stream",
     "text": [
      "a\n",
      "c\n",
      "b\n"
     ]
    }
   ],
   "source": [
    "d = {'a': 0, 'b': 1, 'c': 2}\n",
    "\n",
    "for e in d:  # <=> for e in d.keys()\n",
    "  print(e)"
   ]
  },
  {
   "cell_type": "markdown",
   "metadata": {
    "slideshow": {
     "slide_type": "subslide"
    }
   },
   "source": [
    "## Iterable: dict\n",
    "* dict value를 순회"
   ]
  },
  {
   "cell_type": "code",
   "execution_count": 14,
   "metadata": {
    "slideshow": {
     "slide_type": "fragment"
    }
   },
   "outputs": [
    {
     "name": "stdout",
     "output_type": "stream",
     "text": [
      "0\n",
      "2\n",
      "1\n"
     ]
    }
   ],
   "source": [
    "d = {'a': 0, 'b': 1, 'c': 2}\n",
    "\n",
    "for e in d.values():\n",
    "  print(e)"
   ]
  },
  {
   "cell_type": "markdown",
   "metadata": {
    "slideshow": {
     "slide_type": "subslide"
    }
   },
   "source": [
    "## Iterable: dict\n",
    "* dict.items()\n",
    "  * `(key, value)` 쌍을 순회"
   ]
  },
  {
   "cell_type": "code",
   "execution_count": 15,
   "metadata": {
    "slideshow": {
     "slide_type": "fragment"
    }
   },
   "outputs": [
    {
     "name": "stdout",
     "output_type": "stream",
     "text": [
      "a 0\n",
      "c 2\n",
      "b 1\n"
     ]
    }
   ],
   "source": [
    "d = {'a': 0, 'b': 1, 'c': 2}\n",
    "\n",
    "for key, value in d.items():\n",
    "  print(key, value) # DON'T use like d[key]"
   ]
  },
  {
   "cell_type": "markdown",
   "metadata": {
    "slideshow": {
     "slide_type": "subslide"
    }
   },
   "source": [
    "## Iterable: string\n",
    "* 문자 하나 하나를 순회\n",
    "* 단어별 순회는 str.split() 이용"
   ]
  },
  {
   "cell_type": "code",
   "execution_count": 16,
   "metadata": {
    "slideshow": {
     "slide_type": "fragment"
    }
   },
   "outputs": [
    {
     "name": "stdout",
     "output_type": "stream",
     "text": [
      "p\n",
      "y\n",
      "t\n",
      "h\n",
      "o\n",
      "n\n"
     ]
    }
   ],
   "source": [
    "s = 'python'\n",
    "for e in s:\n",
    "  print(e)"
   ]
  },
  {
   "cell_type": "markdown",
   "metadata": {
    "slideshow": {
     "slide_type": "subslide"
    }
   },
   "source": [
    "## Iterable: built-in generator\n",
    "* range([start,] end [,step])\n",
    "  * 특정 범위의 integer를 순차적으로 발생시킴"
   ]
  },
  {
   "cell_type": "code",
   "execution_count": 17,
   "metadata": {
    "slideshow": {
     "slide_type": "fragment"
    }
   },
   "outputs": [
    {
     "name": "stdout",
     "output_type": "stream",
     "text": [
      "0123\n",
      "02468\n",
      "-1-2-3-4-5-6-7-8-9\n"
     ]
    }
   ],
   "source": [
    "for i in range(4):\n",
    "  print(i, end='')\n",
    "print()\n",
    "\n",
    "for i in range(0, 10, 2):\n",
    "  print(i, end='')\n",
    "print()\n",
    "\n",
    "for i in range(-1, -10, -1):\n",
    "  print(i, end='')\n",
    "print()"
   ]
  },
  {
   "cell_type": "markdown",
   "metadata": {
    "slideshow": {
     "slide_type": "subslide"
    }
   },
   "source": [
    "## Remember: built-in, generator\n",
    "* built-in: 선언이나 import 없이 사용\n",
    "* generator: lazy-evaluation"
   ]
  },
  {
   "cell_type": "code",
   "execution_count": 18,
   "metadata": {
    "slideshow": {
     "slide_type": "fragment"
    }
   },
   "outputs": [
    {
     "name": "stdout",
     "output_type": "stream",
     "text": [
      "range(0, 4)\n",
      "0 1 2 3\n",
      "[0, 1, 2, 3]\n"
     ]
    }
   ],
   "source": [
    "print(range(4))\n",
    "print(*range(4))\n",
    "print(list(range(4)))"
   ]
  },
  {
   "cell_type": "markdown",
   "metadata": {
    "slideshow": {
     "slide_type": "subslide"
    }
   },
   "source": [
    "## Iterable: built-in generator\n",
    "* reversed()\n",
    "  * 기존 iterator의 순서를 뒤집어줌"
   ]
  },
  {
   "cell_type": "code",
   "execution_count": 19,
   "metadata": {
    "slideshow": {
     "slide_type": "fragment"
    }
   },
   "outputs": [
    {
     "name": "stdout",
     "output_type": "stream",
     "text": [
      "3210\n"
     ]
    }
   ],
   "source": [
    "for i in reversed(range(4)):\n",
    "  print(i, end='')\n",
    "print()"
   ]
  },
  {
   "cell_type": "markdown",
   "metadata": {
    "slideshow": {
     "slide_type": "subslide"
    }
   },
   "source": [
    "## Iterable: built-in generator\n",
    "* sorted()\n",
    "  * 기존 iterator의 내용을 sort한 결과를 iterator로 돌려줌\n",
    "  * 오름차순"
   ]
  },
  {
   "cell_type": "code",
   "execution_count": 20,
   "metadata": {
    "slideshow": {
     "slide_type": "fragment"
    }
   },
   "outputs": [
    {
     "name": "stdout",
     "output_type": "stream",
     "text": [
      "0123\n"
     ]
    }
   ],
   "source": [
    "l = [3, 1, 0, 2]\n",
    "for i in sorted(l):\n",
    "  print(i, end='')\n",
    "print()"
   ]
  },
  {
   "cell_type": "markdown",
   "metadata": {
    "slideshow": {
     "slide_type": "subslide"
    }
   },
   "source": [
    "## Iterable: built-in generator\n",
    "* sorted(iterable, reverse=False)\n",
    "  * reverse: 내림차순"
   ]
  },
  {
   "cell_type": "code",
   "execution_count": 21,
   "metadata": {
    "slideshow": {
     "slide_type": "fragment"
    }
   },
   "outputs": [
    {
     "name": "stdout",
     "output_type": "stream",
     "text": [
      "3210\n"
     ]
    }
   ],
   "source": [
    "l = [3, 1, 0, 2]\n",
    "for i in sorted(l, reverse=True):\n",
    "  print(i, end='')\n",
    "print()"
   ]
  },
  {
   "cell_type": "markdown",
   "metadata": {
    "slideshow": {
     "slide_type": "subslide"
    }
   },
   "source": [
    "## Iterable: built-in generator\n",
    "* enumerate()\n",
    "  * element를 index와 함께 돌려줌"
   ]
  },
  {
   "cell_type": "code",
   "execution_count": 22,
   "metadata": {
    "slideshow": {
     "slide_type": "fragment"
    }
   },
   "outputs": [
    {
     "name": "stdout",
     "output_type": "stream",
     "text": [
      "s[0] == p\n",
      "s[1] == y\n",
      "s[2] == t\n",
      "s[3] == h\n",
      "s[4] == o\n",
      "s[5] == n\n"
     ]
    }
   ],
   "source": [
    "s = 'python'\n",
    "for i, e in enumerate(s):\n",
    "  print('s[{i}] == {e}'.format(i=i, e=e))"
   ]
  },
  {
   "cell_type": "markdown",
   "metadata": {
    "slideshow": {
     "slide_type": "subslide"
    }
   },
   "source": [
    "## Pythonic code: enumerate()\n",
    "* DON'T: index 변수를 increment\n",
    "* DO: use enumerate()!"
   ]
  },
  {
   "cell_type": "code",
   "execution_count": 23,
   "metadata": {
    "slideshow": {
     "slide_type": "fragment"
    }
   },
   "outputs": [
    {
     "name": "stdout",
     "output_type": "stream",
     "text": [
      "s[0] == p\n",
      "s[1] == y\n",
      "s[2] == t\n",
      "s[3] == h\n",
      "s[4] == o\n",
      "s[5] == n\n"
     ]
    }
   ],
   "source": [
    "s = 'python'\n",
    "i = 0\n",
    "for e in s:  # <- Use enumerate(), instead!\n",
    "  print('s[{i}] == {e}'.format(i=i, e=e))\n",
    "  i += 1"
   ]
  },
  {
   "cell_type": "markdown",
   "metadata": {
    "slideshow": {
     "slide_type": "subslide"
    }
   },
   "source": [
    "## Iterable: generator\n",
    "* zip()\n",
    "  * iterables의 element끼리 짝지어서 돌려줌"
   ]
  },
  {
   "cell_type": "code",
   "execution_count": 24,
   "metadata": {
    "slideshow": {
     "slide_type": "fragment"
    }
   },
   "outputs": [
    {
     "name": "stdout",
     "output_type": "stream",
     "text": [
      "a: 2\n",
      "b: 3\n",
      "c: 1\n"
     ]
    }
   ],
   "source": [
    "l_s = ['a', 'b', 'c']\n",
    "l_w = [2, 3, 1]\n",
    "\n",
    "for s, w in zip(l_s, l_w):\n",
    "  print('{s}: {w}'.format(s=s, w=w))"
   ]
  },
  {
   "cell_type": "markdown",
   "metadata": {
    "slideshow": {
     "slide_type": "subslide"
    }
   },
   "source": [
    "## Pythonic code: zip()\n",
    "* DON'T: for loop 안에서 collection의 원소를 index로 접근\n",
    "  * index로 access하면 순차 접근만 가능한 iterable 사용 불가\n",
    "* DO: zip()을 이용하여 순회"
   ]
  },
  {
   "cell_type": "code",
   "execution_count": 26,
   "metadata": {
    "slideshow": {
     "slide_type": "fragment"
    }
   },
   "outputs": [
    {
     "name": "stdout",
     "output_type": "stream",
     "text": [
      "a: 2\n",
      "b: 3\n",
      "c: 1\n"
     ]
    }
   ],
   "source": [
    "l_s = ['a', 'b', 'c']\n",
    "l_w = [2, 3, 1]\n",
    "\n",
    "for i, s in enumerate(l_s): # <- Use zip(), instead!\n",
    "  print('{s}: {w}'.format(s=s, w=l_w[i])) # <- Don't access l_w using an index"
   ]
  },
  {
   "cell_type": "markdown",
   "metadata": {
    "slideshow": {
     "slide_type": "subslide"
    }
   },
   "source": [
    "## Iterable: generator\n",
    "  * iterables의 수는 가변 (2개, 3개, ...)"
   ]
  },
  {
   "cell_type": "code",
   "execution_count": 27,
   "metadata": {
    "slideshow": {
     "slide_type": "fragment"
    }
   },
   "outputs": [
    {
     "name": "stdout",
     "output_type": "stream",
     "text": [
      "('a', 0, -1) ('b', 1, -2) ('c', 2, -3)\n",
      "('a', 0, -1) ('b', 1, -2) ('c', 2, -3)\n"
     ]
    }
   ],
   "source": [
    "print(*zip(\"abc\", range(3), range(-1, -4, -1)))\n",
    "print(*zip(\"abc\", [0, 1, 2], [-1, -2, -3]))"
   ]
  },
  {
   "cell_type": "markdown",
   "metadata": {
    "slideshow": {
     "slide_type": "subslide"
    }
   },
   "source": [
    "## 참고: unzip\n",
    "* A ziped list -> separate lists"
   ]
  },
  {
   "cell_type": "code",
   "execution_count": 28,
   "metadata": {
    "slideshow": {
     "slide_type": "fragment"
    }
   },
   "outputs": [
    {
     "name": "stdout",
     "output_type": "stream",
     "text": [
      "('a', 'b', 'c') (2, 3, 1)\n",
      "('a', 2) ('b', 3) ('c', 1)\n"
     ]
    }
   ],
   "source": [
    "zipped = [('a', 2), ('b', 3), ('c', 1)]\n",
    "ll_s, ll_w = zip(*zipped)\n",
    "print(ll_s, ll_w)\n",
    "print(*zipped)  # <=> print(('a', 2), ('b', 3), ('c', 1))"
   ]
  },
  {
   "cell_type": "markdown",
   "metadata": {
    "slideshow": {
     "slide_type": "subslide"
    }
   },
   "source": [
    "## 참고: unzip\n",
    "* `*zipped` <=> ('a', 2), ('b', 3), ('c', 1)"
   ]
  },
  {
   "cell_type": "code",
   "execution_count": 29,
   "metadata": {
    "slideshow": {
     "slide_type": "fragment"
    }
   },
   "outputs": [
    {
     "name": "stdout",
     "output_type": "stream",
     "text": [
      "a b c\n",
      "2 3 1\n"
     ]
    }
   ],
   "source": [
    "for x, y, z in zip(*zipped): #zip 3 iterables\n",
    "  print(x, y, z)"
   ]
  },
  {
   "cell_type": "markdown",
   "metadata": {
    "slideshow": {
     "slide_type": "subslide"
    }
   },
   "source": [
    "## Iterable: generator\n",
    "* zip의 대상의 길이가 다른 경우는 가장 짧은 iterator에 맞춤"
   ]
  },
  {
   "cell_type": "code",
   "execution_count": 30,
   "metadata": {
    "slideshow": {
     "slide_type": "fragment"
    }
   },
   "outputs": [
    {
     "name": "stdout",
     "output_type": "stream",
     "text": [
      "weight of a: 2\n",
      "weight of b: 3\n"
     ]
    }
   ],
   "source": [
    "l_s = ['a', 'b', 'c']\n",
    "l_w = [2, 3]\n",
    "\n",
    "for s, w in zip(l_s, l_w):\n",
    "  print('weight of {s}: {w}'.format(s=s, w=w))"
   ]
  },
  {
   "cell_type": "markdown",
   "metadata": {
    "slideshow": {
     "slide_type": "subslide"
    }
   },
   "source": [
    "## Iterable: generator\n",
    "* zip_longest()\n",
    "  * itertools module의 memeber\n",
    "  * zip의 대상의 길이가 다른 경우, 긴 iterator에 맞춤\n",
    "  * 짧은 쪽의 element를 None으로 가정"
   ]
  },
  {
   "cell_type": "code",
   "execution_count": 31,
   "metadata": {
    "slideshow": {
     "slide_type": "fragment"
    }
   },
   "outputs": [
    {
     "name": "stdout",
     "output_type": "stream",
     "text": [
      "weight of a: 2\n",
      "weight of b: 3\n",
      "weight of c: None\n"
     ]
    }
   ],
   "source": [
    "from itertools import zip_longest\n",
    "\n",
    "l_s = ['a', 'b', 'c']\n",
    "l_w = [2, 3]\n",
    "\n",
    "for s, w in zip_longest(l_s, l_w):\n",
    "  print('weight of {s}: {w}'.format(s=s, w=w))"
   ]
  },
  {
   "cell_type": "markdown",
   "metadata": {
    "slideshow": {
     "slide_type": "slide"
    }
   },
   "source": [
    "## Sequence comprehension\n",
    "* List comprehension\n",
    "* Dict comprehension\n",
    "* Set comprehension\n",
    "* Generator expression"
   ]
  },
  {
   "cell_type": "markdown",
   "metadata": {
    "slideshow": {
     "slide_type": "subslide"
    }
   },
   "source": [
    "## List comprehension\n",
    "* List를 만들어내는 inline 표현식\n",
    "* ```[출력 표현식 for 요소 in sequence [if 조건식]]```\n",
    "* map: 각 원소에 대한 변환, 변환값의 새 리스트 생성"
   ]
  },
  {
   "cell_type": "code",
   "execution_count": 32,
   "metadata": {
    "slideshow": {
     "slide_type": "fragment"
    }
   },
   "outputs": [
    {
     "name": "stdout",
     "output_type": "stream",
     "text": [
      "['APPLE', 'ORANGE', 'BANANA']\n"
     ]
    }
   ],
   "source": [
    "l = ['apple', 'orange', 'banana']\n",
    "u = [x.upper() for x in l]\n",
    "print(u)"
   ]
  },
  {
   "cell_type": "markdown",
   "metadata": {
    "slideshow": {
     "slide_type": "subslide"
    }
   },
   "source": [
    "## List comprehension\n",
    "* filter: 조건에 맞는 원소만으로 새 리스트 생성"
   ]
  },
  {
   "cell_type": "code",
   "execution_count": 33,
   "metadata": {
    "slideshow": {
     "slide_type": "fragment"
    }
   },
   "outputs": [
    {
     "name": "stdout",
     "output_type": "stream",
     "text": [
      "[0, 2, 4, 6, 8]\n"
     ]
    }
   ],
   "source": [
    "even = [x for x in range(10) if x % 2 == 0]\n",
    "print(even)"
   ]
  },
  {
   "cell_type": "markdown",
   "metadata": {
    "slideshow": {
     "slide_type": "subslide"
    }
   },
   "source": [
    "## Dict comprehension\n",
    "* Dict를 만들어내는 inline 표현식\n",
    "* ```{key:value for 요소 in sequence [if 조건식]}```"
   ]
  },
  {
   "cell_type": "code",
   "execution_count": 34,
   "metadata": {
    "slideshow": {
     "slide_type": "fragment"
    }
   },
   "outputs": [
    {
     "name": "stdout",
     "output_type": "stream",
     "text": [
      "{'a': 10, 'c': 12, 'b': 11}\n"
     ]
    }
   ],
   "source": [
    "d = {'a': 0, 'b': 1, 'c': 2, '5': 'x', '6': 'y'}\n",
    "a = {key: value+10 for key, value in d.items() if key.isalpha()}\n",
    "print(a)"
   ]
  },
  {
   "cell_type": "markdown",
   "metadata": {
    "slideshow": {
     "slide_type": "subslide"
    }
   },
   "source": [
    "## Set comprehension\n",
    "* Set을 만들어내는 inline 표현식\n",
    "* ```{key for 요소 in sequence [if 조건식]}```\n",
    "* 변환 후 unique한 원소만 남는다"
   ]
  },
  {
   "cell_type": "code",
   "execution_count": 35,
   "metadata": {
    "slideshow": {
     "slide_type": "fragment"
    }
   },
   "outputs": [
    {
     "name": "stdout",
     "output_type": "stream",
     "text": [
      "{0, 1}\n"
     ]
    }
   ],
   "source": [
    "s = {1, 2, 3, 4}\n",
    "print({e % 2 for e in s})"
   ]
  },
  {
   "cell_type": "markdown",
   "metadata": {
    "slideshow": {
     "slide_type": "subslide"
    }
   },
   "source": [
    "## Generator expression\n",
    "* Generator를 만들어낸 inline 표현식\n",
    "* List comprehension와 달리 element를 on-the-fly로 만들기 때문에 효율적\n",
    "* ```(출력 표현식 for 요소 in sequence [if 조건식])```"
   ]
  },
  {
   "cell_type": "code",
   "execution_count": 36,
   "metadata": {
    "slideshow": {
     "slide_type": "fragment"
    }
   },
   "outputs": [
    {
     "name": "stdout",
     "output_type": "stream",
     "text": [
      "0\n",
      "2\n",
      "4\n",
      "6\n",
      "8\n"
     ]
    }
   ],
   "source": [
    "import types\n",
    "even = (x for x in range(10) if x % 2 == 0)\n",
    "assert isinstance(even, types.GeneratorType)\n",
    "for e in even:\n",
    "    print(e)"
   ]
  },
  {
   "cell_type": "markdown",
   "metadata": {
    "slideshow": {
     "slide_type": "subslide"
    }
   },
   "source": [
    "## Generator expression\n",
    "* Generator는 수행이 끝나면 다시 수행시킬 수가 없으므로 generator expression을 쓸 때 주의해야 한다"
   ]
  },
  {
   "cell_type": "code",
   "execution_count": 37,
   "metadata": {
    "slideshow": {
     "slide_type": "fragment"
    }
   },
   "outputs": [
    {
     "name": "stdout",
     "output_type": "stream",
     "text": [
      "[0, 2, 4, 6, 8]\n",
      "[]\n"
     ]
    }
   ],
   "source": [
    "even = (x for x in range(10) if x % 2 == 0)\n",
    "print(list(e for e in even))\n",
    "print(list(e for e in even))"
   ]
  },
  {
   "cell_type": "markdown",
   "metadata": {
    "slideshow": {
     "slide_type": "subslide"
    }
   },
   "source": [
    "## Built-in function: any(), all()\n",
    "* 인자로 전달된 bool iterable에 대한 연산 결과를 리턴\n",
    "* all(iterable): 모든 원소가 True일 때만 True를 리턴\n",
    "* any(iterable): 하나라도 원소가 True이면 True를 리턴"
   ]
  },
  {
   "cell_type": "code",
   "execution_count": 38,
   "metadata": {
    "slideshow": {
     "slide_type": "fragment"
    }
   },
   "outputs": [
    {
     "name": "stdout",
     "output_type": "stream",
     "text": [
      "[0, 2, 4, 6, 8]\n",
      "True\n",
      "True\n"
     ]
    }
   ],
   "source": [
    "even = [x for x in range(10) if x % 2 == 0]\n",
    "print(even)\n",
    "print(all([e % 2 == 0 for e in even]))\n",
    "print(any([e % 3 == 0 for e in even]))"
   ]
  },
  {
   "cell_type": "markdown",
   "metadata": {
    "slideshow": {
     "slide_type": "subslide"
    }
   },
   "source": [
    "## Built-in function: min()/max()\n",
    "* min/max(iterable)\n",
    "  * iterable 원소 중에서 가장 작거나 큰 값을 리턴"
   ]
  },
  {
   "cell_type": "code",
   "execution_count": 39,
   "metadata": {
    "slideshow": {
     "slide_type": "fragment"
    }
   },
   "outputs": [
    {
     "name": "stdout",
     "output_type": "stream",
     "text": [
      "2\n",
      "7\n"
     ]
    }
   ],
   "source": [
    "print(min([4, 2, 7]))\n",
    "print(max([4, 2, 7]))"
   ]
  },
  {
   "cell_type": "markdown",
   "metadata": {
    "slideshow": {
     "slide_type": "subslide"
    }
   },
   "source": [
    "## Built-in function: sum()\n",
    "* sum(iterable [,start=0])\n",
    "  * 인자로 전달된 iterable 원소들에 대해, + 연산을 수행\n",
    "  * start 항목은 optional; default value = 0; str은 금지됨"
   ]
  },
  {
   "cell_type": "code",
   "execution_count": 40,
   "metadata": {
    "slideshow": {
     "slide_type": "fragment"
    }
   },
   "outputs": [
    {
     "name": "stdout",
     "output_type": "stream",
     "text": [
      "13\n",
      "[1, 2, 3, 4, 5, 6]\n"
     ]
    }
   ],
   "source": [
    "print(sum([3, 1, 9]))\n",
    "print(sum([[1, 2], [3, 4], [5, 6]], []))"
   ]
  },
  {
   "cell_type": "markdown",
   "metadata": {
    "slideshow": {
     "slide_type": "subslide"
    }
   },
   "source": [
    "## 참고: cartesian product\n",
    "* Sequence comprehension\n",
    "  * 2중 loop 표현: 왼쪽이 outer loop"
   ]
  },
  {
   "cell_type": "code",
   "execution_count": 41,
   "metadata": {
    "slideshow": {
     "slide_type": "fragment"
    }
   },
   "outputs": [
    {
     "name": "stdout",
     "output_type": "stream",
     "text": [
      "('a', 1) ('a', 2) ('b', 1) ('b', 2)\n"
     ]
    }
   ],
   "source": [
    "l_x = ['a', 'b']\n",
    "l_y = [1, 2]\n",
    "print(*((x, y) for x in l_x for y in l_y))"
   ]
  },
  {
   "cell_type": "markdown",
   "metadata": {
    "slideshow": {
     "slide_type": "slide"
    }
   },
   "source": [
    "## Wrap-up\n",
    "* Controls: if, while, for\n",
    "* Operators: 산>관>논\n",
    "* Sequence comprehension is an inline form of loop\n",
    "* Generator is a sequce generator, generating a value at a time on-the-fly"
   ]
  }
 ],
 "metadata": {
  "celltoolbar": "Slideshow",
  "kernelspec": {
   "display_name": "Python 3",
   "language": "python",
   "name": "python3"
  },
  "language_info": {
   "codemirror_mode": {
    "name": "ipython",
    "version": 3
   },
   "file_extension": ".py",
   "mimetype": "text/x-python",
   "name": "python",
   "nbconvert_exporter": "python",
   "pygments_lexer": "ipython3",
   "version": "3.5.4"
  }
 },
 "nbformat": 4,
 "nbformat_minor": 2
}
