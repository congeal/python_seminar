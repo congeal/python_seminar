{
 "cells": [
  {
   "cell_type": "markdown",
   "metadata": {
    "slideshow": {
     "slide_type": "slide"
    }
   },
   "source": [
    "![Python](assets/python-logo-generic.svg)\n",
    "### Function\n",
    "#### 김응섭"
   ]
  },
  {
   "cell_type": "markdown",
   "metadata": {
    "slideshow": {
     "slide_type": "slide"
    }
   },
   "source": [
    "## Outline\n",
    "* Function syntax\n",
    "* First-class citizen\n",
    "* Reference semantics\n",
    "* 함수 가공\n",
    "* Generator\n",
    "* Wrap-up"
   ]
  },
  {
   "cell_type": "markdown",
   "metadata": {
    "slideshow": {
     "slide_type": "slide"
    }
   },
   "source": [
    "## Function syntax\n",
    "* Definition\n",
    "* call\n",
    "* return\n",
    "* default value\n",
    "* 가변 인자"
   ]
  },
  {
   "cell_type": "markdown",
   "metadata": {
    "slideshow": {
     "slide_type": "subslide"
    }
   },
   "source": [
    "## Function definition\n",
    "* code block도 하나의 object\n",
    "* code block은 arguments를 가질 수 있다\n",
    "* function은 code block에 대한 reference\n",
    "* function은 value를 return할 수 있다\n",
    "    * 생략하면 None이 return 된다고 가정\n",
    "\n",
    "```python\n",
    "def <function_name>(<arguments>):\n",
    "    <code block>\n",
    "    return <return_value>   # optional\n",
    "```"
   ]
  },
  {
   "cell_type": "markdown",
   "metadata": {
    "slideshow": {
     "slide_type": "subslide"
    }
   },
   "source": [
    "## Keyword: pass\n",
    "* 빈 code block을 나타낼 때 사용"
   ]
  },
  {
   "cell_type": "code",
   "execution_count": 36,
   "metadata": {
    "slideshow": {
     "slide_type": "fragment"
    }
   },
   "outputs": [],
   "source": [
    "def empty_func():\n",
    "    pass"
   ]
  },
  {
   "cell_type": "markdown",
   "metadata": {
    "slideshow": {
     "slide_type": "subslide"
    }
   },
   "source": [
    "## Function call\n",
    "* () 연산자를 통해서 함수 실행\n",
    "    * () 연산자가 정의된 모든 object를 callable\n",
    "* function call은 expression의 구성원"
   ]
  },
  {
   "cell_type": "code",
   "execution_count": 1,
   "metadata": {
    "slideshow": {
     "slide_type": "fragment"
    }
   },
   "outputs": [
    {
     "name": "stdout",
     "output_type": "stream",
     "text": [
      "16\n"
     ]
    }
   ],
   "source": [
    "def inc(x):\n",
    "    return x+1\n",
    "\n",
    "r = inc(2)*2 + 10\n",
    "print(r)"
   ]
  },
  {
   "cell_type": "markdown",
   "metadata": {
    "slideshow": {
     "slide_type": "subslide"
    }
   },
   "source": [
    "## keyword argument\n",
    "* call할 때, argument_name = value 형태로 지정 가능"
   ]
  },
  {
   "cell_type": "code",
   "execution_count": 2,
   "metadata": {
    "slideshow": {
     "slide_type": "fragment"
    }
   },
   "outputs": [
    {
     "name": "stdout",
     "output_type": "stream",
     "text": [
      "6\n"
     ]
    }
   ],
   "source": [
    "def acc(x, y, z):\n",
    "    return x + y + z\n",
    "\n",
    "print(acc(1, 2, z=3))"
   ]
  },
  {
   "cell_type": "markdown",
   "metadata": {
    "slideshow": {
     "slide_type": "subslide"
    }
   },
   "source": [
    "## keyword argument\n",
    "* keyword argument가 한 번 나오면, 그 뒤의 argument는 모두 keyword 형태여야 한다"
   ]
  },
  {
   "cell_type": "code",
   "execution_count": 5,
   "metadata": {
    "slideshow": {
     "slide_type": "fragment"
    }
   },
   "outputs": [
    {
     "ename": "TypeError",
     "evalue": "acc() got multiple values for argument 'x'",
     "output_type": "error",
     "traceback": [
      "\u001b[0;31m---------------------------------------------------------------------------\u001b[0m",
      "\u001b[0;31mTypeError\u001b[0m                                 Traceback (most recent call last)",
      "\u001b[0;32m<ipython-input-5-5ee76e3f8f6d>\u001b[0m in \u001b[0;36m<module>\u001b[0;34m()\u001b[0m\n\u001b[1;32m      2\u001b[0m     \u001b[0;32mreturn\u001b[0m \u001b[0mx\u001b[0m \u001b[0;34m+\u001b[0m \u001b[0my\u001b[0m \u001b[0;34m+\u001b[0m \u001b[0mz\u001b[0m\u001b[0;34m\u001b[0m\u001b[0m\n\u001b[1;32m      3\u001b[0m \u001b[0;34m\u001b[0m\u001b[0m\n\u001b[0;32m----> 4\u001b[0;31m \u001b[0mprint\u001b[0m\u001b[0;34m(\u001b[0m\u001b[0macc\u001b[0m\u001b[0;34m(\u001b[0m\u001b[0;36m2\u001b[0m\u001b[0;34m,\u001b[0m \u001b[0;36m3\u001b[0m\u001b[0;34m,\u001b[0m \u001b[0mx\u001b[0m\u001b[0;34m=\u001b[0m\u001b[0;36m1\u001b[0m\u001b[0;34m)\u001b[0m\u001b[0;34m)\u001b[0m   \u001b[0;31m# illegal\u001b[0m\u001b[0;34m\u001b[0m\u001b[0m\n\u001b[0m",
      "\u001b[0;31mTypeError\u001b[0m: acc() got multiple values for argument 'x'"
     ]
    }
   ],
   "source": [
    "def acc(x, y, z):\n",
    "    return x + y + z\n",
    "\n",
    "print(acc(2, 3, x=1))   # illegal"
   ]
  },
  {
   "cell_type": "code",
   "execution_count": 6,
   "metadata": {
    "slideshow": {
     "slide_type": "fragment"
    }
   },
   "outputs": [
    {
     "ename": "SyntaxError",
     "evalue": "positional argument follows keyword argument (<ipython-input-6-f1fdbfee63d4>, line 1)",
     "output_type": "error",
     "traceback": [
      "\u001b[0;36m  File \u001b[0;32m\"<ipython-input-6-f1fdbfee63d4>\"\u001b[0;36m, line \u001b[0;32m1\u001b[0m\n\u001b[0;31m    print(acc(1, y=2, 3))   # illegal\u001b[0m\n\u001b[0m                     ^\u001b[0m\n\u001b[0;31mSyntaxError\u001b[0m\u001b[0;31m:\u001b[0m positional argument follows keyword argument\n"
     ]
    }
   ],
   "source": [
    "print(acc(1, y=2, 3))   # illegal"
   ]
  },
  {
   "cell_type": "markdown",
   "metadata": {
    "slideshow": {
     "slide_type": "subslide"
    }
   },
   "source": [
    "## keyword only argument\n",
    "* `*` 뒤에 정의된 argument는 keyword argument 형태로 pass해야 한다"
   ]
  },
  {
   "cell_type": "code",
   "execution_count": 1,
   "metadata": {
    "slideshow": {
     "slide_type": "fragment"
    }
   },
   "outputs": [
    {
     "ename": "TypeError",
     "evalue": "compare() takes 2 positional arguments but 3 were given",
     "output_type": "error",
     "traceback": [
      "\u001b[0;31m---------------------------------------------------------------------------\u001b[0m",
      "\u001b[0;31mTypeError\u001b[0m                                 Traceback (most recent call last)",
      "\u001b[0;32m<ipython-input-1-7c420ac54c7e>\u001b[0m in \u001b[0;36m<module>\u001b[0;34m()\u001b[0m\n\u001b[1;32m      4\u001b[0m \u001b[0mcompare\u001b[0m\u001b[0;34m(\u001b[0m\u001b[0;36m1\u001b[0m\u001b[0;34m,\u001b[0m \u001b[0;36m2\u001b[0m\u001b[0;34m)\u001b[0m\u001b[0;34m\u001b[0m\u001b[0m\n\u001b[1;32m      5\u001b[0m \u001b[0mcompare\u001b[0m\u001b[0;34m(\u001b[0m\u001b[0;36m1\u001b[0m\u001b[0;34m,\u001b[0m \u001b[0;36m2\u001b[0m\u001b[0;34m,\u001b[0m \u001b[0mkey\u001b[0m\u001b[0;34m=\u001b[0m\u001b[0;34m'name'\u001b[0m\u001b[0;34m)\u001b[0m\u001b[0;34m\u001b[0m\u001b[0m\n\u001b[0;32m----> 6\u001b[0;31m \u001b[0mcompare\u001b[0m\u001b[0;34m(\u001b[0m\u001b[0;36m1\u001b[0m\u001b[0;34m,\u001b[0m \u001b[0;36m2\u001b[0m\u001b[0;34m,\u001b[0m \u001b[0;34m'name'\u001b[0m\u001b[0;34m)\u001b[0m     \u001b[0;31m#illegal\u001b[0m\u001b[0;34m\u001b[0m\u001b[0m\n\u001b[0m",
      "\u001b[0;31mTypeError\u001b[0m: compare() takes 2 positional arguments but 3 were given"
     ]
    }
   ],
   "source": [
    "def compare(a, b, *, key=None):\n",
    "    pass\n",
    "\n",
    "compare(1, 2)\n",
    "compare(1, 2, key='name')\n",
    "compare(1, 2, 'name')     #illegal"
   ]
  },
  {
   "cell_type": "markdown",
   "metadata": {
    "slideshow": {
     "slide_type": "subslide"
    }
   },
   "source": [
    "## Return\n",
    "* return value가 생략되면 None이 리턴된다\n",
    "* 여러 값을 리턴할 때는 tuple로 넘긴다"
   ]
  },
  {
   "cell_type": "code",
   "execution_count": 7,
   "metadata": {
    "slideshow": {
     "slide_type": "fragment"
    }
   },
   "outputs": [
    {
     "name": "stdout",
     "output_type": "stream",
     "text": [
      "argument a: 2\n",
      "None\n",
      "5 6\n"
     ]
    }
   ],
   "source": [
    "def no_ret_func(a):\n",
    "    print('argument a:', a)\n",
    "\n",
    "def multi_ret_func(a, b):\n",
    "    return a+b, a*b\n",
    "\n",
    "a = 2; b = 3\n",
    "r0 = no_ret_func(a)\n",
    "s, m = multi_ret_func(a, b) # returned tuple is unpacked\n",
    "print(r0)\n",
    "print(s, m)"
   ]
  },
  {
   "cell_type": "markdown",
   "metadata": {
    "slideshow": {
     "slide_type": "subslide"
    }
   },
   "source": [
    "## Return: sentinel\n",
    "* 허용되지 않는 argument가 들어오면 조기에 return 할 수 있다"
   ]
  },
  {
   "cell_type": "code",
   "execution_count": 9,
   "metadata": {
    "slideshow": {
     "slide_type": "fragment"
    }
   },
   "outputs": [
    {
     "name": "stdout",
     "output_type": "stream",
     "text": [
      "None\n"
     ]
    }
   ],
   "source": [
    "def inc_int(x):\n",
    "    if not isinstance(x, int):  # sentinel\n",
    "        return\n",
    "    return x+1\n",
    "\n",
    "s = inc_int('s')\n",
    "print(s)"
   ]
  },
  {
   "cell_type": "markdown",
   "metadata": {
    "slideshow": {
     "slide_type": "subslide"
    }
   },
   "source": [
    "## Default value\n",
    "* call할 때 건네주지 않은 argument에 default value를 지정할 수 있다\n",
    "* 함수의 기능을 확장\n",
    "    * default value를 갖는 argument 추가를 통해,\n",
    "    * 기존 function call을 수정하지 않아도 기능 확장이 가능하다"
   ]
  },
  {
   "cell_type": "code",
   "execution_count": 10,
   "metadata": {
    "slideshow": {
     "slide_type": "fragment"
    }
   },
   "outputs": [
    {
     "name": "stdout",
     "output_type": "stream",
     "text": [
      "3\n",
      "13\n"
     ]
    }
   ],
   "source": [
    "def acc(x, y, init=0):\n",
    "    return init + x + y\n",
    "\n",
    "print(acc(1, 2))\n",
    "print(acc(1, 2, init=10))   # init is optional"
   ]
  },
  {
   "cell_type": "markdown",
   "metadata": {
    "slideshow": {
     "slide_type": "subslide"
    }
   },
   "source": [
    "## Default value\n",
    "* default value가 지정된 첫 argument 다음에 오는 모든 argument에는 default value를 지정해야 한다"
   ]
  },
  {
   "cell_type": "code",
   "execution_count": 11,
   "metadata": {
    "slideshow": {
     "slide_type": "fragment"
    }
   },
   "outputs": [
    {
     "ename": "SyntaxError",
     "evalue": "non-default argument follows default argument (<ipython-input-11-ca7f9af31ed4>, line 1)",
     "output_type": "error",
     "traceback": [
      "\u001b[0;36m  File \u001b[0;32m\"<ipython-input-11-ca7f9af31ed4>\"\u001b[0;36m, line \u001b[0;32m1\u001b[0m\n\u001b[0;31m    def add(a, b=0, c):\u001b[0m\n\u001b[0m           ^\u001b[0m\n\u001b[0;31mSyntaxError\u001b[0m\u001b[0;31m:\u001b[0m non-default argument follows default argument\n"
     ]
    }
   ],
   "source": [
    "def add(a, b=0, c):\n",
    "    return a+b+c\n",
    "\n",
    "r = add(1, 2)    # 2는 b에 할당? c에 할당?"
   ]
  },
  {
   "cell_type": "markdown",
   "metadata": {
    "slideshow": {
     "slide_type": "subslide"
    }
   },
   "source": [
    "## 가변 인자 (positional)\n",
    "* argument 개수가 가변하게 만들 수 있다\n",
    "* 가변 인수 앞에 ```*```를 붙인다\n",
    "* 가변 인수는 tuple "
   ]
  },
  {
   "cell_type": "code",
   "execution_count": 12,
   "metadata": {
    "slideshow": {
     "slide_type": "fragment"
    }
   },
   "outputs": [
    {
     "name": "stdout",
     "output_type": "stream",
     "text": [
      "110\n"
     ]
    }
   ],
   "source": [
    "def acc(init, *args):\n",
    "    s = init\n",
    "    for x in args:\n",
    "        s += x\n",
    "    return s\n",
    "\n",
    "print(acc(100, 1, 2, 3, 4))  # 100 + 4*(4+1)/2 == 110"
   ]
  },
  {
   "cell_type": "markdown",
   "metadata": {
    "slideshow": {
     "slide_type": "subslide"
    }
   },
   "source": [
    "## 가변 인자 (keyword)\n",
    "* 가변 keyword argument 앞에 `**`를 붙인다\n",
    "* 가변 keyword argument는 dict"
   ]
  },
  {
   "cell_type": "code",
   "execution_count": 13,
   "metadata": {
    "slideshow": {
     "slide_type": "fragment"
    }
   },
   "outputs": [
    {
     "name": "stdout",
     "output_type": "stream",
     "text": [
      "110\n"
     ]
    }
   ],
   "source": [
    "def acc(init, *args, **kwargs):\n",
    "    s = init\n",
    "    for x in args:\n",
    "        s += x\n",
    "    for x in kwargs.values():\n",
    "        s += x\n",
    "    return s\n",
    "\n",
    "print(acc(100, 1, 2, x=3, y=4))"
   ]
  },
  {
   "cell_type": "markdown",
   "metadata": {
    "slideshow": {
     "slide_type": "slide"
    }
   },
   "source": [
    "## First-class citizen\n",
    "* 의미\n",
    "* switch 구현\n",
    "* function property\n",
    "* callback\n",
    "* lambda"
   ]
  },
  {
   "cell_type": "markdown",
   "metadata": {
    "slideshow": {
     "slide_type": "subslide"
    }
   },
   "source": [
    "## First-class citizen\n",
    "* 변수에 할당되는 data처럼 다뤄지는 object들을 말함\n",
    "* 아래 조건을 만족해야 한다.\n",
    "  * 변수나 collection에 담을 수 있다\n",
    "  * argument로 전달 가능하다\n",
    "  * return value로 사용할 수 있다\n",
    "  * reference와 관계 없이 고유한 구별이 가능하다\n",
    "  * 동적으로 property 할당이 가능하다\n",
    "\n",
    "_(from wikipedia)_"
   ]
  },
  {
   "cell_type": "markdown",
   "metadata": {
    "slideshow": {
     "slide_type": "subslide"
    }
   },
   "source": [
    "## First-class citizen\n",
    "* Python function is a first-class citizen\n",
    "  * 함수도 보통의 data처럼 여길 수 있다\n",
    "  * int object가 숫자를 표현한다면, function은 code block을 표현\n",
    "  * function object는 assignment가 아니라 def로 생성되는 것이 다름"
   ]
  },
  {
   "cell_type": "markdown",
   "metadata": {
    "slideshow": {
     "slide_type": "subslide"
    }
   },
   "source": [
    "## First-class citizen\n",
    "* 변수나 collection에 담을 수 있다\n",
    "* reference과 관계 없이 고유한 구별이 가능하다"
   ]
  },
  {
   "cell_type": "code",
   "execution_count": 38,
   "metadata": {
    "slideshow": {
     "slide_type": "fragment"
    }
   },
   "outputs": [
    {
     "name": "stdout",
     "output_type": "stream",
     "text": [
      "140512645559568\n",
      "140512645559568\n",
      "2\n"
     ]
    }
   ],
   "source": [
    "def inc(x):\n",
    "    return x + 1\n",
    "\n",
    "a = inc         # a, inc 모두 inc(x) 함수를 가리킴\n",
    "print(id(inc))  # Built-in function, id()는 object의 고유한 숫자를 돌려줌\n",
    "print(id(a))    # id is a built-in function\n",
    "print(a(1))"
   ]
  },
  {
   "cell_type": "markdown",
   "metadata": {
    "slideshow": {
     "slide_type": "subslide"
    }
   },
   "source": [
    "## switch 구현\n",
    "* Function은 collection에 담을 수 있다\n",
    "* Switch 구현\n",
    "    * switch condition을 dict의 key로 사용"
   ]
  },
  {
   "cell_type": "code",
   "execution_count": 39,
   "metadata": {
    "slideshow": {
     "slide_type": "fragment"
    }
   },
   "outputs": [
    {
     "name": "stdout",
     "output_type": "stream",
     "text": [
      "1\n"
     ]
    }
   ],
   "source": [
    "def add(x, y):\n",
    "    return x + y\n",
    "\n",
    "def sub(x, y):\n",
    "    return x - y\n",
    "\n",
    "func_map = {0: add, 1: sub}\n",
    "\n",
    "user_input = 1\n",
    "r = func_map[user_input](4, 3)\n",
    "print(r)"
   ]
  },
  {
   "cell_type": "markdown",
   "metadata": {
    "slideshow": {
     "slide_type": "subslide"
    }
   },
   "source": [
    "## Docstring\n",
    "* 함수를 설명하는 string property\n",
    "    * 여러 줄로 표현하는 경우가 많음\n",
    "* `__doc__` 속성으로 접근할 수 있다"
   ]
  },
  {
   "cell_type": "code",
   "execution_count": 40,
   "metadata": {
    "slideshow": {
     "slide_type": "fragment"
    }
   },
   "outputs": [
    {
     "name": "stdout",
     "output_type": "stream",
     "text": [
      "Adding two values\n",
      "Adding x + y\n"
     ]
    }
   ],
   "source": [
    "def add(x, y):\n",
    "    '''Adding two values'''\n",
    "    return x + y\n",
    "\n",
    "print(add.__doc__)\n",
    "add.__doc__ = 'Adding x + y'\n",
    "print(add.__doc__)"
   ]
  },
  {
   "cell_type": "markdown",
   "metadata": {
    "slideshow": {
     "slide_type": "subslide"
    }
   },
   "source": [
    "## Built-in function, dir()\n",
    "* object의 property list를 돌려주는 built-in function"
   ]
  },
  {
   "cell_type": "code",
   "execution_count": 41,
   "metadata": {
    "slideshow": {
     "slide_type": "fragment"
    }
   },
   "outputs": [
    {
     "name": "stdout",
     "output_type": "stream",
     "text": [
      "['__annotations__', '__call__', '__class__', '__closure__', '__code__', '__defaults__', '__delattr__', '__dict__', '__dir__', '__doc__', '__eq__', '__format__', '__ge__', '__get__', '__getattribute__', '__globals__', '__gt__', '__hash__', '__init__', '__kwdefaults__', '__le__', '__lt__', '__module__', '__name__', '__ne__', '__new__', '__qualname__', '__reduce__', '__reduce_ex__', '__repr__', '__setattr__', '__sizeof__', '__str__', '__subclasshook__']\n"
     ]
    }
   ],
   "source": [
    "def add(x, y):\n",
    "    '''Adding two values'''\n",
    "    return x + y\n",
    "\n",
    "print(dir(add))\n",
    "assert '__doc__' in dir(add)"
   ]
  },
  {
   "cell_type": "markdown",
   "metadata": {
    "slideshow": {
     "slide_type": "subslide"
    }
   },
   "source": [
    "## Function property\n",
    "* 동적으로 property 할당이 가능하다"
   ]
  },
  {
   "cell_type": "code",
   "execution_count": 1,
   "metadata": {
    "slideshow": {
     "slide_type": "fragment"
    }
   },
   "outputs": [
    {
     "name": "stdout",
     "output_type": "stream",
     "text": [
      "4\n"
     ]
    },
    {
     "data": {
      "text/plain": [
       "5"
      ]
     },
     "execution_count": 1,
     "metadata": {},
     "output_type": "execute_result"
    }
   ],
   "source": [
    "def add(x, y):\n",
    "    '''Adding two values'''\n",
    "    return x + y\n",
    "\n",
    "assert not 'xyz' in dir(add)\n",
    "add.xyz = 4\n",
    "assert 'xyz' in dir(add)\n",
    "print(add.xyz)\n",
    "add(2, 3)"
   ]
  },
  {
   "cell_type": "markdown",
   "metadata": {
    "slideshow": {
     "slide_type": "subslide"
    }
   },
   "source": [
    "## callback\n",
    "* function도 argument로 전달 가능하다\n",
    "* 사용처\n",
    "  * 알고리즘은 동일하고, type이나 조건에 따라서 일부 operation만 변경해야 할 때 \n",
    "  * event가 발생했을 때, 수행해야 하는 동작을 등록"
   ]
  },
  {
   "cell_type": "markdown",
   "metadata": {
    "slideshow": {
     "slide_type": "subslide"
    }
   },
   "source": [
    "## callback"
   ]
  },
  {
   "cell_type": "code",
   "execution_count": 43,
   "metadata": {
    "slideshow": {
     "slide_type": "fragment"
    }
   },
   "outputs": [
    {
     "name": "stdout",
     "output_type": "stream",
     "text": [
      "0 7\n"
     ]
    }
   ],
   "source": [
    "def conditional_caller(x, y, func):\n",
    "    if x >= y:\n",
    "        return func(x, y)\n",
    "    else:\n",
    "        return 0\n",
    "\n",
    "def sub(a, b):\n",
    "    return a - b\n",
    "\n",
    "a = 2; b = 9\n",
    "p = conditional_caller(a, b, sub)\n",
    "z = conditional_caller(b, a, sub)\n",
    "print(p, z)"
   ]
  },
  {
   "cell_type": "markdown",
   "metadata": {
    "slideshow": {
     "slide_type": "subslide"
    }
   },
   "source": [
    "## lambda\n",
    "* 익명 함수라고도 불림\n",
    "* Python에서는 하나의 expression으로만 정의할 수 있음\n",
    "  * code block을 indentation으로 나타내기 때문에 생긴 제약\n",
    "\n",
    "```python\n",
    "lambda <argument_list>: expression\n",
    "```"
   ]
  },
  {
   "cell_type": "markdown",
   "metadata": {
    "slideshow": {
     "slide_type": "subslide"
    }
   },
   "source": [
    "## lambda\n",
    "* function도 argument로 전달 가능하다\n",
    "* argument로 lambda를 전달할 수 있다"
   ]
  },
  {
   "cell_type": "code",
   "execution_count": 44,
   "metadata": {
    "slideshow": {
     "slide_type": "fragment"
    }
   },
   "outputs": [
    {
     "name": "stdout",
     "output_type": "stream",
     "text": [
      "7\n"
     ]
    }
   ],
   "source": [
    "def conditional_caller(x, y, func):\n",
    "    if x >= y:\n",
    "        return func(x, y)\n",
    "    else:\n",
    "        return 0\n",
    "\n",
    "a = 2; b = 9\n",
    "z = conditional_caller(b, a, lambda x, y: x - y)\n",
    "print(z)"
   ]
  },
  {
   "cell_type": "markdown",
   "metadata": {
    "slideshow": {
     "slide_type": "subslide"
    }
   },
   "source": [
    "## 함수를 인자로 받는 내장 함수\n",
    "* 함수 대신에 lambda를 이용하면 coding 및 읽기 편함"
   ]
  },
  {
   "cell_type": "code",
   "execution_count": 45,
   "metadata": {
    "slideshow": {
     "slide_type": "fragment"
    }
   },
   "outputs": [
    {
     "name": "stdout",
     "output_type": "stream",
     "text": [
      "[('dave', 'B', 10), ('jane', 'B', 12), ('john', 'A', 15)]\n"
     ]
    }
   ],
   "source": [
    "student_tuples = [  #(name, grade, age)\n",
    "    ('john', 'A', 15),\n",
    "    ('jane', 'B', 12),\n",
    "    ('dave', 'B', 10)]\n",
    "ss = sorted(student_tuples, key=lambda student: student[2]) # sort by age\n",
    "print(ss)"
   ]
  },
  {
   "cell_type": "markdown",
   "metadata": {
    "slideshow": {
     "slide_type": "slide"
    }
   },
   "source": [
    "## Reference semantics\n",
    "* ref to immutable obj\n",
    "* ref to mutable obj\n",
    "* scope\n",
    "* call-by-reference"
   ]
  },
  {
   "cell_type": "markdown",
   "metadata": {
    "slideshow": {
     "slide_type": "subslide"
    }
   },
   "source": [
    "## ref to immutable obj"
   ]
  },
  {
   "cell_type": "code",
   "execution_count": 15,
   "metadata": {
    "slideshow": {
     "slide_type": "fragment"
    }
   },
   "outputs": [],
   "source": [
    "# a와 b가 동일한 immutable obj를 가리킴\n",
    "a = 1\n",
    "b = 1\n",
    "assert id(a) == id(b)"
   ]
  },
  {
   "cell_type": "code",
   "execution_count": 151,
   "metadata": {
    "slideshow": {
     "slide_type": "skip"
    }
   },
   "outputs": [
    {
     "data": {
      "text/plain": [
       "'rendered_image/ref_strait.svg'"
      ]
     },
     "execution_count": 151,
     "metadata": {},
     "output_type": "execute_result"
    }
   ],
   "source": [
    "from graphviz import Source\n",
    "\n",
    "src_text = '''\n",
    "digraph {\n",
    "rankdir=LR;\n",
    "node [shape=box];\n",
    "a -> 1;\n",
    "b -> 1;\n",
    "a [shape=oval];\n",
    "b [shape=oval];\n",
    "}\n",
    "'''\n",
    "ref_strait = Source(src_text, format='svg', filename='ref_strait', directory='rendered_image')\n",
    "ref_strait.render()  "
   ]
  },
  {
   "cell_type": "code",
   "execution_count": 152,
   "metadata": {
    "slideshow": {
     "slide_type": "fragment"
    }
   },
   "outputs": [
    {
     "data": {
      "image/svg+xml": [
       "<?xml version=\"1.0\" encoding=\"UTF-8\" standalone=\"no\"?>\n",
       "<!DOCTYPE svg PUBLIC \"-//W3C//DTD SVG 1.1//EN\"\n",
       " \"http://www.w3.org/Graphics/SVG/1.1/DTD/svg11.dtd\">\n",
       "<!-- Generated by graphviz version 2.38.0 (20140413.2041)\n",
       " -->\n",
       "<!-- Title: %3 Pages: 1 -->\n",
       "<svg width=\"152pt\" height=\"98pt\"\n",
       " viewBox=\"0.00 0.00 152.00 98.00\" xmlns=\"http://www.w3.org/2000/svg\" xmlns:xlink=\"http://www.w3.org/1999/xlink\">\n",
       "<g id=\"graph0\" class=\"graph\" transform=\"scale(1 1) rotate(0) translate(4 94)\">\n",
       "<title>%3</title>\n",
       "<polygon fill=\"white\" stroke=\"none\" points=\"-4,4 -4,-94 148,-94 148,4 -4,4\"/>\n",
       "<!-- a -->\n",
       "<g id=\"node1\" class=\"node\"><title>a</title>\n",
       "<ellipse fill=\"none\" stroke=\"black\" cx=\"27\" cy=\"-72\" rx=\"27\" ry=\"18\"/>\n",
       "<text text-anchor=\"middle\" x=\"27\" y=\"-68.3\" font-family=\"Times,serif\" font-size=\"14.00\">a</text>\n",
       "</g>\n",
       "<!-- 1 -->\n",
       "<g id=\"node2\" class=\"node\"><title>1</title>\n",
       "<polygon fill=\"none\" stroke=\"black\" points=\"144,-63 90,-63 90,-27 144,-27 144,-63\"/>\n",
       "<text text-anchor=\"middle\" x=\"117\" y=\"-41.3\" font-family=\"Times,serif\" font-size=\"14.00\">1</text>\n",
       "</g>\n",
       "<!-- a&#45;&gt;1 -->\n",
       "<g id=\"edge1\" class=\"edge\"><title>a&#45;&gt;1</title>\n",
       "<path fill=\"none\" stroke=\"black\" d=\"M52.0464,-64.6221C60.7333,-61.9568 70.7367,-58.8876 80.2131,-55.9801\"/>\n",
       "<polygon fill=\"black\" stroke=\"black\" points=\"81.287,-59.3117 89.8205,-53.0324 79.2337,-52.6196 81.287,-59.3117\"/>\n",
       "</g>\n",
       "<!-- b -->\n",
       "<g id=\"node3\" class=\"node\"><title>b</title>\n",
       "<ellipse fill=\"none\" stroke=\"black\" cx=\"27\" cy=\"-18\" rx=\"27\" ry=\"18\"/>\n",
       "<text text-anchor=\"middle\" x=\"27\" y=\"-14.3\" font-family=\"Times,serif\" font-size=\"14.00\">b</text>\n",
       "</g>\n",
       "<!-- b&#45;&gt;1 -->\n",
       "<g id=\"edge2\" class=\"edge\"><title>b&#45;&gt;1</title>\n",
       "<path fill=\"none\" stroke=\"black\" d=\"M52.0464,-25.3779C60.7333,-28.0432 70.7367,-31.1124 80.2131,-34.0199\"/>\n",
       "<polygon fill=\"black\" stroke=\"black\" points=\"79.2337,-37.3804 89.8205,-36.9676 81.287,-30.6883 79.2337,-37.3804\"/>\n",
       "</g>\n",
       "</g>\n",
       "</svg>\n"
      ],
      "text/plain": [
       "<graphviz.files.Source at 0x7f79f075bfd0>"
      ]
     },
     "execution_count": 152,
     "metadata": {},
     "output_type": "execute_result"
    }
   ],
   "source": [
    "ref_strait"
   ]
  },
  {
   "cell_type": "markdown",
   "metadata": {
    "slideshow": {
     "slide_type": "subslide"
    }
   },
   "source": [
    "## ref to immutable obj"
   ]
  },
  {
   "cell_type": "code",
   "execution_count": 47,
   "metadata": {
    "slideshow": {
     "slide_type": "fragment"
    }
   },
   "outputs": [
    {
     "name": "stdout",
     "output_type": "stream",
     "text": [
      "1 2\n"
     ]
    }
   ],
   "source": [
    "# a와 b가 동일한 immutable obj를 가리킴\n",
    "a = 1\n",
    "b = a\n",
    "assert id(a) == id(b)\n",
    "\n",
    "# b에 다른 immutable obj를 할당\n",
    "b = 2\n",
    "print(a, b)\n",
    "assert id(a) != id(b)"
   ]
  },
  {
   "cell_type": "code",
   "execution_count": 144,
   "metadata": {
    "slideshow": {
     "slide_type": "skip"
    }
   },
   "outputs": [
    {
     "data": {
      "text/plain": [
       "'rendered_image/ref_crossed.svg'"
      ]
     },
     "execution_count": 144,
     "metadata": {},
     "output_type": "execute_result"
    }
   ],
   "source": [
    "from graphviz import Source\n",
    "\n",
    "src_text = '''\n",
    "digraph {\n",
    "rankdir=LR;\n",
    "node [shape=box];\n",
    "\n",
    "b [shape=oval];\n",
    "2 [shape=box];\n",
    "b -> 2;\n",
    "\n",
    "a [shape=oval];\n",
    "1 [shape=box];\n",
    "a -> 1;\n",
    "\n",
    "}\n",
    "'''\n",
    "ref_crossed = Source(src_text, format='svg', filename='ref_crossed', directory='rendered_image')\n",
    "ref_crossed.render()  "
   ]
  },
  {
   "cell_type": "markdown",
   "metadata": {
    "slideshow": {
     "slide_type": "fragment"
    }
   },
   "source": [
    "| ![](rendered_image/ref_strait.svg)  | ![](http://www.iconhot.com/icon/png/devine/64/arrow.png) | ![](rendered_image/ref_crossed.svg) |\n",
    "|:----|:----|:----|\n",
    "| `a = 1; b = 1` | | `a = 1; b = 2` |"
   ]
  },
  {
   "cell_type": "markdown",
   "metadata": {
    "slideshow": {
     "slide_type": "subslide"
    }
   },
   "source": [
    "## ref to mutable obj"
   ]
  },
  {
   "cell_type": "code",
   "execution_count": 17,
   "metadata": {
    "slideshow": {
     "slide_type": "fragment"
    }
   },
   "outputs": [
    {
     "name": "stdout",
     "output_type": "stream",
     "text": [
      "[1, 2, 3, 4]\n",
      "[1, 2, 3, 4]\n"
     ]
    }
   ],
   "source": [
    "# a와 b가 동일한 mutable obj를 가리킴\n",
    "a = [1, 2, 3]\n",
    "b = a\n",
    "# b가 가리키는 obj를 변경함\n",
    "b.append(4)\n",
    "# a가 가리키는 obj도 동일\n",
    "print(a)\n",
    "print(b)\n",
    "assert a == b"
   ]
  },
  {
   "cell_type": "markdown",
   "metadata": {
    "slideshow": {
     "slide_type": "subslide"
    }
   },
   "source": [
    "## ref to mutable obj"
   ]
  },
  {
   "cell_type": "code",
   "execution_count": 145,
   "metadata": {
    "slideshow": {
     "slide_type": "skip"
    }
   },
   "outputs": [
    {
     "data": {
      "text/plain": [
       "['rendered_image/ref_list0.svg',\n",
       " 'rendered_image/ref_list1.svg',\n",
       " 'rendered_image/ref_list2.svg']"
      ]
     },
     "execution_count": 145,
     "metadata": {},
     "output_type": "execute_result"
    }
   ],
   "source": [
    "from graphviz import Source\n",
    "\n",
    "src_texts = []\n",
    "\n",
    "src_texts.append('''\n",
    "digraph {\n",
    "rankdir=LR;\n",
    "\n",
    "a [label=\"a\", shape=plaintext]\n",
    "\n",
    "list [shape=record, label=\"{1|2|3}\"]\n",
    "a -> list;\n",
    "}\n",
    "''')\n",
    "\n",
    "src_texts.append('''\n",
    "digraph {\n",
    "rankdir=LR;\n",
    "\n",
    "a_ [label=\"a\", shape=plaintext];\n",
    "b_ [label=\"b\", shape=plaintext];\n",
    "list_ [shape=record, label=\"{1|2|3}\"]\n",
    "\n",
    "a_ -> list_;\n",
    "b_ -> list_;\n",
    "}\n",
    "''')\n",
    "\n",
    "src_texts.append('''\n",
    "digraph {\n",
    "rankdir=LR;\n",
    "\n",
    "a__ [label=\"a\", shape=plaintext];\n",
    "b__ [label=\"b\", shape=plaintext];\n",
    "\n",
    "list__ [shape=record, label=\"{1|2|3|4}\"]\n",
    "\n",
    "a__ -> list__;\n",
    "b__ -> list__;\n",
    "}\n",
    "''')\n",
    "\n",
    "\n",
    "# Source(src_text)\n",
    "[Source(t, format='svg', filename='ref_list%d' % i, directory='rendered_image').render() for i, t in enumerate(src_texts)]"
   ]
  },
  {
   "cell_type": "markdown",
   "metadata": {
    "slideshow": {
     "slide_type": "fragment"
    }
   },
   "source": [
    "|                             |                            |\n",
    "|:-------------------:|:------------------:|\n",
    "| `a = [1, 2, 3]`      | ![](rendered_image/ref_list0.svg) |\n",
    "| `b = a`               | ![](rendered_image/ref_list1.svg)|\n",
    "| `a.append(4)` | ![](rendered_image/ref_list2.svg)|"
   ]
  },
  {
   "cell_type": "markdown",
   "metadata": {
    "slideshow": {
     "slide_type": "subslide"
    }
   },
   "source": [
    "## 리스트 복제\n",
    "* 리스트를 복제할 때는 새로운 리스트를 만들어서 넘겨줌: `l[:]`\n",
    "* 그러나 이것은 shallow copy임"
   ]
  },
  {
   "cell_type": "code",
   "execution_count": 154,
   "metadata": {
    "slideshow": {
     "slide_type": "fragment"
    }
   },
   "outputs": [
    {
     "name": "stdout",
     "output_type": "stream",
     "text": [
      "[1, 2, 3]\n",
      "[1, 2, 3, 4]\n"
     ]
    }
   ],
   "source": [
    "# b는 a의 복제판을 가리킴\n",
    "a = [1, 2, 3]\n",
    "b = a[:]\n",
    "# b가 가리키는 obj를 변경함\n",
    "b.append(4)\n",
    "# a가 가리키는 obj는 변하지 않음\n",
    "print(a)\n",
    "print(b)\n",
    "assert a != b"
   ]
  },
  {
   "cell_type": "markdown",
   "metadata": {
    "slideshow": {
     "slide_type": "subslide"
    }
   },
   "source": [
    "## 리스트 복제"
   ]
  },
  {
   "cell_type": "code",
   "execution_count": 146,
   "metadata": {
    "slideshow": {
     "slide_type": "skip"
    }
   },
   "outputs": [
    {
     "data": {
      "text/plain": [
       "['rendered_image/copy_list0.svg',\n",
       " 'rendered_image/copy_list1.svg',\n",
       " 'rendered_image/copy_list2.svg']"
      ]
     },
     "execution_count": 146,
     "metadata": {},
     "output_type": "execute_result"
    }
   ],
   "source": [
    "from graphviz import Source\n",
    "\n",
    "src_texts = []\n",
    "\n",
    "src_texts.append('''\n",
    "digraph {\n",
    "rankdir=LR;\n",
    "\n",
    "a [label=\"a\", shape=plaintext]\n",
    "\n",
    "list [shape=record, label=\"{1|2|3}\"]\n",
    "a -> list;\n",
    "}\n",
    "''')\n",
    "\n",
    "src_texts.append('''\n",
    "digraph {\n",
    "rankdir=LR;\n",
    "\n",
    "b_ [label=\"b\", shape=plaintext];\n",
    "a_ [label=\"a\", shape=plaintext];\n",
    "\n",
    "list_ [shape=record, label=\"{1|2|3}\"]\n",
    "list__ [shape=record, label=\"{1|2|3}\"]\n",
    "\n",
    "a_ -> list_;\n",
    "b_ -> list__;\n",
    "}\n",
    "''')\n",
    "\n",
    "src_texts.append('''\n",
    "digraph {\n",
    "rankdir=LR;\n",
    "\n",
    "b_ [label=\"b\", shape=plaintext];\n",
    "a_ [label=\"a\", shape=plaintext];\n",
    "\n",
    "list_ [shape=record, label=\"{1|2|3}\"]\n",
    "list__ [shape=record, label=\"{1|2|3|4}\"]\n",
    "\n",
    "a_ -> list_;\n",
    "b_ -> list__;\n",
    "}\n",
    "''')\n",
    "\n",
    "\n",
    "# Source(src_texts[2])\n",
    "[Source(t, format='svg', filename='copy_list%d' % i, directory='rendered_image').render() for i, t in enumerate(src_texts)]"
   ]
  },
  {
   "cell_type": "markdown",
   "metadata": {
    "slideshow": {
     "slide_type": "fragment"
    }
   },
   "source": [
    "|                             |                            |\n",
    "|:-------------------:|:------------------:|\n",
    "| `a = [1, 2, 3]`      | ![](rendered_image/copy_list0.svg) |\n",
    "| `b = a[:]`            | ![](rendered_image/copy_list1.svg)|\n",
    "| `b.append(4)` | ![](rendered_image/copy_list2.svg)|"
   ]
  },
  {
   "cell_type": "markdown",
   "metadata": {
    "slideshow": {
     "slide_type": "subslide"
    }
   },
   "source": [
    "## 참고: is vs ==\n",
    "* ==는 equal 여부를 판단\n",
    "* is는 identical 여부를 판단"
   ]
  },
  {
   "cell_type": "code",
   "execution_count": 2,
   "metadata": {
    "slideshow": {
     "slide_type": "fragment"
    }
   },
   "outputs": [],
   "source": [
    "a = [1, 2, 3]\n",
    "b = [1, 2, 3]\n",
    "assert a == b\n",
    "assert a is not b"
   ]
  },
  {
   "cell_type": "code",
   "execution_count": 3,
   "metadata": {
    "slideshow": {
     "slide_type": "fragment"
    }
   },
   "outputs": [],
   "source": [
    "a = [1, 2, 3]\n",
    "b = a\n",
    "assert a == b\n",
    "assert a is b"
   ]
  },
  {
   "cell_type": "markdown",
   "metadata": {
    "slideshow": {
     "slide_type": "subslide"
    }
   },
   "source": [
    "## Scope\n",
    "* Function에서 만들어진 변수는 function 내에서만 유효\n",
    "* Function 밖으로 나가면 function local variable은 사라짐\n",
    "    * 다른 ref가 없다면 object도 사라짐 \n",
    "* Function 내에서 function 외부의 data를 읽을 수 있음"
   ]
  },
  {
   "cell_type": "code",
   "execution_count": 19,
   "metadata": {
    "slideshow": {
     "slide_type": "fragment"
    }
   },
   "outputs": [
    {
     "name": "stdout",
     "output_type": "stream",
     "text": [
      "4\n"
     ]
    }
   ],
   "source": [
    "a = 1\n",
    "def func(x):\n",
    "    return x+a\n",
    "b = func(3)\n",
    "print(b)"
   ]
  },
  {
   "cell_type": "markdown",
   "metadata": {
    "slideshow": {
     "slide_type": "subslide"
    }
   },
   "source": [
    "## Call-by-value\n",
    "* Argument passing할 때 variable을 copy하여 넘김 (a = b처럼)\n",
    "* 그러나, copy되는 것은 object 자체가 아니라, pointer임"
   ]
  },
  {
   "cell_type": "code",
   "execution_count": 147,
   "metadata": {
    "slideshow": {
     "slide_type": "skip"
    }
   },
   "outputs": [],
   "source": [
    "from graphviz import Source\n",
    "\n",
    "src_text = '''\n",
    "digraph {\n",
    "rankdir=LR;\n",
    "node [shape=box];\n",
    "a -> I;\n",
    "b -> I;\n",
    "a [shape=oval];\n",
    "b [shape=oval];\n",
    "I [style=filled, margin=0.2, label = \"An instance of\\nSomeClass(): \\nx = 3 -> 4\"]\n",
    "}\n",
    "'''\n",
    "call_by_value_to_some_class = Source(src_text)"
   ]
  },
  {
   "cell_type": "code",
   "execution_count": 153,
   "metadata": {
    "slideshow": {
     "slide_type": "fragment"
    }
   },
   "outputs": [
    {
     "data": {
      "image/svg+xml": [
       "<?xml version=\"1.0\" encoding=\"UTF-8\" standalone=\"no\"?>\n",
       "<!DOCTYPE svg PUBLIC \"-//W3C//DTD SVG 1.1//EN\"\n",
       " \"http://www.w3.org/Graphics/SVG/1.1/DTD/svg11.dtd\">\n",
       "<!-- Generated by graphviz version 2.38.0 (20140413.2041)\n",
       " -->\n",
       "<!-- Title: %3 Pages: 1 -->\n",
       "<svg width=\"206pt\" height=\"98pt\"\n",
       " viewBox=\"0.00 0.00 206.00 98.00\" xmlns=\"http://www.w3.org/2000/svg\" xmlns:xlink=\"http://www.w3.org/1999/xlink\">\n",
       "<g id=\"graph0\" class=\"graph\" transform=\"scale(1 1) rotate(0) translate(4 94)\">\n",
       "<title>%3</title>\n",
       "<polygon fill=\"white\" stroke=\"none\" points=\"-4,4 -4,-94 202,-94 202,4 -4,4\"/>\n",
       "<!-- a -->\n",
       "<g id=\"node1\" class=\"node\"><title>a</title>\n",
       "<ellipse fill=\"none\" stroke=\"black\" cx=\"27\" cy=\"-72\" rx=\"27\" ry=\"18\"/>\n",
       "<text text-anchor=\"middle\" x=\"27\" y=\"-68.3\" font-family=\"Times,serif\" font-size=\"14.00\">a</text>\n",
       "</g>\n",
       "<!-- I -->\n",
       "<g id=\"node2\" class=\"node\"><title>I</title>\n",
       "<polygon fill=\"lightgrey\" stroke=\"black\" points=\"198,-81.5 90,-81.5 90,-8.5 198,-8.5 198,-81.5\"/>\n",
       "<text text-anchor=\"middle\" x=\"144\" y=\"-56.3\" font-family=\"Times,serif\" font-size=\"14.00\">An instance of</text>\n",
       "<text text-anchor=\"middle\" x=\"144\" y=\"-41.3\" font-family=\"Times,serif\" font-size=\"14.00\">SomeClass(): </text>\n",
       "<text text-anchor=\"middle\" x=\"144\" y=\"-26.3\" font-family=\"Times,serif\" font-size=\"14.00\">x = 3 &#45;&gt; 4</text>\n",
       "</g>\n",
       "<!-- a&#45;&gt;I -->\n",
       "<g id=\"edge1\" class=\"edge\"><title>a&#45;&gt;I</title>\n",
       "<path fill=\"none\" stroke=\"black\" d=\"M52.6704,-66.2078C60.7035,-64.3218 70.0223,-62.1339 79.5615,-59.8943\"/>\n",
       "<polygon fill=\"black\" stroke=\"black\" points=\"80.6021,-63.2452 89.5374,-57.5521 79.0021,-56.4305 80.6021,-63.2452\"/>\n",
       "</g>\n",
       "<!-- b -->\n",
       "<g id=\"node3\" class=\"node\"><title>b</title>\n",
       "<ellipse fill=\"none\" stroke=\"black\" cx=\"27\" cy=\"-18\" rx=\"27\" ry=\"18\"/>\n",
       "<text text-anchor=\"middle\" x=\"27\" y=\"-14.3\" font-family=\"Times,serif\" font-size=\"14.00\">b</text>\n",
       "</g>\n",
       "<!-- b&#45;&gt;I -->\n",
       "<g id=\"edge2\" class=\"edge\"><title>b&#45;&gt;I</title>\n",
       "<path fill=\"none\" stroke=\"black\" d=\"M52.6704,-23.7922C60.7035,-25.6782 70.0223,-27.8661 79.5615,-30.1057\"/>\n",
       "<polygon fill=\"black\" stroke=\"black\" points=\"79.0021,-33.5695 89.5374,-32.4479 80.6021,-26.7548 79.0021,-33.5695\"/>\n",
       "</g>\n",
       "</g>\n",
       "</svg>\n"
      ],
      "text/plain": [
       "<graphviz.files.Source at 0x7f79f075b828>"
      ]
     },
     "execution_count": 153,
     "metadata": {},
     "output_type": "execute_result"
    }
   ],
   "source": [
    "call_by_value_to_some_class"
   ]
  },
  {
   "cell_type": "code",
   "execution_count": 4,
   "metadata": {
    "slideshow": {
     "slide_type": "fragment"
    }
   },
   "outputs": [],
   "source": [
    "class SomeClass: pass\n",
    "#a가 object의 reference이기 때문에, function 내부 변경이 외부에도 반영됨\n",
    "a = SomeClass() #mutable object\n",
    "a.x = 3\n",
    "def func(a):\n",
    "    assert a.x == 3\n",
    "    a.x = 4\n",
    "func(a)\n",
    "assert a.x == 4"
   ]
  },
  {
   "cell_type": "markdown",
   "metadata": {
    "slideshow": {
     "slide_type": "subslide"
    }
   },
   "source": [
    "## Local variable\n",
    "* 함수 내부에서 만드는 변수\n",
    "* Function 내에서만 유효\n",
    "* 함수 내부 assignment\n",
    "  * 의미: local variable 선언\n",
    "  * (함수 외부 변수에 값을 할당하는 것이 아님)"
   ]
  },
  {
   "cell_type": "markdown",
   "metadata": {
    "slideshow": {
     "slide_type": "subslide"
    }
   },
   "source": [
    "## Local variable"
   ]
  },
  {
   "cell_type": "code",
   "execution_count": 149,
   "metadata": {
    "slideshow": {
     "slide_type": "skip"
    }
   },
   "outputs": [
    {
     "data": {
      "text/plain": [
       "'rendered_image/local_var_left.svg'"
      ]
     },
     "execution_count": 149,
     "metadata": {},
     "output_type": "execute_result"
    }
   ],
   "source": [
    "from graphviz import Source\n",
    "\n",
    "src_text = '''\n",
    "digraph {\n",
    "rankdir=LR;\n",
    "node [shape=box];\n",
    "\n",
    "a [shape=oval, label=\"a\"];\n",
    "a -> 3;\n",
    "\n",
    "b [shape=oval, label=\"func.a\"];\n",
    "3 [shape=box];\n",
    "b -> 3;\n",
    "}\n",
    "'''\n",
    "# Source(src_text)\n",
    "local_var_left = Source(src_text, format='svg', filename='local_var_left', directory='rendered_image')\n",
    "local_var_left.render()  "
   ]
  },
  {
   "cell_type": "code",
   "execution_count": 150,
   "metadata": {
    "slideshow": {
     "slide_type": "skip"
    }
   },
   "outputs": [
    {
     "data": {
      "text/plain": [
       "'rendered_image/local_var_right.svg'"
      ]
     },
     "execution_count": 150,
     "metadata": {},
     "output_type": "execute_result"
    }
   ],
   "source": [
    "from graphviz import Source\n",
    "\n",
    "src_text = '''\n",
    "digraph {\n",
    "rankdir=LR;\n",
    "node [shape=box];\n",
    "\n",
    "b [shape=oval, label=\"func.a\"];\n",
    "4 [shape=box];\n",
    "b -> 4;\n",
    "\n",
    "a [shape=oval, label=\"a\"];\n",
    "3 [shape=box];\n",
    "a -> 3;\n",
    "}\n",
    "'''\n",
    "# Source(src_text)\n",
    "local_var_right = Source(src_text, format='svg', filename='local_var_right', directory='rendered_image')\n",
    "local_var_right.render()  "
   ]
  },
  {
   "cell_type": "code",
   "execution_count": 21,
   "metadata": {
    "slideshow": {
     "slide_type": "fragment"
    }
   },
   "outputs": [],
   "source": [
    "# function 내부에서 argument에 assign하면,\n",
    "# local a의 ref가 바뀌기 때문에, 외부에는 반영되지 않음\n",
    "a =3\n",
    "def func(a):\n",
    "    a = 4\n",
    "    assert a == 4\n",
    "func(a)\n",
    "assert a == 3"
   ]
  },
  {
   "cell_type": "markdown",
   "metadata": {
    "slideshow": {
     "slide_type": "fragment"
    }
   },
   "source": [
    "| ![](rendered_image/local_var_left.svg)  | ![](http://www.iconhot.com/icon/png/devine/64/arrow.png) | ![](rendered_image/local_var_right.svg) |\n",
    "|---:|:---:|:----|\n",
    "| func(a) 호출 직후 | | func(a)에서 리턴된 후 |"
   ]
  },
  {
   "cell_type": "markdown",
   "metadata": {
    "slideshow": {
     "slide_type": "subslide"
    }
   },
   "source": [
    "## Emulation of call-by-reference\n",
    "* Python에서는 call-by-reference를 제공하지 않음\n",
    "* Mutable object를 통해서 call-by-reference 가능\n",
    "    * 그러나 이렇게 쓰지 말 것을 권고함"
   ]
  },
  {
   "cell_type": "code",
   "execution_count": 22,
   "metadata": {
    "slideshow": {
     "slide_type": "fragment"
    }
   },
   "outputs": [],
   "source": [
    "a = [1]\n",
    "def func(x):\n",
    "    x[0] += 1\n",
    "func(a)\n",
    "assert a == [2]"
   ]
  },
  {
   "cell_type": "markdown",
   "metadata": {
    "slideshow": {
     "slide_type": "subslide"
    }
   },
   "source": [
    "## Avoiding call-by-reference\n",
    "* arg 변경 후에 변경된 obj를 return "
   ]
  },
  {
   "cell_type": "code",
   "execution_count": 23,
   "metadata": {
    "slideshow": {
     "slide_type": "fragment"
    }
   },
   "outputs": [],
   "source": [
    "a = 1\n",
    "def func(x):\n",
    "    return x + 1\n",
    "a = func(a)     # interface 변경에 주의\n",
    "assert a == 2"
   ]
  },
  {
   "cell_type": "markdown",
   "metadata": {
    "slideshow": {
     "slide_type": "subslide"
    }
   },
   "source": [
    "## Keyword: global\n",
    "* 함수 내부 assign이 외부 변수에 값을 할당하는 것을 의미한다는 것을 선언\n",
    "* (특정 variable이 외부 변수를 의미한다는 것을 선언)\n",
    "* global의 의미는 module scope로 한정\n",
    "  * 다른 .py에서 global 변수에 assign 불가\n",
    "* 사용하지 않기를 추천\n",
    "  * argument passing + return + assign을 대신 사용"
   ]
  },
  {
   "cell_type": "markdown",
   "metadata": {
    "slideshow": {
     "slide_type": "subslide"
    }
   },
   "source": [
    "## Keyword: global"
   ]
  },
  {
   "cell_type": "code",
   "execution_count": 47,
   "metadata": {
    "slideshow": {
     "slide_type": "fragment"
    }
   },
   "outputs": [],
   "source": [
    "a = 3\n",
    "def func():\n",
    "    global a\n",
    "    a = 4\n",
    "    assert a == 4\n",
    "func()\n",
    "assert a != 3\n",
    "assert a == 4"
   ]
  },
  {
   "cell_type": "markdown",
   "metadata": {
    "slideshow": {
     "slide_type": "slide"
    }
   },
   "source": [
    "## 함수 가공\n",
    "* nested function\n",
    "* functools\n",
    "* decorator\n",
    "* ~~closure~~"
   ]
  },
  {
   "cell_type": "markdown",
   "metadata": {
    "slideshow": {
     "slide_type": "subslide"
    }
   },
   "source": [
    "## nested function\n",
    "* function 내부에서 function 정의 가능\n",
    "* function을 function의 return value로 사용 가능"
   ]
  },
  {
   "cell_type": "code",
   "execution_count": 48,
   "metadata": {
    "slideshow": {
     "slide_type": "fragment"
    }
   },
   "outputs": [],
   "source": [
    "def bind_one(func, val):\n",
    "    def mod_func(x):\n",
    "        return func(x, val)\n",
    "    return mod_func\n",
    "\n",
    "def add(x, y):\n",
    "    return x + y\n",
    "\n",
    "inc = bind_one(add, 1)\n",
    "r = inc(1)\n",
    "assert r == 2"
   ]
  },
  {
   "cell_type": "markdown",
   "metadata": {
    "slideshow": {
     "slide_type": "subslide"
    }
   },
   "source": [
    "## Keyword: nonlocal\n",
    "* Nested function의 특정 variable가 부모 함수에 선언된 변수를 의미한다는 것을 선언"
   ]
  },
  {
   "cell_type": "code",
   "execution_count": 49,
   "metadata": {
    "slideshow": {
     "slide_type": "fragment"
    }
   },
   "outputs": [],
   "source": [
    "a = 3\n",
    "def enclosing():\n",
    "    a = 4\n",
    "    assert a == 4\n",
    "    def nested():\n",
    "        nonlocal a\n",
    "        a = 5\n",
    "    nested()\n",
    "    assert a == 5\n",
    "enclosing()\n",
    "assert a == 3"
   ]
  },
  {
   "cell_type": "markdown",
   "metadata": {
    "slideshow": {
     "slide_type": "subslide"
    }
   },
   "source": [
    "## functools\n",
    "* Standard library로 function을 인자로 받거나 리턴하는 함수 모음\n",
    "* functools.partial\n",
    "    * Arg 중에 하나를 특정 값으로 고정한 function을 리턴"
   ]
  },
  {
   "cell_type": "code",
   "execution_count": 50,
   "metadata": {
    "slideshow": {
     "slide_type": "fragment"
    }
   },
   "outputs": [],
   "source": [
    "from functools import partial\n",
    "def func(a, b):\n",
    "  return a + b\n",
    "inc = partial(func, 1)\n",
    "assert inc(1) == 2"
   ]
  },
  {
   "cell_type": "markdown",
   "metadata": {
    "slideshow": {
     "slide_type": "subslide"
    }
   },
   "source": [
    "## decorator\n",
    "* Function을 가공하는 function class의 축약형\n",
    "\n",
    "```python\n",
    "@my_decorator\n",
    "def func(a, b):\n",
    "    return a + b\n",
    "\n",
    "# 아래와 의미가 같다:\n",
    "def func(a, b):\n",
    "    return a + b\n",
    "func = my_decorator(func)\n",
    "```"
   ]
  },
  {
   "cell_type": "markdown",
   "metadata": {
    "slideshow": {
     "slide_type": "subslide"
    }
   },
   "source": [
    "## decorator: example"
   ]
  },
  {
   "cell_type": "code",
   "execution_count": 51,
   "metadata": {
    "slideshow": {
     "slide_type": "fragment"
    }
   },
   "outputs": [],
   "source": [
    "def my_decorator(func):\n",
    "    def callf(*args, **kwargs):\n",
    "        return func(1, *args, **kwargs)\n",
    "    return callf\n",
    "@my_decorator\n",
    "def func(a, b):\n",
    "    return a + b\n",
    "assert func(2) == 3"
   ]
  },
  {
   "cell_type": "markdown",
   "metadata": {
    "slideshow": {
     "slide_type": "subslide"
    }
   },
   "source": [
    "## closure\n",
    "* local 환경까지 포함한 function context"
   ]
  },
  {
   "cell_type": "code",
   "execution_count": 52,
   "metadata": {
    "slideshow": {
     "slide_type": "fragment"
    }
   },
   "outputs": [],
   "source": [
    "def wrapper(a):\n",
    "    def func(x):\n",
    "        return a + x    #func가 call될 때까지 a가 숫자로 대치되지 않는다\n",
    "    return func\n",
    "a = 1\n",
    "another = wrapper(a) #another에는 wrapper호출 당시의 a를 보존하고 있음\n",
    "a = 10\n",
    "assert another(2) == 3\n",
    "assert another.__closure__[0].cell_contents == 1"
   ]
  },
  {
   "cell_type": "markdown",
   "metadata": {
    "slideshow": {
     "slide_type": "subslide"
    }
   },
   "source": [
    "## closure 생성\n",
    "* nested function을 만들어야 한다 (local scope만 closure에 보관)\n",
    "* nested function이 local scope (enclosing function 내부)의 변수를 참조해야 한다\n",
    "* enclosing function은 만들어진 nested function을 리턴해야 한다"
   ]
  },
  {
   "cell_type": "markdown",
   "metadata": {
    "slideshow": {
     "slide_type": "subslide"
    }
   },
   "source": [
    "## closure example"
   ]
  },
  {
   "cell_type": "code",
   "execution_count": 53,
   "metadata": {
    "slideshow": {
     "slide_type": "fragment"
    }
   },
   "outputs": [
    {
     "name": "stdout",
     "output_type": "stream",
     "text": [
      "ham\n",
      "eggs\n",
      "---\n",
      "eggs\n"
     ]
    }
   ],
   "source": [
    "def foo():\n",
    "    def bar():\n",
    "        print(spam)\n",
    "\n",
    "    spam = 'ham'\n",
    "    bar()\n",
    "    spam = 'eggs'\n",
    "    bar()\n",
    "    return bar\n",
    "\n",
    "b = foo()\n",
    "print('---')\n",
    "b()"
   ]
  },
  {
   "cell_type": "markdown",
   "metadata": {
    "slideshow": {
     "slide_type": "subslide"
    }
   },
   "source": [
    "## closure가 아닌 예제"
   ]
  },
  {
   "cell_type": "code",
   "execution_count": 54,
   "metadata": {
    "slideshow": {
     "slide_type": "fragment"
    }
   },
   "outputs": [
    {
     "name": "stdout",
     "output_type": "stream",
     "text": [
      "12\n",
      "None\n"
     ]
    }
   ],
   "source": [
    "def wrapper():\n",
    "    def func(x):\n",
    "        return a + x\n",
    "    return func\n",
    "a = 1\n",
    "another = wrapper()\n",
    "a = 10\n",
    "print(another(2))   # func.a는 global x를 참조\n",
    "print(another.__closure__)"
   ]
  },
  {
   "cell_type": "markdown",
   "metadata": {
    "slideshow": {
     "slide_type": "slide"
    }
   },
   "source": [
    "## Generator\n",
    "* generator\n",
    "* ~~coroutine~~\n",
    "* itertools"
   ]
  },
  {
   "cell_type": "markdown",
   "metadata": {
    "slideshow": {
     "slide_type": "subslide"
    }
   },
   "source": [
    "## generator\n",
    "* yield를 만날 때마다 값을 출력하고, 함수의 수행을 일지 정지하는 함수\n",
    "* generator에서는 return을 사용하지 않는다\n",
    "* generator의 call 자체는 generator object를 돌려주고, 내부 코드를 수행하지 않는다.\n",
    "* generator object에 next()를 수행시키면 yield를 만날 때까지 수행하고 정지한다\n",
    "* 더 이상 yield할 것이 없으면 StopIteration exception을 발생시킨다"
   ]
  },
  {
   "cell_type": "markdown",
   "metadata": {
    "slideshow": {
     "slide_type": "subslide"
    }
   },
   "source": [
    "## generator example"
   ]
  },
  {
   "cell_type": "code",
   "execution_count": 7,
   "metadata": {
    "slideshow": {
     "slide_type": "fragment"
    }
   },
   "outputs": [
    {
     "name": "stdout",
     "output_type": "stream",
     "text": [
      "--\n",
      "prepare\n",
      "0\n",
      "--\n",
      "1\n",
      "--\n"
     ]
    },
    {
     "ename": "StopIteration",
     "evalue": "",
     "output_type": "error",
     "traceback": [
      "\u001b[0;31m---------------------------------------------------------------------------\u001b[0m",
      "\u001b[0;31mStopIteration\u001b[0m                             Traceback (most recent call last)",
      "\u001b[0;32m<ipython-input-7-fe00f05fc17c>\u001b[0m in \u001b[0;36m<module>\u001b[0;34m()\u001b[0m\n\u001b[1;32m      9\u001b[0m \u001b[0mprint\u001b[0m\u001b[0;34m(\u001b[0m\u001b[0mnext\u001b[0m\u001b[0;34m(\u001b[0m\u001b[0mgen_func\u001b[0m\u001b[0;34m)\u001b[0m\u001b[0;34m)\u001b[0m\u001b[0;34m\u001b[0m\u001b[0m\n\u001b[1;32m     10\u001b[0m \u001b[0mprint\u001b[0m\u001b[0;34m(\u001b[0m\u001b[0;34m'--'\u001b[0m\u001b[0;34m)\u001b[0m\u001b[0;34m\u001b[0m\u001b[0m\n\u001b[0;32m---> 11\u001b[0;31m \u001b[0mprint\u001b[0m\u001b[0;34m(\u001b[0m\u001b[0mnext\u001b[0m\u001b[0;34m(\u001b[0m\u001b[0mgen_func\u001b[0m\u001b[0;34m)\u001b[0m\u001b[0;34m)\u001b[0m\u001b[0;34m\u001b[0m\u001b[0m\n\u001b[0m",
      "\u001b[0;31mStopIteration\u001b[0m: "
     ]
    }
   ],
   "source": [
    "def gen(n):\n",
    "    print('prepare')\n",
    "    for i in range(n):\n",
    "        yield i\n",
    "gen_func = gen(2)\n",
    "print('--')\n",
    "print(next(gen_func))\n",
    "print('--')\n",
    "print(next(gen_func))\n",
    "print('--')\n",
    "print(next(gen_func))"
   ]
  },
  {
   "cell_type": "markdown",
   "metadata": {
    "slideshow": {
     "slide_type": "subslide"
    }
   },
   "source": [
    "## generator example\n",
    "* `next(iterable, defalut_value=None)`\n",
    "  * default_value를 지정하면, generater 종료시에 StopIteration이 일어나지 않고, default_value를 리턴함"
   ]
  },
  {
   "cell_type": "code",
   "execution_count": 8,
   "metadata": {
    "slideshow": {
     "slide_type": "fragment"
    }
   },
   "outputs": [
    {
     "name": "stdout",
     "output_type": "stream",
     "text": [
      "--\n",
      "prepare\n",
      "0\n",
      "--\n",
      "1\n",
      "--\n",
      "-1\n"
     ]
    }
   ],
   "source": [
    "gen_func = gen(2)\n",
    "print('--')\n",
    "print(next(gen_func, -1))\n",
    "print('--')\n",
    "print(next(gen_func, -1))\n",
    "print('--')\n",
    "print(next(gen_func, -1))"
   ]
  },
  {
   "cell_type": "markdown",
   "metadata": {
    "slideshow": {
     "slide_type": "subslide"
    }
   },
   "source": [
    "## generator example\n",
    "* generator는 iterable하다\n",
    "    * element의 리스트를 모두 만들고 연산하는 것이 아니라 필요할 때 element를 만들어서 효율적임"
   ]
  },
  {
   "cell_type": "code",
   "execution_count": 25,
   "metadata": {
    "slideshow": {
     "slide_type": "fragment"
    }
   },
   "outputs": [
    {
     "name": "stdout",
     "output_type": "stream",
     "text": [
      "prepare\n",
      "0\n",
      "1\n",
      "2\n",
      "3\n",
      "4\n"
     ]
    }
   ],
   "source": [
    "def gen(n):\n",
    "    print('prepare')\n",
    "    for i in range(n):\n",
    "        yield i\n",
    "\n",
    "for i in gen(5):\n",
    "    print(i)    #0부터 4까지 한 줄씩 출력"
   ]
  },
  {
   "cell_type": "markdown",
   "metadata": {
    "slideshow": {
     "slide_type": "subslide"
    }
   },
   "source": [
    "## coroutine\n",
    "* Generator와 동작 방식은 비슷하고, 방향은 반대\n",
    "    * yield로 값을 입력 받음\n",
    "* 외부에 값을 입력하기 전에 coroutine을 init\n",
    "* 외부에서 send를 통해 값을 coroutine으로 입력"
   ]
  },
  {
   "cell_type": "markdown",
   "metadata": {
    "slideshow": {
     "slide_type": "subslide"
    }
   },
   "source": [
    "## coroutine"
   ]
  },
  {
   "cell_type": "code",
   "execution_count": 26,
   "metadata": {
    "slideshow": {
     "slide_type": "fragment"
    }
   },
   "outputs": [
    {
     "name": "stdout",
     "output_type": "stream",
     "text": [
      "--\n",
      "prepare\n",
      "--\n",
      "1\n",
      "2\n"
     ]
    }
   ],
   "source": [
    "def co_func():\n",
    "    print('prepare')\n",
    "    while True:\n",
    "        print((yield) + 1)\n",
    "cof = co_func()\n",
    "print('--')\n",
    "next(cof)   #이것을 통해 첫 번째 (yield)까지 수행\n",
    "print('--')\n",
    "cof.send(0)\n",
    "cof.send(1)"
   ]
  },
  {
   "cell_type": "markdown",
   "metadata": {
    "slideshow": {
     "slide_type": "subslide"
    }
   },
   "source": [
    "## itertools\n",
    "* iterator를 돌려주는 function을 정의하는 built-in module\n",
    "* chain: generator를 결합"
   ]
  },
  {
   "cell_type": "code",
   "execution_count": 28,
   "metadata": {
    "slideshow": {
     "slide_type": "fragment"
    }
   },
   "outputs": [
    {
     "name": "stdout",
     "output_type": "stream",
     "text": [
      "0\n",
      "1\n",
      "4\n",
      "5\n"
     ]
    }
   ],
   "source": [
    "from itertools import chain\n",
    "\n",
    "# for i in range(0, 2) + range(4, 6):   #TypeError\n",
    "for i in chain(range(0, 2), range(4, 6)):   #3 제외\n",
    "    print(i)"
   ]
  },
  {
   "cell_type": "markdown",
   "metadata": {
    "slideshow": {
     "slide_type": "slide"
    }
   },
   "source": [
    "## Wrap-up\n",
    "* Function is a first-class citizen\n",
    "* Variable is a reference to an object\n",
    "* Generator\n",
    "    * yield program control\n",
    "    * Generator is iterable"
   ]
  }
 ],
 "metadata": {
  "celltoolbar": "Slideshow",
  "kernelspec": {
   "display_name": "Python 3",
   "language": "python",
   "name": "python3"
  },
  "language_info": {
   "codemirror_mode": {
    "name": "ipython",
    "version": 3
   },
   "file_extension": ".py",
   "mimetype": "text/x-python",
   "name": "python",
   "nbconvert_exporter": "python",
   "pygments_lexer": "ipython3",
   "version": "3.5.4"
  }
 },
 "nbformat": 4,
 "nbformat_minor": 2
}
