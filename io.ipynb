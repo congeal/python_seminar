{
 "cells": [
  {
   "cell_type": "markdown",
   "metadata": {
    "slideshow": {
     "slide_type": "slide"
    }
   },
   "source": [
    "![Python](assets/python-logo-generic.svg)\n",
    "### Exception & IO\n",
    "#### 김응섭"
   ]
  },
  {
   "cell_type": "markdown",
   "metadata": {
    "slideshow": {
     "slide_type": "slide"
    }
   },
   "source": [
    "## Outline\n",
    "* Exception\n",
    "* IO\n",
    "* Serialization"
   ]
  },
  {
   "cell_type": "markdown",
   "metadata": {
    "slideshow": {
     "slide_type": "slide"
    }
   },
   "source": [
    "## Exception\n",
    "* Exception\n",
    "* try/except/finally"
   ]
  },
  {
   "cell_type": "markdown",
   "metadata": {
    "slideshow": {
     "slide_type": "subslide"
    }
   },
   "source": [
    "## Exception\n",
    "* 프로그램 수행 중에 발생하는 예외사항/오류를 의미\n",
    "* Exception object를 통해 이 정보를 주고 받음\n",
    "* Exception 발생하면 제어 흐름이 변함\n",
    "  * 기본 동작으로 traceback 출력\n",
    "  * Exception을 통해 제어 흐름을 바꾸기도 함"
   ]
  },
  {
   "cell_type": "markdown",
   "metadata": {
    "slideshow": {
     "slide_type": "subslide"
    }
   },
   "source": [
    "## Exception hierarchy\n",
    "* BaseException\n",
    "    * Exception\n",
    "        * StopIteration\n",
    "        * ArithmeticError\n",
    "        * LookupError\n",
    "        * NameError\n",
    "        * OSError\n",
    "        * ValueError\n",
    "        * ..."
   ]
  },
  {
   "cell_type": "markdown",
   "metadata": {
    "slideshow": {
     "slide_type": "subslide"
    }
   },
   "source": [
    "## ArithmeticError\n",
    "* ZeroDivisionError: 0으로 나누면 발생"
   ]
  },
  {
   "cell_type": "code",
   "execution_count": 1,
   "metadata": {
    "slideshow": {
     "slide_type": "fragment"
    }
   },
   "outputs": [
    {
     "ename": "ZeroDivisionError",
     "evalue": "division by zero",
     "output_type": "error",
     "traceback": [
      "\u001b[0;31m---------------------------------------------------------------------------\u001b[0m",
      "\u001b[0;31mZeroDivisionError\u001b[0m                         Traceback (most recent call last)",
      "\u001b[0;32m<ipython-input-1-f6cc6d14333b>\u001b[0m in \u001b[0;36m<module>\u001b[0;34m()\u001b[0m\n\u001b[0;32m----> 1\u001b[0;31m \u001b[0;36m3\u001b[0m\u001b[0;34m/\u001b[0m\u001b[0;36m0\u001b[0m\u001b[0;34m\u001b[0m\u001b[0m\n\u001b[0m",
      "\u001b[0;31mZeroDivisionError\u001b[0m: division by zero"
     ]
    }
   ],
   "source": [
    "3/0"
   ]
  },
  {
   "cell_type": "markdown",
   "metadata": {
    "slideshow": {
     "slide_type": "subslide"
    }
   },
   "source": [
    "## LookupError\n",
    "* IndexError: 없는 index에 접근할 때\n",
    "* KeyError: 없는 key에 접근할 때"
   ]
  },
  {
   "cell_type": "code",
   "execution_count": 3,
   "metadata": {
    "slideshow": {
     "slide_type": "fragment"
    }
   },
   "outputs": [
    {
     "ename": "IndexError",
     "evalue": "list index out of range",
     "output_type": "error",
     "traceback": [
      "\u001b[0;31m---------------------------------------------------------------------------\u001b[0m",
      "\u001b[0;31mIndexError\u001b[0m                                Traceback (most recent call last)",
      "\u001b[0;32m<ipython-input-3-d8f0c9119c18>\u001b[0m in \u001b[0;36m<module>\u001b[0;34m()\u001b[0m\n\u001b[1;32m      1\u001b[0m \u001b[0ml\u001b[0m \u001b[0;34m=\u001b[0m \u001b[0;34m[\u001b[0m\u001b[0;34m]\u001b[0m\u001b[0;34m\u001b[0m\u001b[0m\n\u001b[1;32m      2\u001b[0m \u001b[0md\u001b[0m \u001b[0;34m=\u001b[0m \u001b[0;34m{\u001b[0m\u001b[0;34m}\u001b[0m\u001b[0;34m\u001b[0m\u001b[0m\n\u001b[0;32m----> 3\u001b[0;31m \u001b[0ml\u001b[0m\u001b[0;34m[\u001b[0m\u001b[0;36m2\u001b[0m\u001b[0;34m]\u001b[0m            \u001b[0;31m# IndexError\u001b[0m\u001b[0;34m\u001b[0m\u001b[0m\n\u001b[0m",
      "\u001b[0;31mIndexError\u001b[0m: list index out of range"
     ]
    }
   ],
   "source": [
    "l = []\n",
    "d = {}\n",
    "l[2]            # IndexError"
   ]
  },
  {
   "cell_type": "code",
   "execution_count": 4,
   "metadata": {
    "slideshow": {
     "slide_type": "fragment"
    }
   },
   "outputs": [
    {
     "ename": "KeyError",
     "evalue": "'python'",
     "output_type": "error",
     "traceback": [
      "\u001b[0;31m---------------------------------------------------------------------------\u001b[0m",
      "\u001b[0;31mKeyError\u001b[0m                                  Traceback (most recent call last)",
      "\u001b[0;32m<ipython-input-4-63cb2010af4d>\u001b[0m in \u001b[0;36m<module>\u001b[0;34m()\u001b[0m\n\u001b[0;32m----> 1\u001b[0;31m \u001b[0md\u001b[0m\u001b[0;34m[\u001b[0m\u001b[0;34m'python'\u001b[0m\u001b[0;34m]\u001b[0m     \u001b[0;31m# KeyError\u001b[0m\u001b[0;34m\u001b[0m\u001b[0m\n\u001b[0m",
      "\u001b[0;31mKeyError\u001b[0m: 'python'"
     ]
    }
   ],
   "source": [
    "d['python']     # KeyError"
   ]
  },
  {
   "cell_type": "markdown",
   "metadata": {
    "slideshow": {
     "slide_type": "subslide"
    }
   },
   "source": [
    "## 참고: help()\n",
    "* help(symbol): built-in function\n",
    "    * 도움말을 출력\n",
    "    * argument, docstring 등을 보여줌"
   ]
  },
  {
   "cell_type": "code",
   "execution_count": 5,
   "metadata": {
    "slideshow": {
     "slide_type": "fragment"
    }
   },
   "outputs": [
    {
     "name": "stdout",
     "output_type": "stream",
     "text": [
      "Help on built-in function sorted in module builtins:\n",
      "\n",
      "sorted(iterable, /, *, key=None, reverse=False)\n",
      "    Return a new list containing all items from the iterable in ascending order.\n",
      "    \n",
      "    A custom key function can be supplied to customize the sort order, and the\n",
      "    reverse flag can be set to request the result in descending order.\n",
      "\n"
     ]
    }
   ],
   "source": [
    "help(sorted)"
   ]
  },
  {
   "cell_type": "markdown",
   "metadata": {
    "slideshow": {
     "slide_type": "subslide"
    }
   },
   "source": [
    "## NameError\n",
    "* NameError: 없는 symbol에 접근할 때"
   ]
  },
  {
   "cell_type": "code",
   "execution_count": 6,
   "metadata": {
    "slideshow": {
     "slide_type": "fragment"
    }
   },
   "outputs": [
    {
     "ename": "NameError",
     "evalue": "name 'chain' is not defined",
     "output_type": "error",
     "traceback": [
      "\u001b[0;31m---------------------------------------------------------------------------\u001b[0m",
      "\u001b[0;31mNameError\u001b[0m                                 Traceback (most recent call last)",
      "\u001b[0;32m<ipython-input-6-dace80e91504>\u001b[0m in \u001b[0;36m<module>\u001b[0;34m()\u001b[0m\n\u001b[0;32m----> 1\u001b[0;31m \u001b[0mhelp\u001b[0m\u001b[0;34m(\u001b[0m\u001b[0mchain\u001b[0m\u001b[0;34m)\u001b[0m\u001b[0;34m\u001b[0m\u001b[0m\n\u001b[0m",
      "\u001b[0;31mNameError\u001b[0m: name 'chain' is not defined"
     ]
    }
   ],
   "source": [
    "help(chain)"
   ]
  },
  {
   "cell_type": "markdown",
   "metadata": {
    "slideshow": {
     "slide_type": "subslide"
    }
   },
   "source": [
    "## 참고: int()\n",
    "* int(s, base=10)\n",
    "    * str으로 표현된 숫자를 int로 변환\n",
    "    * base=0이면 hex, dec, oct 구분하여 변환"
   ]
  },
  {
   "cell_type": "code",
   "execution_count": 7,
   "metadata": {
    "slideshow": {
     "slide_type": "fragment"
    }
   },
   "outputs": [
    {
     "name": "stdout",
     "output_type": "stream",
     "text": [
      "12\n",
      "12\n"
     ]
    }
   ],
   "source": [
    "print(int('12'))\n",
    "print(int('0xc', base=0))"
   ]
  },
  {
   "cell_type": "markdown",
   "metadata": {
    "slideshow": {
     "slide_type": "subslide"
    }
   },
   "source": [
    "## try/except/finally\n",
    "* try: exception 발생 가능한 코드 블럭을 지정\n",
    "* except: exception이 발생했을 때 정리를 위한 코드 블럭 지정 (복수 지정 가능)\n",
    "* finally: exception 발생 여부와 상관 없이 실행해야 할 코드 지정 (optional)\n",
    "    * try에서 획득한 resource나 lock의 해제를 수행하는 코드가 여기에 위치해야 함"
   ]
  },
  {
   "cell_type": "markdown",
   "metadata": {
    "slideshow": {
     "slide_type": "subslide"
    }
   },
   "source": [
    "## try/except/finally\n",
    "\n",
    "```python\n",
    "try:\n",
    "    <code block>\n",
    "except [<exception_type> [as <exception_var>]:\n",
    "    <code block>\n",
    "[finally:\n",
    "    <code block>]\n",
    "```"
   ]
  },
  {
   "cell_type": "markdown",
   "metadata": {
    "slideshow": {
     "slide_type": "subslide"
    }
   },
   "source": [
    "## try example\n",
    "* raise: exception을 일으키는 statement\n",
    "    * except 절에서 object 없이 사용하면 except가 받은 exception을 try/except 밖으로 전달"
   ]
  },
  {
   "cell_type": "code",
   "execution_count": 8,
   "metadata": {
    "slideshow": {
     "slide_type": "fragment"
    }
   },
   "outputs": [
    {
     "name": "stdout",
     "output_type": "stream",
     "text": [
      "division by zero\n"
     ]
    },
    {
     "ename": "ZeroDivisionError",
     "evalue": "division by zero",
     "output_type": "error",
     "traceback": [
      "\u001b[0;31m---------------------------------------------------------------------------\u001b[0m",
      "\u001b[0;31mZeroDivisionError\u001b[0m                         Traceback (most recent call last)",
      "\u001b[0;32m<ipython-input-8-85035fb26f61>\u001b[0m in \u001b[0;36m<module>\u001b[0;34m()\u001b[0m\n\u001b[1;32m      6\u001b[0m         \u001b[0;32mraise\u001b[0m\u001b[0;34m\u001b[0m\u001b[0m\n\u001b[1;32m      7\u001b[0m \u001b[0;34m\u001b[0m\u001b[0m\n\u001b[0;32m----> 8\u001b[0;31m \u001b[0mprint\u001b[0m\u001b[0;34m(\u001b[0m\u001b[0mdiv\u001b[0m\u001b[0;34m(\u001b[0m\u001b[0;36m2\u001b[0m\u001b[0;34m,\u001b[0m \u001b[0;36m0\u001b[0m\u001b[0;34m)\u001b[0m\u001b[0;34m)\u001b[0m\u001b[0;34m\u001b[0m\u001b[0m\n\u001b[0m",
      "\u001b[0;32m<ipython-input-8-85035fb26f61>\u001b[0m in \u001b[0;36mdiv\u001b[0;34m(x, y)\u001b[0m\n\u001b[1;32m      1\u001b[0m \u001b[0;32mdef\u001b[0m \u001b[0mdiv\u001b[0m\u001b[0;34m(\u001b[0m\u001b[0mx\u001b[0m\u001b[0;34m,\u001b[0m \u001b[0my\u001b[0m\u001b[0;34m)\u001b[0m\u001b[0;34m:\u001b[0m\u001b[0;34m\u001b[0m\u001b[0m\n\u001b[1;32m      2\u001b[0m     \u001b[0;32mtry\u001b[0m\u001b[0;34m:\u001b[0m\u001b[0;34m\u001b[0m\u001b[0m\n\u001b[0;32m----> 3\u001b[0;31m         \u001b[0;32mreturn\u001b[0m \u001b[0mx\u001b[0m\u001b[0;34m/\u001b[0m\u001b[0my\u001b[0m\u001b[0;34m\u001b[0m\u001b[0m\n\u001b[0m\u001b[1;32m      4\u001b[0m     \u001b[0;32mexcept\u001b[0m \u001b[0mZeroDivisionError\u001b[0m \u001b[0;32mas\u001b[0m \u001b[0me\u001b[0m\u001b[0;34m:\u001b[0m\u001b[0;34m\u001b[0m\u001b[0m\n\u001b[1;32m      5\u001b[0m         \u001b[0mprint\u001b[0m\u001b[0;34m(\u001b[0m\u001b[0me\u001b[0m\u001b[0;34m)\u001b[0m\u001b[0;34m\u001b[0m\u001b[0m\n",
      "\u001b[0;31mZeroDivisionError\u001b[0m: division by zero"
     ]
    }
   ],
   "source": [
    "def div(x, y):\n",
    "    try:\n",
    "        return x/y\n",
    "    except ZeroDivisionError as e:\n",
    "        print(e)\n",
    "        raise\n",
    "\n",
    "print(div(2, 0))"
   ]
  },
  {
   "cell_type": "markdown",
   "metadata": {
    "slideshow": {
     "slide_type": "subslide"
    }
   },
   "source": [
    "## try example\n",
    "* Exception을 처리하고 try/except 밖으로 전달하지 않는 경우"
   ]
  },
  {
   "cell_type": "code",
   "execution_count": 9,
   "metadata": {
    "slideshow": {
     "slide_type": "fragment"
    }
   },
   "outputs": [
    {
     "name": "stdout",
     "output_type": "stream",
     "text": [
      "0\n"
     ]
    }
   ],
   "source": [
    "def div(x, y):\n",
    "    try:\n",
    "        result = x/y\n",
    "    except ZeroDivisionError:\n",
    "        result = 0\n",
    "    return result\n",
    "\n",
    "print(div(2, 0))"
   ]
  },
  {
   "cell_type": "markdown",
   "metadata": {
    "slideshow": {
     "slide_type": "subslide"
    }
   },
   "source": [
    "## try example\n",
    "* 여러 except 절이 있는 경우\n",
    "    * exception 종류에 따라 처리를 달리 해야 하는 경우\n",
    "    * 정의된 순서대로 match 수행"
   ]
  },
  {
   "cell_type": "code",
   "execution_count": 10,
   "metadata": {
    "slideshow": {
     "slide_type": "fragment"
    }
   },
   "outputs": [
    {
     "name": "stdout",
     "output_type": "stream",
     "text": [
      "0\n",
      "None\n"
     ]
    }
   ],
   "source": [
    "def div(x, y):\n",
    "    try:\n",
    "        result = x/y\n",
    "    except ZeroDivisionError:\n",
    "        result = 0\n",
    "    except Exception as e:\n",
    "        result = None\n",
    "    return result\n",
    "\n",
    "print(div(2, 0))\n",
    "print(div('x', 1))"
   ]
  },
  {
   "cell_type": "markdown",
   "metadata": {
    "slideshow": {
     "slide_type": "slide"
    }
   },
   "source": [
    "## IO\n",
    "* open\n",
    "* with\n",
    "* write / read\n",
    "* StringIO"
   ]
  },
  {
   "cell_type": "markdown",
   "metadata": {
    "slideshow": {
     "slide_type": "subslide"
    }
   },
   "source": [
    "## open\n",
    "* open(file_path, mode='r')\n",
    "    * file을 열고 file obj를 돌려줌\n",
    "* mode\n",
    "    * 'r': read mode\n",
    "    * 'w': write mode\n",
    "    * 'a': append mode\n",
    "    * 'b': binary mode"
   ]
  },
  {
   "cell_type": "markdown",
   "metadata": {
    "slideshow": {
     "slide_type": "subslide"
    }
   },
   "source": [
    "## with\n",
    "* with: context manager\n",
    "    * code block에 들어올 때, resource를 할당\n",
    "    * code block에서 나갈 때, resource 해제\n",
    "\n",
    "```python\n",
    "with <create> as <resource>:\n",
    "    <code block>\n",
    "```"
   ]
  },
  {
   "cell_type": "markdown",
   "metadata": {
    "slideshow": {
     "slide_type": "subslide"
    }
   },
   "source": [
    "## with\n",
    "* IO operation을 with 내부에서 하면, resource 할당/해제를 편하고 명시적으로 수행할 수 있다"
   ]
  },
  {
   "cell_type": "code",
   "execution_count": 11,
   "metadata": {
    "slideshow": {
     "slide_type": "fragment"
    }
   },
   "outputs": [],
   "source": [
    "with open('some.txt', 'w') as f:    # 'some.txt'를 생성하여 f에 할당\n",
    "    ...                             # f를 가지고 operation 수행\n",
    "# with를 빠져 나오면 f는 닫힌 상태가 된다.\n",
    "assert f.closed        "
   ]
  },
  {
   "cell_type": "markdown",
   "metadata": {
    "slideshow": {
     "slide_type": "subslide"
    }
   },
   "source": [
    "## write\n",
    "* f.write(str): file에 str을 쓰고, 기록된 character 수를 리턴\n",
    "* str(obj): obj의 string 표현"
   ]
  },
  {
   "cell_type": "code",
   "execution_count": 13,
   "metadata": {
    "slideshow": {
     "slide_type": "fragment"
    }
   },
   "outputs": [
    {
     "name": "stdout",
     "output_type": "stream",
     "text": [
      "29\n"
     ]
    }
   ],
   "source": [
    "l = ['apple', 'orange', 'banana']\n",
    "with open('some.txt', 'w') as f:\n",
    "    for i in range(2):\n",
    "        n = f.write(str(l))\n",
    "print(n)"
   ]
  },
  {
   "cell_type": "markdown",
   "metadata": {
    "slideshow": {
     "slide_type": "fragment"
    }
   },
   "source": [
    "['apple', 'orange', 'banana']['apple', 'orange', 'banana']"
   ]
  },
  {
   "cell_type": "markdown",
   "metadata": {
    "slideshow": {
     "slide_type": "subslide"
    }
   },
   "source": [
    "## print to file\n",
    "* print(value, ..., end=' ', file=sys.stdout)\n",
    "    * file 지정을 바꾸면 그 파일로 formatted string 출력"
   ]
  },
  {
   "cell_type": "code",
   "execution_count": 15,
   "metadata": {
    "slideshow": {
     "slide_type": "fragment"
    }
   },
   "outputs": [],
   "source": [
    "l = ['apple', 'orange', 'banana']\n",
    "with open('some.txt', 'w') as f:\n",
    "    for e in l:\n",
    "        print(e, file=f)"
   ]
  },
  {
   "cell_type": "markdown",
   "metadata": {
    "slideshow": {
     "slide_type": "fragment"
    }
   },
   "source": [
    "apple  \n",
    "orange  \n",
    "banana"
   ]
  },
  {
   "cell_type": "markdown",
   "metadata": {
    "slideshow": {
     "slide_type": "subslide"
    }
   },
   "source": [
    "## read\n",
    "* read(size=-1)\n",
    "    * read at most n characters from stream\n",
    "    * -1: EOF(end-of-file)까지 읽음 (버퍼 크기에 주의)"
   ]
  },
  {
   "cell_type": "code",
   "execution_count": 16,
   "metadata": {
    "slideshow": {
     "slide_type": "fragment"
    }
   },
   "outputs": [
    {
     "name": "stdout",
     "output_type": "stream",
     "text": [
      "apple\n",
      "orange\n",
      "banana\n",
      "\n"
     ]
    }
   ],
   "source": [
    "with open('some.txt') as f:\n",
    "    read_data = f.read()    # File 전체를 읽음\n",
    "print(read_data)"
   ]
  },
  {
   "cell_type": "markdown",
   "metadata": {
    "slideshow": {
     "slide_type": "subslide"
    }
   },
   "source": [
    "## readlines\n",
    "* readline(): return a list of lines from the stream"
   ]
  },
  {
   "cell_type": "code",
   "execution_count": 17,
   "metadata": {
    "slideshow": {
     "slide_type": "fragment"
    }
   },
   "outputs": [
    {
     "name": "stdout",
     "output_type": "stream",
     "text": [
      "['apple\\n', 'orange\\n', 'banana\\n']\n",
      "apple\n",
      "orange\n",
      "banana\n"
     ]
    }
   ],
   "source": [
    "with open('some.txt') as f:\n",
    "    lines = f.readlines()    # File 전체를 읽음\n",
    "print(lines)\n",
    "for line in lines:\n",
    "    print(line, end='')"
   ]
  },
  {
   "cell_type": "markdown",
   "metadata": {
    "slideshow": {
     "slide_type": "subslide"
    }
   },
   "source": [
    "## line-by-line operation\n",
    "* file_obj이 iterable하며, 원소로 line을 돌려준다\n",
    "    * line의 끝에는 '\\n' 존재\n",
    "    * 마지막 line은 '\\n'을 갖고 있지 않을 수 있다 \n",
    "* File 전체를 읽는 것보다 효율적"
   ]
  },
  {
   "cell_type": "code",
   "execution_count": 18,
   "metadata": {
    "slideshow": {
     "slide_type": "fragment"
    }
   },
   "outputs": [
    {
     "name": "stdout",
     "output_type": "stream",
     "text": [
      "apple\n",
      "orange\n",
      "banana\n"
     ]
    }
   ],
   "source": [
    "with open('some.txt') as f:\n",
    "    for line in f:\n",
    "        print(line, end='')"
   ]
  },
  {
   "cell_type": "markdown",
   "metadata": {
    "slideshow": {
     "slide_type": "subslide"
    }
   },
   "source": [
    "## StringIO\n",
    "* file은 character(t)/byte stream(b)으로 정의됨\n",
    "* string도 이 특성을 만족하므로 file처럼 쓸 수 있다\n",
    "* StringIO를 open 대신에 사용"
   ]
  },
  {
   "cell_type": "code",
   "execution_count": 20,
   "metadata": {
    "slideshow": {
     "slide_type": "fragment"
    }
   },
   "outputs": [
    {
     "name": "stdout",
     "output_type": "stream",
     "text": [
      "1st line\n",
      "2nd line"
     ]
    }
   ],
   "source": [
    "from io import StringIO\n",
    "\n",
    "test_str = \"\"\"1st line\n",
    "2nd line\"\"\"\n",
    "\n",
    "f = StringIO(test_str)\n",
    "for line in f:\n",
    "    print(line, end='')"
   ]
  },
  {
   "cell_type": "markdown",
   "metadata": {
    "slideshow": {
     "slide_type": "slide"
    }
   },
   "source": [
    "## Serialization\n",
    "* 소개\n",
    "* pickle\n",
    "* JSON"
   ]
  },
  {
   "cell_type": "markdown",
   "metadata": {
    "slideshow": {
     "slide_type": "subslide"
    }
   },
   "source": [
    "## Terms in context\n",
    "* Process\n",
    "    * Program이 실행되어 있는 상태\n",
    "* State\n",
    "    * Memory에 저장되어 있는 내용\n",
    "* File \n",
    "    * A stream of character / byte"
   ]
  },
  {
   "cell_type": "markdown",
   "metadata": {
    "slideshow": {
     "slide_type": "subslide"
    }
   },
   "source": [
    "## Serialization\n",
    "> Process of translating data structures or object state into a format that can be stored (for example, in a file or memory buffer) or transmitted (for example, across a network connection link) and reconstructed later (possibly in a different computer environment)\n",
    "\n",
    "_(from wikipedia)_"
   ]
  },
  {
   "cell_type": "markdown",
   "metadata": {
    "slideshow": {
     "slide_type": "subslide"
    }
   },
   "source": [
    "## Serialization\n",
    "* Object를 file에 저장하거나 전송하기 위해서 character / byte stream으로 만드는 일\n",
    "* 반대의 경우는 de-serialization으로 부른다\n",
    "* Data persistence (영속성)\n",
    "    * Process가 죽으면 object도 사라지지만, serialize 및 저장된 데이터는 계속 살아 남을 수 있다"
   ]
  },
  {
   "cell_type": "markdown",
   "metadata": {
    "slideshow": {
     "slide_type": "subslide"
    }
   },
   "source": [
    "## Serialization library\n",
    "* Serialize 방식에 따라 여러 라이브러리 존재\n",
    "    * Binary format: pickle\n",
    "    * Human readable format: XML, YAML, JSON\n",
    "    * Database: sqlite3\n",
    "* 인터페이스는 거의 동일함"
   ]
  },
  {
   "cell_type": "markdown",
   "metadata": {
    "slideshow": {
     "slide_type": "subslide"
    }
   },
   "source": [
    "## Pickle\n",
    "* Python standard library에 존재\n",
    "* 현재 버전은 binary format\n",
    "* 장점: Binary format이므로 text format보다 크기가 작다\n",
    "* 단점\n",
    "    * Binary format이므로 저장된 데이터를 사람이 보기 어렵다\n",
    "    * Python 전용 포멧이기 때문에 다른 언어로 만들어진 프로그램과 통신하기 어렵다"
   ]
  },
  {
   "cell_type": "markdown",
   "metadata": {
    "slideshow": {
     "slide_type": "subslide"
    }
   },
   "source": [
    "## Pickle example\n",
    "* Object"
   ]
  },
  {
   "cell_type": "code",
   "execution_count": 21,
   "metadata": {
    "slideshow": {
     "slide_type": "fragment"
    }
   },
   "outputs": [
    {
     "name": "stdout",
     "output_type": "stream",
     "text": [
      "SomeType(4)\n",
      "SomeType(4)\n"
     ]
    }
   ],
   "source": [
    "from pickle import dump, load\n",
    "class SomeType:\n",
    "    def __init__(self, a):\n",
    "        self.a = a\n",
    "    def __repr__(self):\n",
    "        return 'SomeType({})'.format(self.a)\n",
    "\n",
    "x = SomeType(4)\n",
    "print(x)\n",
    "with open('x.pickle', 'wb') as f:   # Binary file\n",
    "    dump(x, f)\n",
    "\n",
    "with open('x.pickle', 'rb') as f:\n",
    "    ax = load(f)\n",
    "print(ax)"
   ]
  },
  {
   "cell_type": "markdown",
   "metadata": {
    "slideshow": {
     "slide_type": "subslide"
    }
   },
   "source": [
    "## Pickle example\n",
    "* list and dict"
   ]
  },
  {
   "cell_type": "code",
   "execution_count": 22,
   "metadata": {
    "slideshow": {
     "slide_type": "fragment"
    }
   },
   "outputs": [
    {
     "name": "stdout",
     "output_type": "stream",
     "text": [
      "['a', 'b', 'c'] {'A': 0, 'C': 2, 'B': 1}\n"
     ]
    }
   ],
   "source": [
    "from pickle import dump, load\n",
    "l = ['a', 'b', 'c']\n",
    "d = {'A': 0, 'B': 1, 'C': 2}\n",
    "\n",
    "with open('ld.pickle', 'wb') as f:\n",
    "    dump(l, f)\n",
    "    dump(d, f)\n",
    "\n",
    "with open('ld.pickle', 'rb') as f:\n",
    "    al = load(f)\n",
    "    ad = load(f)\n",
    "print(al, ad)"
   ]
  },
  {
   "cell_type": "markdown",
   "metadata": {
    "slideshow": {
     "slide_type": "subslide"
    }
   },
   "source": [
    "## Pickle\n",
    "* file이 아닌 string 사용: dumps, loads\n",
    "    * 끝에 s가 붙어 있는 것에 주의"
   ]
  },
  {
   "cell_type": "code",
   "execution_count": 24,
   "metadata": {
    "slideshow": {
     "slide_type": "fragment"
    }
   },
   "outputs": [
    {
     "name": "stdout",
     "output_type": "stream",
     "text": [
      "b'\\x80\\x03]q\\x00(X\\x01\\x00\\x00\\x00aq\\x01X\\x01\\x00\\x00\\x00bq\\x02X\\x01\\x00\\x00\\x00cq\\x03e.'\n",
      "['a', 'b', 'c']\n"
     ]
    }
   ],
   "source": [
    "from pickle import dumps, loads\n",
    "\n",
    "l = ['a', 'b', 'c']\n",
    "l_str = dumps(l)\n",
    "print(l_str)\n",
    "al = loads(l_str)\n",
    "print(al)"
   ]
  },
  {
   "cell_type": "markdown",
   "metadata": {
    "slideshow": {
     "slide_type": "subslide"
    }
   },
   "source": [
    "## json\n",
    "* JSON: JavaScript Object Notation\n",
    "* 비동기 브라우저-서버 통신 (AJAX)을 위해, XML을 대체하는 주요 표준 데이터 포맷 (RFC 7159, ECMA-404)\n",
    "* 장점: 인간이 읽을 수 있는 텍스트 포멧\n",
    "* 단점\n",
    "    * Binary format보다는 크기가 크다\n",
    "    * Comment는 지원하지 않는다\n",
    "    * Object를 dump하기 위해서는 추가적인 일이 필요하다"
   ]
  },
  {
   "cell_type": "markdown",
   "metadata": {
    "slideshow": {
     "slide_type": "subslide"
    }
   },
   "source": [
    "## json data type\n",
    "* Number: 7, 12, -2, 3.14, 5.67E+10\n",
    "* String: \"\"로 둘러싸인 문자열 (''는 허용 안 됨)\n",
    "* Array: []로 둘러싸인 comma-separated elements\n",
    "* Object: {}로 둘러싸인 key: value 쌍들로 정의\n",
    "* Boolean: true, false\n",
    "* null: 빈 object"
   ]
  },
  {
   "cell_type": "markdown",
   "metadata": {
    "slideshow": {
     "slide_type": "subslide"
    }
   },
   "source": [
    "## json example\n",
    "\n",
    "```json\n",
    "{\n",
    "    \"이름\": \"테스트\",\n",
    "    \"나이\": 25,\n",
    "    \"특기\": [\"농구\", \"도술\"],\n",
    "    \"가족관계\": {\"아버지\": \"홍판서\", \"어머니\": \"춘섬\"},\n",
    "}\n",
    "```\n",
    "\n",
    "```json\n",
    "[\n",
    "    {\"name\": \"Jay\", \"age\": 30},\n",
    "    {\"name\": \"Rucy\", \"age\":35}\n",
    "]\n",
    "```"
   ]
  },
  {
   "cell_type": "markdown",
   "metadata": {
    "slideshow": {
     "slide_type": "subslide"
    }
   },
   "source": [
    "## json example\n",
    "* list and dict"
   ]
  },
  {
   "cell_type": "code",
   "execution_count": 26,
   "metadata": {
    "slideshow": {
     "slide_type": "fragment"
    }
   },
   "outputs": [
    {
     "name": "stdout",
     "output_type": "stream",
     "text": [
      "['a', 'b', 'c'] {'A': 0, 'C': 2, 'B': 1}\n"
     ]
    }
   ],
   "source": [
    "from json import dump, load\n",
    "\n",
    "l = ['a', 'b', 'c']\n",
    "d = {'A': 0, 'B': 1, 'C': 2}\n",
    "\n",
    "with open('ld.json', 'w') as f: # Text file\n",
    "    dump((l, d), f)\n",
    "\n",
    "with open('ld.json') as f:\n",
    "    al, ad = load(f)\n",
    "print(al, ad)"
   ]
  },
  {
   "cell_type": "markdown",
   "metadata": {
    "slideshow": {
     "slide_type": "subslide"
    }
   },
   "source": [
    "## json example\n",
    "* file이 아닌 string 사용"
   ]
  },
  {
   "cell_type": "code",
   "execution_count": 27,
   "metadata": {
    "slideshow": {
     "slide_type": "fragment"
    }
   },
   "outputs": [
    {
     "name": "stdout",
     "output_type": "stream",
     "text": [
      "[\"a\", \"b\", \"c\"]\n",
      "['a', 'b', 'c']\n"
     ]
    }
   ],
   "source": [
    "from json import dumps, loads\n",
    "\n",
    "l = ['a', 'b', 'c']\n",
    "l_str = dumps(l)\n",
    "print(l_str)\n",
    "al = loads(l_str)\n",
    "print(al)"
   ]
  },
  {
   "cell_type": "markdown",
   "metadata": {
    "slideshow": {
     "slide_type": "subslide"
    }
   },
   "source": [
    "## json example\n",
    "* Pretty format"
   ]
  },
  {
   "cell_type": "code",
   "execution_count": 28,
   "metadata": {
    "slideshow": {
     "slide_type": "fragment"
    }
   },
   "outputs": [
    {
     "name": "stdout",
     "output_type": "stream",
     "text": [
      "[\n",
      "    \"a\",\n",
      "    {\n",
      "        \"red\": 16711680,\n",
      "        \"green\": 65280,\n",
      "        \"blue\": 255\n",
      "    }\n",
      "]\n"
     ]
    }
   ],
   "source": [
    "from json import dumps, loads\n",
    "\n",
    "l = ['a', {'red': 0xff0000, 'green': 0x00ff00, 'blue': 0x0000ff}]\n",
    "l_str = dumps(l, indent=4)\n",
    "print(l_str)"
   ]
  },
  {
   "cell_type": "markdown",
   "metadata": {
    "slideshow": {
     "slide_type": "subslide"
    }
   },
   "source": [
    "## json obj dump\n",
    "* Object: str, list, dict 등으로 변환 후 dump\n",
    "    * 사용자가 직접 변환\n",
    "    * default() 함수를 통해 JSON serializable object로 변환\n",
    "    * Override the JSONEncoder.default()"
   ]
  },
  {
   "cell_type": "markdown",
   "metadata": {
    "slideshow": {
     "slide_type": "subslide"
    }
   },
   "source": [
    "## json obj dump\n",
    "* Object is not JSON serializable"
   ]
  },
  {
   "cell_type": "code",
   "execution_count": 29,
   "metadata": {
    "slideshow": {
     "slide_type": "fragment"
    }
   },
   "outputs": [
    {
     "name": "stdout",
     "output_type": "stream",
     "text": [
      "SomeType(4)\n"
     ]
    },
    {
     "ename": "TypeError",
     "evalue": "SomeType(4) is not JSON serializable",
     "output_type": "error",
     "traceback": [
      "\u001b[0;31m---------------------------------------------------------------------------\u001b[0m",
      "\u001b[0;31mTypeError\u001b[0m                                 Traceback (most recent call last)",
      "\u001b[0;32m<ipython-input-29-5b008e9622a7>\u001b[0m in \u001b[0;36m<module>\u001b[0;34m()\u001b[0m\n\u001b[1;32m     10\u001b[0m \u001b[0mprint\u001b[0m\u001b[0;34m(\u001b[0m\u001b[0mx\u001b[0m\u001b[0;34m)\u001b[0m\u001b[0;34m\u001b[0m\u001b[0m\n\u001b[1;32m     11\u001b[0m \u001b[0;32mwith\u001b[0m \u001b[0mopen\u001b[0m\u001b[0;34m(\u001b[0m\u001b[0;34m'x.json'\u001b[0m\u001b[0;34m,\u001b[0m \u001b[0;34m'w'\u001b[0m\u001b[0;34m)\u001b[0m \u001b[0;32mas\u001b[0m \u001b[0mf\u001b[0m\u001b[0;34m:\u001b[0m\u001b[0;34m\u001b[0m\u001b[0m\n\u001b[0;32m---> 12\u001b[0;31m     \u001b[0mdump\u001b[0m\u001b[0;34m(\u001b[0m\u001b[0mx\u001b[0m\u001b[0;34m,\u001b[0m \u001b[0mf\u001b[0m\u001b[0;34m)\u001b[0m         \u001b[0;31m# x is not JSON serializable\u001b[0m\u001b[0;34m\u001b[0m\u001b[0m\n\u001b[0m",
      "\u001b[0;32m~/anaconda3_420/lib/python3.5/json/__init__.py\u001b[0m in \u001b[0;36mdump\u001b[0;34m(obj, fp, skipkeys, ensure_ascii, check_circular, allow_nan, cls, indent, separators, default, sort_keys, **kw)\u001b[0m\n\u001b[1;32m    176\u001b[0m     \u001b[0;31m# could accelerate with writelines in some versions of Python, at\u001b[0m\u001b[0;34m\u001b[0m\u001b[0;34m\u001b[0m\u001b[0m\n\u001b[1;32m    177\u001b[0m     \u001b[0;31m# a debuggability cost\u001b[0m\u001b[0;34m\u001b[0m\u001b[0;34m\u001b[0m\u001b[0m\n\u001b[0;32m--> 178\u001b[0;31m     \u001b[0;32mfor\u001b[0m \u001b[0mchunk\u001b[0m \u001b[0;32min\u001b[0m \u001b[0miterable\u001b[0m\u001b[0;34m:\u001b[0m\u001b[0;34m\u001b[0m\u001b[0m\n\u001b[0m\u001b[1;32m    179\u001b[0m         \u001b[0mfp\u001b[0m\u001b[0;34m.\u001b[0m\u001b[0mwrite\u001b[0m\u001b[0;34m(\u001b[0m\u001b[0mchunk\u001b[0m\u001b[0;34m)\u001b[0m\u001b[0;34m\u001b[0m\u001b[0m\n\u001b[1;32m    180\u001b[0m \u001b[0;34m\u001b[0m\u001b[0m\n",
      "\u001b[0;32m~/anaconda3_420/lib/python3.5/json/encoder.py\u001b[0m in \u001b[0;36m_iterencode\u001b[0;34m(o, _current_indent_level)\u001b[0m\n\u001b[1;32m    434\u001b[0m                     \u001b[0;32mraise\u001b[0m \u001b[0mValueError\u001b[0m\u001b[0;34m(\u001b[0m\u001b[0;34m\"Circular reference detected\"\u001b[0m\u001b[0;34m)\u001b[0m\u001b[0;34m\u001b[0m\u001b[0m\n\u001b[1;32m    435\u001b[0m                 \u001b[0mmarkers\u001b[0m\u001b[0;34m[\u001b[0m\u001b[0mmarkerid\u001b[0m\u001b[0;34m]\u001b[0m \u001b[0;34m=\u001b[0m \u001b[0mo\u001b[0m\u001b[0;34m\u001b[0m\u001b[0m\n\u001b[0;32m--> 436\u001b[0;31m             \u001b[0mo\u001b[0m \u001b[0;34m=\u001b[0m \u001b[0m_default\u001b[0m\u001b[0;34m(\u001b[0m\u001b[0mo\u001b[0m\u001b[0;34m)\u001b[0m\u001b[0;34m\u001b[0m\u001b[0m\n\u001b[0m\u001b[1;32m    437\u001b[0m             \u001b[0;32myield\u001b[0m \u001b[0;32mfrom\u001b[0m \u001b[0m_iterencode\u001b[0m\u001b[0;34m(\u001b[0m\u001b[0mo\u001b[0m\u001b[0;34m,\u001b[0m \u001b[0m_current_indent_level\u001b[0m\u001b[0;34m)\u001b[0m\u001b[0;34m\u001b[0m\u001b[0m\n\u001b[1;32m    438\u001b[0m             \u001b[0;32mif\u001b[0m \u001b[0mmarkers\u001b[0m \u001b[0;32mis\u001b[0m \u001b[0;32mnot\u001b[0m \u001b[0;32mNone\u001b[0m\u001b[0;34m:\u001b[0m\u001b[0;34m\u001b[0m\u001b[0m\n",
      "\u001b[0;32m~/anaconda3_420/lib/python3.5/json/encoder.py\u001b[0m in \u001b[0;36mdefault\u001b[0;34m(self, o)\u001b[0m\n\u001b[1;32m    177\u001b[0m \u001b[0;34m\u001b[0m\u001b[0m\n\u001b[1;32m    178\u001b[0m         \"\"\"\n\u001b[0;32m--> 179\u001b[0;31m         \u001b[0;32mraise\u001b[0m \u001b[0mTypeError\u001b[0m\u001b[0;34m(\u001b[0m\u001b[0mrepr\u001b[0m\u001b[0;34m(\u001b[0m\u001b[0mo\u001b[0m\u001b[0;34m)\u001b[0m \u001b[0;34m+\u001b[0m \u001b[0;34m\" is not JSON serializable\"\u001b[0m\u001b[0;34m)\u001b[0m\u001b[0;34m\u001b[0m\u001b[0m\n\u001b[0m\u001b[1;32m    180\u001b[0m \u001b[0;34m\u001b[0m\u001b[0m\n\u001b[1;32m    181\u001b[0m     \u001b[0;32mdef\u001b[0m \u001b[0mencode\u001b[0m\u001b[0;34m(\u001b[0m\u001b[0mself\u001b[0m\u001b[0;34m,\u001b[0m \u001b[0mo\u001b[0m\u001b[0;34m)\u001b[0m\u001b[0;34m:\u001b[0m\u001b[0;34m\u001b[0m\u001b[0m\n",
      "\u001b[0;31mTypeError\u001b[0m: SomeType(4) is not JSON serializable"
     ]
    }
   ],
   "source": [
    "from json import dump, load # The same interface as pickle\n",
    "\n",
    "class SomeType:\n",
    "    def __init__(self, a):\n",
    "        self.a = a\n",
    "    def __repr__(self):\n",
    "        return 'SomeType({})'.format(self.a)\n",
    "\n",
    "x = SomeType(4)\n",
    "print(x)\n",
    "with open('x.json', 'w') as f:\n",
    "    dump(x, f)         # x is not JSON serializable"
   ]
  },
  {
   "cell_type": "markdown",
   "metadata": {
    "slideshow": {
     "slide_type": "subslide"
    }
   },
   "source": [
    "## json obj dump\n",
    "* Object -> dict"
   ]
  },
  {
   "cell_type": "code",
   "execution_count": 30,
   "metadata": {
    "slideshow": {
     "slide_type": "fragment"
    }
   },
   "outputs": [
    {
     "name": "stdout",
     "output_type": "stream",
     "text": [
      "SomeType(4)\n",
      "SomeType(4)\n"
     ]
    }
   ],
   "source": [
    "from json import dump, load # The same interface as pickle\n",
    "\n",
    "class SomeType:\n",
    "    def __init__(self, a):\n",
    "        self.a = a\n",
    "    def __repr__(self):\n",
    "        return 'SomeType({})'.format(self.a)\n",
    "\n",
    "x = SomeType(4)\n",
    "print(x)\n",
    "with open('x.json', 'w') as f:   # Text file\n",
    "    dump(x.__dict__, f)\n",
    "\n",
    "with open('x.json') as f:\n",
    "    ax = SomeType(**load(f))\n",
    "print(ax)"
   ]
  },
  {
   "cell_type": "markdown",
   "metadata": {
    "slideshow": {
     "slide_type": "subslide"
    }
   },
   "source": [
    "## json obj dump\n",
    "* Object -default-> dict"
   ]
  },
  {
   "cell_type": "code",
   "execution_count": 31,
   "metadata": {
    "slideshow": {
     "slide_type": "fragment"
    }
   },
   "outputs": [
    {
     "name": "stdout",
     "output_type": "stream",
     "text": [
      "SomeType(4)\n",
      "SomeType(4)\n"
     ]
    }
   ],
   "source": [
    "from json import dump, load, JSONEncoder\n",
    "\n",
    "class SomeType:\n",
    "    def __init__(self, a):\n",
    "        self.a = a\n",
    "    def __repr__(self):\n",
    "        return 'SomeType({})'.format(self.a)\n",
    "\n",
    "def default(obj):\n",
    "    if isinstance(obj, SomeType):\n",
    "        return obj.__dict__\n",
    "    else:\n",
    "        return obj\n",
    "\n",
    "x = SomeType(4)\n",
    "print(x)\n",
    "with open('x.json', 'w') as f:\n",
    "    dump(x, f, default=default) # passing default\n",
    "\n",
    "with open('x.json') as f:\n",
    "    ax = SomeType(**load(f))\n",
    "print(ax)"
   ]
  },
  {
   "cell_type": "markdown",
   "metadata": {
    "slideshow": {
     "slide_type": "slide"
    }
   },
   "source": [
    "## TODO\n",
    "* list.index()에서 찾는 원소가 없을 때, 빈 str을 리턴하게 하는 예제 추가\n",
    "* Wrap-up 페이지 작성"
   ]
  }
 ],
 "metadata": {
  "celltoolbar": "Slideshow",
  "kernelspec": {
   "display_name": "Python 3",
   "language": "python",
   "name": "python3"
  },
  "language_info": {
   "codemirror_mode": {
    "name": "ipython",
    "version": 3
   },
   "file_extension": ".py",
   "mimetype": "text/x-python",
   "name": "python",
   "nbconvert_exporter": "python",
   "pygments_lexer": "ipython3",
   "version": "3.5.4"
  }
 },
 "nbformat": 4,
 "nbformat_minor": 2
}
